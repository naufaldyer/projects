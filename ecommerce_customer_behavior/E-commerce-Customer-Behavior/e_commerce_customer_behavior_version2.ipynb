{
 "cells": [
  {
   "cell_type": "markdown",
   "metadata": {},
   "source": [
    "# ABOUT THIS PROJECT"
   ]
  },
  {
   "cell_type": "markdown",
   "metadata": {},
   "source": [
    "Name : Naufaldy Erianda\n",
    "\n",
    "This dataset is about e-commerce customer action in their web. I try to do EDA for this data set for get any insight of this data. The objective is i want to **predict will they purchase or not** after they put it in the cart."
   ]
  },
  {
   "cell_type": "markdown",
   "metadata": {},
   "source": [
    "# IMPORT LIBRARY"
   ]
  },
  {
   "cell_type": "code",
   "execution_count": 573,
   "metadata": {},
   "outputs": [],
   "source": [
    "import pandas as pd\n",
    "import numpy as np\n",
    "\n",
    "import matplotlib.pyplot as plt\n",
    "import seaborn as sns\n",
    "\n",
    "import sklearn\n",
    "from sklearn.model_selection import train_test_split\n",
    "from sklearn.preprocessing import StandardScaler, MinMaxScaler\n",
    "from sklearn.preprocessing import OneHotEncoder, OrdinalEncoder, LabelEncoder\n",
    "from sklearn.feature_selection import SelectKBest\n",
    "from sklearn.feature_selection import chi2\n",
    "from feature_engine.outliers import OutlierTrimmer,Winsorizer\n",
    "from imblearn.over_sampling import SMOTENC\n",
    "from sklearn.pipeline import Pipeline\n",
    "from sklearn.compose import ColumnTransformer\n",
    "\n",
    "\n",
    "from sklearn.metrics import classification_report, confusion_matrix\n",
    "from sklearn.metrics import f1_score, recall_score, precision_score\n",
    "import pickle"
   ]
  },
  {
   "cell_type": "markdown",
   "metadata": {},
   "source": [
    "# DATA LOADING"
   ]
  },
  {
   "cell_type": "code",
   "execution_count": 574,
   "metadata": {},
   "outputs": [],
   "source": [
    "df = pd.read_csv('user-events.csv')"
   ]
  },
  {
   "cell_type": "code",
   "execution_count": 575,
   "metadata": {},
   "outputs": [
    {
     "data": {
      "text/html": [
       "<div>\n",
       "<style scoped>\n",
       "    .dataframe tbody tr th:only-of-type {\n",
       "        vertical-align: middle;\n",
       "    }\n",
       "\n",
       "    .dataframe tbody tr th {\n",
       "        vertical-align: top;\n",
       "    }\n",
       "\n",
       "    .dataframe thead th {\n",
       "        text-align: right;\n",
       "    }\n",
       "</style>\n",
       "<table border=\"1\" class=\"dataframe\">\n",
       "  <thead>\n",
       "    <tr style=\"text-align: right;\">\n",
       "      <th></th>\n",
       "      <th>event_time</th>\n",
       "      <th>event_type</th>\n",
       "      <th>product_id</th>\n",
       "      <th>category_id</th>\n",
       "      <th>category_code</th>\n",
       "      <th>brand</th>\n",
       "      <th>price</th>\n",
       "      <th>user_id</th>\n",
       "      <th>user_session</th>\n",
       "    </tr>\n",
       "  </thead>\n",
       "  <tbody>\n",
       "    <tr>\n",
       "      <th>0</th>\n",
       "      <td>2020-09-24 11:57:06 UTC</td>\n",
       "      <td>view</td>\n",
       "      <td>1996170</td>\n",
       "      <td>2144415922528452715</td>\n",
       "      <td>electronics.telephone</td>\n",
       "      <td>NaN</td>\n",
       "      <td>31.90</td>\n",
       "      <td>1515915625519388267</td>\n",
       "      <td>LJuJVLEjPT</td>\n",
       "    </tr>\n",
       "    <tr>\n",
       "      <th>1</th>\n",
       "      <td>2020-09-24 11:57:26 UTC</td>\n",
       "      <td>view</td>\n",
       "      <td>139905</td>\n",
       "      <td>2144415926932472027</td>\n",
       "      <td>computers.components.cooler</td>\n",
       "      <td>zalman</td>\n",
       "      <td>17.16</td>\n",
       "      <td>1515915625519380411</td>\n",
       "      <td>tdicluNnRY</td>\n",
       "    </tr>\n",
       "    <tr>\n",
       "      <th>2</th>\n",
       "      <td>2020-09-24 11:57:27 UTC</td>\n",
       "      <td>view</td>\n",
       "      <td>215454</td>\n",
       "      <td>2144415927158964449</td>\n",
       "      <td>NaN</td>\n",
       "      <td>NaN</td>\n",
       "      <td>9.81</td>\n",
       "      <td>1515915625513238515</td>\n",
       "      <td>4TMArHtXQy</td>\n",
       "    </tr>\n",
       "    <tr>\n",
       "      <th>3</th>\n",
       "      <td>2020-09-24 11:57:33 UTC</td>\n",
       "      <td>view</td>\n",
       "      <td>635807</td>\n",
       "      <td>2144415923107266682</td>\n",
       "      <td>computers.peripherals.printer</td>\n",
       "      <td>pantum</td>\n",
       "      <td>113.81</td>\n",
       "      <td>1515915625519014356</td>\n",
       "      <td>aGFYrNgC08</td>\n",
       "    </tr>\n",
       "    <tr>\n",
       "      <th>4</th>\n",
       "      <td>2020-09-24 11:57:36 UTC</td>\n",
       "      <td>view</td>\n",
       "      <td>3658723</td>\n",
       "      <td>2144415921169498184</td>\n",
       "      <td>NaN</td>\n",
       "      <td>cameronsino</td>\n",
       "      <td>15.87</td>\n",
       "      <td>1515915625510743344</td>\n",
       "      <td>aa4mmk0kwQ</td>\n",
       "    </tr>\n",
       "  </tbody>\n",
       "</table>\n",
       "</div>"
      ],
      "text/plain": [
       "                event_time event_type  product_id          category_id  \\\n",
       "0  2020-09-24 11:57:06 UTC       view     1996170  2144415922528452715   \n",
       "1  2020-09-24 11:57:26 UTC       view      139905  2144415926932472027   \n",
       "2  2020-09-24 11:57:27 UTC       view      215454  2144415927158964449   \n",
       "3  2020-09-24 11:57:33 UTC       view      635807  2144415923107266682   \n",
       "4  2020-09-24 11:57:36 UTC       view     3658723  2144415921169498184   \n",
       "\n",
       "                   category_code        brand   price              user_id  \\\n",
       "0          electronics.telephone          NaN   31.90  1515915625519388267   \n",
       "1    computers.components.cooler       zalman   17.16  1515915625519380411   \n",
       "2                            NaN          NaN    9.81  1515915625513238515   \n",
       "3  computers.peripherals.printer       pantum  113.81  1515915625519014356   \n",
       "4                            NaN  cameronsino   15.87  1515915625510743344   \n",
       "\n",
       "  user_session  \n",
       "0   LJuJVLEjPT  \n",
       "1   tdicluNnRY  \n",
       "2   4TMArHtXQy  \n",
       "3   aGFYrNgC08  \n",
       "4   aa4mmk0kwQ  "
      ]
     },
     "execution_count": 575,
     "metadata": {},
     "output_type": "execute_result"
    }
   ],
   "source": [
    "df.head()"
   ]
  },
  {
   "cell_type": "code",
   "execution_count": 576,
   "metadata": {},
   "outputs": [
    {
     "name": "stdout",
     "output_type": "stream",
     "text": [
      "<class 'pandas.core.frame.DataFrame'>\n",
      "RangeIndex: 885129 entries, 0 to 885128\n",
      "Data columns (total 9 columns):\n",
      " #   Column         Non-Null Count   Dtype  \n",
      "---  ------         --------------   -----  \n",
      " 0   event_time     885129 non-null  object \n",
      " 1   event_type     885129 non-null  object \n",
      " 2   product_id     885129 non-null  int64  \n",
      " 3   category_id    885129 non-null  int64  \n",
      " 4   category_code  648910 non-null  object \n",
      " 5   brand          672765 non-null  object \n",
      " 6   price          885129 non-null  float64\n",
      " 7   user_id        885129 non-null  int64  \n",
      " 8   user_session   884964 non-null  object \n",
      "dtypes: float64(1), int64(3), object(5)\n",
      "memory usage: 60.8+ MB\n"
     ]
    }
   ],
   "source": [
    "df.info()"
   ]
  },
  {
   "cell_type": "code",
   "execution_count": 577,
   "metadata": {},
   "outputs": [
    {
     "data": {
      "text/plain": [
       "event_time            0\n",
       "event_type            0\n",
       "product_id            0\n",
       "category_id           0\n",
       "category_code    236219\n",
       "brand            212364\n",
       "price                 0\n",
       "user_id               0\n",
       "user_session        165\n",
       "dtype: int64"
      ]
     },
     "execution_count": 577,
     "metadata": {},
     "output_type": "execute_result"
    }
   ],
   "source": [
    "df.isnull().sum()"
   ]
  },
  {
   "cell_type": "code",
   "execution_count": 578,
   "metadata": {},
   "outputs": [
    {
     "name": "stdout",
     "output_type": "stream",
     "text": [
      "missing value of category_code :  26.687522383742934\n",
      "missing value of brand :  23.992435000999855\n",
      "missing value of user_session :  0.018641350582796406\n"
     ]
    }
   ],
   "source": [
    "#check pescentage of missing values\n",
    "\n",
    "print('missing value of category_code : ', df['category_code'].isnull().sum()/len(df['category_code'])*100)\n",
    "print('missing value of brand : ', df['brand'].isnull().sum()/len(df['brand'])*100)\n",
    "print('missing value of user_session : ', df['user_session'].isnull().sum()/len(df['user_session'])*100)"
   ]
  },
  {
   "cell_type": "markdown",
   "metadata": {},
   "source": [
    "There is so many missing value data, for minimalize missing value i will change missing value of category to 'other', because there is a chance that category product that is not match with available category in website."
   ]
  },
  {
   "cell_type": "code",
   "execution_count": 579,
   "metadata": {},
   "outputs": [
    {
     "name": "stdout",
     "output_type": "stream",
     "text": [
      "duplicated data : 655\n"
     ]
    }
   ],
   "source": [
    "#check duplicated\n",
    "\n",
    "print('duplicated data :',df.duplicated().sum())"
   ]
  },
  {
   "cell_type": "code",
   "execution_count": 580,
   "metadata": {},
   "outputs": [
    {
     "data": {
      "text/html": [
       "<div>\n",
       "<style scoped>\n",
       "    .dataframe tbody tr th:only-of-type {\n",
       "        vertical-align: middle;\n",
       "    }\n",
       "\n",
       "    .dataframe tbody tr th {\n",
       "        vertical-align: top;\n",
       "    }\n",
       "\n",
       "    .dataframe thead th {\n",
       "        text-align: right;\n",
       "    }\n",
       "</style>\n",
       "<table border=\"1\" class=\"dataframe\">\n",
       "  <thead>\n",
       "    <tr style=\"text-align: right;\">\n",
       "      <th></th>\n",
       "      <th>event_time</th>\n",
       "      <th>event_type</th>\n",
       "      <th>product_id</th>\n",
       "      <th>category_id</th>\n",
       "      <th>category_code</th>\n",
       "      <th>brand</th>\n",
       "      <th>price</th>\n",
       "      <th>user_id</th>\n",
       "      <th>user_session</th>\n",
       "    </tr>\n",
       "  </thead>\n",
       "  <tbody>\n",
       "    <tr>\n",
       "      <th>0</th>\n",
       "      <td>2020-09-24 11:57:06 UTC</td>\n",
       "      <td>view</td>\n",
       "      <td>1996170</td>\n",
       "      <td>2144415922528452715</td>\n",
       "      <td>electronics.telephone</td>\n",
       "      <td>NaN</td>\n",
       "      <td>31.90</td>\n",
       "      <td>1515915625519388267</td>\n",
       "      <td>LJuJVLEjPT</td>\n",
       "    </tr>\n",
       "    <tr>\n",
       "      <th>1</th>\n",
       "      <td>2020-09-24 11:57:26 UTC</td>\n",
       "      <td>view</td>\n",
       "      <td>139905</td>\n",
       "      <td>2144415926932472027</td>\n",
       "      <td>computers.components.cooler</td>\n",
       "      <td>zalman</td>\n",
       "      <td>17.16</td>\n",
       "      <td>1515915625519380411</td>\n",
       "      <td>tdicluNnRY</td>\n",
       "    </tr>\n",
       "    <tr>\n",
       "      <th>2</th>\n",
       "      <td>2020-09-24 11:57:27 UTC</td>\n",
       "      <td>view</td>\n",
       "      <td>215454</td>\n",
       "      <td>2144415927158964449</td>\n",
       "      <td>NaN</td>\n",
       "      <td>NaN</td>\n",
       "      <td>9.81</td>\n",
       "      <td>1515915625513238515</td>\n",
       "      <td>4TMArHtXQy</td>\n",
       "    </tr>\n",
       "    <tr>\n",
       "      <th>3</th>\n",
       "      <td>2020-09-24 11:57:33 UTC</td>\n",
       "      <td>view</td>\n",
       "      <td>635807</td>\n",
       "      <td>2144415923107266682</td>\n",
       "      <td>computers.peripherals.printer</td>\n",
       "      <td>pantum</td>\n",
       "      <td>113.81</td>\n",
       "      <td>1515915625519014356</td>\n",
       "      <td>aGFYrNgC08</td>\n",
       "    </tr>\n",
       "    <tr>\n",
       "      <th>4</th>\n",
       "      <td>2020-09-24 11:57:36 UTC</td>\n",
       "      <td>view</td>\n",
       "      <td>3658723</td>\n",
       "      <td>2144415921169498184</td>\n",
       "      <td>NaN</td>\n",
       "      <td>cameronsino</td>\n",
       "      <td>15.87</td>\n",
       "      <td>1515915625510743344</td>\n",
       "      <td>aa4mmk0kwQ</td>\n",
       "    </tr>\n",
       "    <tr>\n",
       "      <th>...</th>\n",
       "      <td>...</td>\n",
       "      <td>...</td>\n",
       "      <td>...</td>\n",
       "      <td>...</td>\n",
       "      <td>...</td>\n",
       "      <td>...</td>\n",
       "      <td>...</td>\n",
       "      <td>...</td>\n",
       "      <td>...</td>\n",
       "    </tr>\n",
       "    <tr>\n",
       "      <th>885124</th>\n",
       "      <td>2021-02-28 23:55:01 UTC</td>\n",
       "      <td>view</td>\n",
       "      <td>953226</td>\n",
       "      <td>2144415927553229037</td>\n",
       "      <td>NaN</td>\n",
       "      <td>NaN</td>\n",
       "      <td>219.94</td>\n",
       "      <td>1515915625611023730</td>\n",
       "      <td>FRLqIttxKU</td>\n",
       "    </tr>\n",
       "    <tr>\n",
       "      <th>885125</th>\n",
       "      <td>2021-02-28 23:58:05 UTC</td>\n",
       "      <td>view</td>\n",
       "      <td>1715907</td>\n",
       "      <td>2144415927049912542</td>\n",
       "      <td>electronics.video.tv</td>\n",
       "      <td>starwind</td>\n",
       "      <td>80.03</td>\n",
       "      <td>1515915625611024014</td>\n",
       "      <td>g6WqPf50Ma</td>\n",
       "    </tr>\n",
       "    <tr>\n",
       "      <th>885126</th>\n",
       "      <td>2021-02-28 23:58:09 UTC</td>\n",
       "      <td>view</td>\n",
       "      <td>4170534</td>\n",
       "      <td>2144415939364389423</td>\n",
       "      <td>electronics.clocks</td>\n",
       "      <td>amazfit</td>\n",
       "      <td>64.92</td>\n",
       "      <td>1515915625611024020</td>\n",
       "      <td>xNIJBqZdkd</td>\n",
       "    </tr>\n",
       "    <tr>\n",
       "      <th>885127</th>\n",
       "      <td>2021-02-28 23:58:14 UTC</td>\n",
       "      <td>view</td>\n",
       "      <td>888273</td>\n",
       "      <td>2144415921932861531</td>\n",
       "      <td>electronics.telephone</td>\n",
       "      <td>NaN</td>\n",
       "      <td>10.16</td>\n",
       "      <td>1515915625611024030</td>\n",
       "      <td>9pCbKMIcSx</td>\n",
       "    </tr>\n",
       "    <tr>\n",
       "      <th>885128</th>\n",
       "      <td>2021-02-28 23:59:09 UTC</td>\n",
       "      <td>view</td>\n",
       "      <td>743182</td>\n",
       "      <td>2144415935631458761</td>\n",
       "      <td>construction.tools.soldering</td>\n",
       "      <td>kada</td>\n",
       "      <td>65.08</td>\n",
       "      <td>1515915625556087775</td>\n",
       "      <td>BejOXRngEW</td>\n",
       "    </tr>\n",
       "  </tbody>\n",
       "</table>\n",
       "<p>884474 rows × 9 columns</p>\n",
       "</div>"
      ],
      "text/plain": [
       "                     event_time event_type  product_id          category_id  \\\n",
       "0       2020-09-24 11:57:06 UTC       view     1996170  2144415922528452715   \n",
       "1       2020-09-24 11:57:26 UTC       view      139905  2144415926932472027   \n",
       "2       2020-09-24 11:57:27 UTC       view      215454  2144415927158964449   \n",
       "3       2020-09-24 11:57:33 UTC       view      635807  2144415923107266682   \n",
       "4       2020-09-24 11:57:36 UTC       view     3658723  2144415921169498184   \n",
       "...                         ...        ...         ...                  ...   \n",
       "885124  2021-02-28 23:55:01 UTC       view      953226  2144415927553229037   \n",
       "885125  2021-02-28 23:58:05 UTC       view     1715907  2144415927049912542   \n",
       "885126  2021-02-28 23:58:09 UTC       view     4170534  2144415939364389423   \n",
       "885127  2021-02-28 23:58:14 UTC       view      888273  2144415921932861531   \n",
       "885128  2021-02-28 23:59:09 UTC       view      743182  2144415935631458761   \n",
       "\n",
       "                        category_code        brand   price  \\\n",
       "0               electronics.telephone          NaN   31.90   \n",
       "1         computers.components.cooler       zalman   17.16   \n",
       "2                                 NaN          NaN    9.81   \n",
       "3       computers.peripherals.printer       pantum  113.81   \n",
       "4                                 NaN  cameronsino   15.87   \n",
       "...                               ...          ...     ...   \n",
       "885124                            NaN          NaN  219.94   \n",
       "885125           electronics.video.tv     starwind   80.03   \n",
       "885126             electronics.clocks      amazfit   64.92   \n",
       "885127          electronics.telephone          NaN   10.16   \n",
       "885128   construction.tools.soldering         kada   65.08   \n",
       "\n",
       "                    user_id user_session  \n",
       "0       1515915625519388267   LJuJVLEjPT  \n",
       "1       1515915625519380411   tdicluNnRY  \n",
       "2       1515915625513238515   4TMArHtXQy  \n",
       "3       1515915625519014356   aGFYrNgC08  \n",
       "4       1515915625510743344   aa4mmk0kwQ  \n",
       "...                     ...          ...  \n",
       "885124  1515915625611023730   FRLqIttxKU  \n",
       "885125  1515915625611024014   g6WqPf50Ma  \n",
       "885126  1515915625611024020   xNIJBqZdkd  \n",
       "885127  1515915625611024030   9pCbKMIcSx  \n",
       "885128  1515915625556087775   BejOXRngEW  \n",
       "\n",
       "[884474 rows x 9 columns]"
      ]
     },
     "execution_count": 580,
     "metadata": {},
     "output_type": "execute_result"
    }
   ],
   "source": [
    "#drop duplicated and keep the last one\n",
    "\n",
    "df.drop_duplicates(keep='last')"
   ]
  },
  {
   "cell_type": "markdown",
   "metadata": {},
   "source": [
    "i drop duplicated data, because duplicate data can be harm to analysis or predictive data"
   ]
  },
  {
   "cell_type": "code",
   "execution_count": 581,
   "metadata": {},
   "outputs": [],
   "source": [
    "#convert event_time to datetime\n",
    "\n",
    "df['event_time'] = pd.to_datetime(df['event_time'])"
   ]
  },
  {
   "cell_type": "code",
   "execution_count": 582,
   "metadata": {},
   "outputs": [
    {
     "name": "stdout",
     "output_type": "stream",
     "text": [
      "start on 2020-09-24 11:57:06+00:00\n",
      "until 2021-02-28 23:59:09+00:00\n"
     ]
    }
   ],
   "source": [
    "#check date of this sample\n",
    "\n",
    "print('start on',df['event_time'].min())\n",
    "print('until',df['event_time'].max())"
   ]
  },
  {
   "cell_type": "markdown",
   "metadata": {},
   "source": [
    "This data set is contains of 6 Months activity in e-commerce website"
   ]
  },
  {
   "cell_type": "code",
   "execution_count": 583,
   "metadata": {},
   "outputs": [],
   "source": [
    "#drop missing value is user_session\n",
    "# df['user_session'].dropna(inplace = True)\n",
    "\n",
    "# #because the missing value is above 20% of the data, i will replace it with 'unknown' \n",
    "# #this will used for split category_code\n",
    "\n",
    "# df['category_code'].fillna('other', inplace= True)"
   ]
  },
  {
   "cell_type": "code",
   "execution_count": 584,
   "metadata": {},
   "outputs": [],
   "source": [
    "# take missing value from dataset\n",
    "df_clean = df.dropna()"
   ]
  },
  {
   "cell_type": "code",
   "execution_count": 585,
   "metadata": {},
   "outputs": [
    {
     "data": {
      "text/html": [
       "<div>\n",
       "<style scoped>\n",
       "    .dataframe tbody tr th:only-of-type {\n",
       "        vertical-align: middle;\n",
       "    }\n",
       "\n",
       "    .dataframe tbody tr th {\n",
       "        vertical-align: top;\n",
       "    }\n",
       "\n",
       "    .dataframe thead th {\n",
       "        text-align: right;\n",
       "    }\n",
       "</style>\n",
       "<table border=\"1\" class=\"dataframe\">\n",
       "  <thead>\n",
       "    <tr style=\"text-align: right;\">\n",
       "      <th></th>\n",
       "      <th>event_time</th>\n",
       "      <th>event_type</th>\n",
       "      <th>product_id</th>\n",
       "      <th>category_id</th>\n",
       "      <th>category_code</th>\n",
       "      <th>brand</th>\n",
       "      <th>price</th>\n",
       "      <th>user_id</th>\n",
       "      <th>user_session</th>\n",
       "    </tr>\n",
       "  </thead>\n",
       "  <tbody>\n",
       "    <tr>\n",
       "      <th>1</th>\n",
       "      <td>2020-09-24 11:57:26+00:00</td>\n",
       "      <td>view</td>\n",
       "      <td>139905</td>\n",
       "      <td>2144415926932472027</td>\n",
       "      <td>computers.components.cooler</td>\n",
       "      <td>zalman</td>\n",
       "      <td>17.16</td>\n",
       "      <td>1515915625519380411</td>\n",
       "      <td>tdicluNnRY</td>\n",
       "    </tr>\n",
       "    <tr>\n",
       "      <th>3</th>\n",
       "      <td>2020-09-24 11:57:33+00:00</td>\n",
       "      <td>view</td>\n",
       "      <td>635807</td>\n",
       "      <td>2144415923107266682</td>\n",
       "      <td>computers.peripherals.printer</td>\n",
       "      <td>pantum</td>\n",
       "      <td>113.81</td>\n",
       "      <td>1515915625519014356</td>\n",
       "      <td>aGFYrNgC08</td>\n",
       "    </tr>\n",
       "    <tr>\n",
       "      <th>5</th>\n",
       "      <td>2020-09-24 11:57:59+00:00</td>\n",
       "      <td>view</td>\n",
       "      <td>664325</td>\n",
       "      <td>2144415951611757447</td>\n",
       "      <td>construction.tools.saw</td>\n",
       "      <td>carver</td>\n",
       "      <td>52.33</td>\n",
       "      <td>1515915625519388062</td>\n",
       "      <td>vnkdP81DDW</td>\n",
       "    </tr>\n",
       "    <tr>\n",
       "      <th>7</th>\n",
       "      <td>2020-09-24 11:58:24+00:00</td>\n",
       "      <td>view</td>\n",
       "      <td>716611</td>\n",
       "      <td>2144415923694469257</td>\n",
       "      <td>computers.network.router</td>\n",
       "      <td>d-link</td>\n",
       "      <td>53.14</td>\n",
       "      <td>1515915625519388882</td>\n",
       "      <td>kVBeYDPcBw</td>\n",
       "    </tr>\n",
       "    <tr>\n",
       "      <th>9</th>\n",
       "      <td>2020-09-24 11:58:31+00:00</td>\n",
       "      <td>view</td>\n",
       "      <td>716611</td>\n",
       "      <td>2144415923694469257</td>\n",
       "      <td>computers.network.router</td>\n",
       "      <td>d-link</td>\n",
       "      <td>53.14</td>\n",
       "      <td>1515915625519388929</td>\n",
       "      <td>F3VB9LYp39</td>\n",
       "    </tr>\n",
       "    <tr>\n",
       "      <th>...</th>\n",
       "      <td>...</td>\n",
       "      <td>...</td>\n",
       "      <td>...</td>\n",
       "      <td>...</td>\n",
       "      <td>...</td>\n",
       "      <td>...</td>\n",
       "      <td>...</td>\n",
       "      <td>...</td>\n",
       "      <td>...</td>\n",
       "    </tr>\n",
       "    <tr>\n",
       "      <th>885121</th>\n",
       "      <td>2021-02-28 23:51:25+00:00</td>\n",
       "      <td>view</td>\n",
       "      <td>622796</td>\n",
       "      <td>2144415922738167921</td>\n",
       "      <td>computers.components.cdrw</td>\n",
       "      <td>asus</td>\n",
       "      <td>147.38</td>\n",
       "      <td>1515915625572947504</td>\n",
       "      <td>SqlXaC3Wrw</td>\n",
       "    </tr>\n",
       "    <tr>\n",
       "      <th>885122</th>\n",
       "      <td>2021-02-28 23:53:13+00:00</td>\n",
       "      <td>view</td>\n",
       "      <td>4079420</td>\n",
       "      <td>2144415922427789416</td>\n",
       "      <td>computers.components.videocards</td>\n",
       "      <td>msi</td>\n",
       "      <td>449.51</td>\n",
       "      <td>1515915625611023581</td>\n",
       "      <td>zrl0oKrysT</td>\n",
       "    </tr>\n",
       "    <tr>\n",
       "      <th>885125</th>\n",
       "      <td>2021-02-28 23:58:05+00:00</td>\n",
       "      <td>view</td>\n",
       "      <td>1715907</td>\n",
       "      <td>2144415927049912542</td>\n",
       "      <td>electronics.video.tv</td>\n",
       "      <td>starwind</td>\n",
       "      <td>80.03</td>\n",
       "      <td>1515915625611024014</td>\n",
       "      <td>g6WqPf50Ma</td>\n",
       "    </tr>\n",
       "    <tr>\n",
       "      <th>885126</th>\n",
       "      <td>2021-02-28 23:58:09+00:00</td>\n",
       "      <td>view</td>\n",
       "      <td>4170534</td>\n",
       "      <td>2144415939364389423</td>\n",
       "      <td>electronics.clocks</td>\n",
       "      <td>amazfit</td>\n",
       "      <td>64.92</td>\n",
       "      <td>1515915625611024020</td>\n",
       "      <td>xNIJBqZdkd</td>\n",
       "    </tr>\n",
       "    <tr>\n",
       "      <th>885128</th>\n",
       "      <td>2021-02-28 23:59:09+00:00</td>\n",
       "      <td>view</td>\n",
       "      <td>743182</td>\n",
       "      <td>2144415935631458761</td>\n",
       "      <td>construction.tools.soldering</td>\n",
       "      <td>kada</td>\n",
       "      <td>65.08</td>\n",
       "      <td>1515915625556087775</td>\n",
       "      <td>BejOXRngEW</td>\n",
       "    </tr>\n",
       "  </tbody>\n",
       "</table>\n",
       "<p>516256 rows × 9 columns</p>\n",
       "</div>"
      ],
      "text/plain": [
       "                      event_time event_type  product_id          category_id  \\\n",
       "1      2020-09-24 11:57:26+00:00       view      139905  2144415926932472027   \n",
       "3      2020-09-24 11:57:33+00:00       view      635807  2144415923107266682   \n",
       "5      2020-09-24 11:57:59+00:00       view      664325  2144415951611757447   \n",
       "7      2020-09-24 11:58:24+00:00       view      716611  2144415923694469257   \n",
       "9      2020-09-24 11:58:31+00:00       view      716611  2144415923694469257   \n",
       "...                          ...        ...         ...                  ...   \n",
       "885121 2021-02-28 23:51:25+00:00       view      622796  2144415922738167921   \n",
       "885122 2021-02-28 23:53:13+00:00       view     4079420  2144415922427789416   \n",
       "885125 2021-02-28 23:58:05+00:00       view     1715907  2144415927049912542   \n",
       "885126 2021-02-28 23:58:09+00:00       view     4170534  2144415939364389423   \n",
       "885128 2021-02-28 23:59:09+00:00       view      743182  2144415935631458761   \n",
       "\n",
       "                          category_code     brand   price  \\\n",
       "1           computers.components.cooler    zalman   17.16   \n",
       "3         computers.peripherals.printer    pantum  113.81   \n",
       "5                construction.tools.saw    carver   52.33   \n",
       "7              computers.network.router    d-link   53.14   \n",
       "9              computers.network.router    d-link   53.14   \n",
       "...                                 ...       ...     ...   \n",
       "885121        computers.components.cdrw      asus  147.38   \n",
       "885122  computers.components.videocards       msi  449.51   \n",
       "885125             electronics.video.tv  starwind   80.03   \n",
       "885126               electronics.clocks   amazfit   64.92   \n",
       "885128     construction.tools.soldering      kada   65.08   \n",
       "\n",
       "                    user_id user_session  \n",
       "1       1515915625519380411   tdicluNnRY  \n",
       "3       1515915625519014356   aGFYrNgC08  \n",
       "5       1515915625519388062   vnkdP81DDW  \n",
       "7       1515915625519388882   kVBeYDPcBw  \n",
       "9       1515915625519388929   F3VB9LYp39  \n",
       "...                     ...          ...  \n",
       "885121  1515915625572947504   SqlXaC3Wrw  \n",
       "885122  1515915625611023581   zrl0oKrysT  \n",
       "885125  1515915625611024014   g6WqPf50Ma  \n",
       "885126  1515915625611024020   xNIJBqZdkd  \n",
       "885128  1515915625556087775   BejOXRngEW  \n",
       "\n",
       "[516256 rows x 9 columns]"
      ]
     },
     "execution_count": 585,
     "metadata": {},
     "output_type": "execute_result"
    }
   ],
   "source": [
    "df_clean"
   ]
  },
  {
   "cell_type": "code",
   "execution_count": 586,
   "metadata": {},
   "outputs": [],
   "source": [
    "#split category and create new category\n",
    "\n",
    "df_clean['category'] = df_clean['category_code'].apply(lambda x : x.split(\".\")[0])"
   ]
  },
  {
   "cell_type": "code",
   "execution_count": 587,
   "metadata": {},
   "outputs": [
    {
     "data": {
      "text/html": [
       "<div>\n",
       "<style scoped>\n",
       "    .dataframe tbody tr th:only-of-type {\n",
       "        vertical-align: middle;\n",
       "    }\n",
       "\n",
       "    .dataframe tbody tr th {\n",
       "        vertical-align: top;\n",
       "    }\n",
       "\n",
       "    .dataframe thead th {\n",
       "        text-align: right;\n",
       "    }\n",
       "</style>\n",
       "<table border=\"1\" class=\"dataframe\">\n",
       "  <thead>\n",
       "    <tr style=\"text-align: right;\">\n",
       "      <th></th>\n",
       "      <th>event_time</th>\n",
       "      <th>event_type</th>\n",
       "      <th>product_id</th>\n",
       "      <th>category_id</th>\n",
       "      <th>category_code</th>\n",
       "      <th>brand</th>\n",
       "      <th>price</th>\n",
       "      <th>user_id</th>\n",
       "      <th>user_session</th>\n",
       "      <th>category</th>\n",
       "    </tr>\n",
       "  </thead>\n",
       "  <tbody>\n",
       "    <tr>\n",
       "      <th>1</th>\n",
       "      <td>2020-09-24 11:57:26+00:00</td>\n",
       "      <td>view</td>\n",
       "      <td>139905</td>\n",
       "      <td>2144415926932472027</td>\n",
       "      <td>computers.components.cooler</td>\n",
       "      <td>zalman</td>\n",
       "      <td>17.16</td>\n",
       "      <td>1515915625519380411</td>\n",
       "      <td>tdicluNnRY</td>\n",
       "      <td>computers</td>\n",
       "    </tr>\n",
       "    <tr>\n",
       "      <th>3</th>\n",
       "      <td>2020-09-24 11:57:33+00:00</td>\n",
       "      <td>view</td>\n",
       "      <td>635807</td>\n",
       "      <td>2144415923107266682</td>\n",
       "      <td>computers.peripherals.printer</td>\n",
       "      <td>pantum</td>\n",
       "      <td>113.81</td>\n",
       "      <td>1515915625519014356</td>\n",
       "      <td>aGFYrNgC08</td>\n",
       "      <td>computers</td>\n",
       "    </tr>\n",
       "    <tr>\n",
       "      <th>5</th>\n",
       "      <td>2020-09-24 11:57:59+00:00</td>\n",
       "      <td>view</td>\n",
       "      <td>664325</td>\n",
       "      <td>2144415951611757447</td>\n",
       "      <td>construction.tools.saw</td>\n",
       "      <td>carver</td>\n",
       "      <td>52.33</td>\n",
       "      <td>1515915625519388062</td>\n",
       "      <td>vnkdP81DDW</td>\n",
       "      <td>construction</td>\n",
       "    </tr>\n",
       "    <tr>\n",
       "      <th>7</th>\n",
       "      <td>2020-09-24 11:58:24+00:00</td>\n",
       "      <td>view</td>\n",
       "      <td>716611</td>\n",
       "      <td>2144415923694469257</td>\n",
       "      <td>computers.network.router</td>\n",
       "      <td>d-link</td>\n",
       "      <td>53.14</td>\n",
       "      <td>1515915625519388882</td>\n",
       "      <td>kVBeYDPcBw</td>\n",
       "      <td>computers</td>\n",
       "    </tr>\n",
       "    <tr>\n",
       "      <th>9</th>\n",
       "      <td>2020-09-24 11:58:31+00:00</td>\n",
       "      <td>view</td>\n",
       "      <td>716611</td>\n",
       "      <td>2144415923694469257</td>\n",
       "      <td>computers.network.router</td>\n",
       "      <td>d-link</td>\n",
       "      <td>53.14</td>\n",
       "      <td>1515915625519388929</td>\n",
       "      <td>F3VB9LYp39</td>\n",
       "      <td>computers</td>\n",
       "    </tr>\n",
       "  </tbody>\n",
       "</table>\n",
       "</div>"
      ],
      "text/plain": [
       "                 event_time event_type  product_id          category_id  \\\n",
       "1 2020-09-24 11:57:26+00:00       view      139905  2144415926932472027   \n",
       "3 2020-09-24 11:57:33+00:00       view      635807  2144415923107266682   \n",
       "5 2020-09-24 11:57:59+00:00       view      664325  2144415951611757447   \n",
       "7 2020-09-24 11:58:24+00:00       view      716611  2144415923694469257   \n",
       "9 2020-09-24 11:58:31+00:00       view      716611  2144415923694469257   \n",
       "\n",
       "                   category_code   brand   price              user_id  \\\n",
       "1    computers.components.cooler  zalman   17.16  1515915625519380411   \n",
       "3  computers.peripherals.printer  pantum  113.81  1515915625519014356   \n",
       "5         construction.tools.saw  carver   52.33  1515915625519388062   \n",
       "7       computers.network.router  d-link   53.14  1515915625519388882   \n",
       "9       computers.network.router  d-link   53.14  1515915625519388929   \n",
       "\n",
       "  user_session      category  \n",
       "1   tdicluNnRY     computers  \n",
       "3   aGFYrNgC08     computers  \n",
       "5   vnkdP81DDW  construction  \n",
       "7   kVBeYDPcBw     computers  \n",
       "9   F3VB9LYp39     computers  "
      ]
     },
     "execution_count": 587,
     "metadata": {},
     "output_type": "execute_result"
    }
   ],
   "source": [
    "df_clean.head()"
   ]
  },
  {
   "cell_type": "code",
   "execution_count": 588,
   "metadata": {},
   "outputs": [
    {
     "data": {
      "text/plain": [
       "event_time       0\n",
       "event_type       0\n",
       "product_id       0\n",
       "category_id      0\n",
       "category_code    0\n",
       "brand            0\n",
       "price            0\n",
       "user_id          0\n",
       "user_session     0\n",
       "category         0\n",
       "dtype: int64"
      ]
     },
     "execution_count": 588,
     "metadata": {},
     "output_type": "execute_result"
    }
   ],
   "source": [
    "df_clean.isnull().sum()"
   ]
  },
  {
   "cell_type": "code",
   "execution_count": 589,
   "metadata": {},
   "outputs": [
    {
     "data": {
      "text/plain": [
       "718"
      ]
     },
     "execution_count": 589,
     "metadata": {},
     "output_type": "execute_result"
    }
   ],
   "source": [
    "df['category_id'].nunique()"
   ]
  },
  {
   "cell_type": "markdown",
   "metadata": {},
   "source": [
    "# EXPLORATION DATA ANALYSIS"
   ]
  },
  {
   "cell_type": "markdown",
   "metadata": {},
   "source": [
    "## Event type"
   ]
  },
  {
   "cell_type": "code",
   "execution_count": 590,
   "metadata": {},
   "outputs": [
    {
     "data": {
      "text/plain": [
       "view        458481\n",
       "cart         34669\n",
       "purchase     23106\n",
       "Name: event_type, dtype: int64"
      ]
     },
     "execution_count": 590,
     "metadata": {},
     "output_type": "execute_result"
    }
   ],
   "source": [
    "df_clean.event_type.value_counts()"
   ]
  },
  {
   "cell_type": "code",
   "execution_count": 591,
   "metadata": {},
   "outputs": [
    {
     "data": {
      "image/png": "[encoded data removed]",
      "text/plain": [
       "<Figure size 1080x720 with 1 Axes>"
      ]
     },
     "metadata": {
      "needs_background": "light"
     },
     "output_type": "display_data"
    }
   ],
   "source": [
    "fig,ax = plt.subplots(figsize=(15,10))\n",
    "\n",
    "ax = sns.countplot(x='event_type',data = df_clean, ax = ax)\n",
    "ax = ax.set_title('MOST EVENT TYPE')"
   ]
  },
  {
   "cell_type": "markdown",
   "metadata": {},
   "source": [
    "Most of user activity is just view the product, but the proportion of view and others (cart and puchase) have a big difference. It can be, customer take time to view the product before make descision to buy that product."
   ]
  },
  {
   "cell_type": "code",
   "execution_count": 592,
   "metadata": {},
   "outputs": [
    {
     "data": {
      "text/plain": [
       "<matplotlib.legend.Legend at 0x19c50577430>"
      ]
     },
     "execution_count": 592,
     "metadata": {},
     "output_type": "execute_result"
    },
    {
     "data": {
      "image/png": "[encoded data removed]",
      "text/plain": [
       "<Figure size 720x360 with 1 Axes>"
      ]
     },
     "metadata": {},
     "output_type": "display_data"
    }
   ],
   "source": [
    "fig,ax = plt.subplots(figsize=(10,5))\n",
    "\n",
    "plt.pie(df_clean.event_type.value_counts(), labels=df_clean.event_type.unique(), autopct='%.2f%%')\n",
    "ax.set_title('Event Type')\n",
    "plt.legend()"
   ]
  },
  {
   "cell_type": "markdown",
   "metadata": {},
   "source": [
    "## Category"
   ]
  },
  {
   "cell_type": "code",
   "execution_count": 593,
   "metadata": {},
   "outputs": [
    {
     "data": {
      "image/png": "[encoded data removed]",
      "text/plain": [
       "<Figure size 1080x720 with 1 Axes>"
      ]
     },
     "metadata": {
      "needs_background": "light"
     },
     "output_type": "display_data"
    }
   ],
   "source": [
    "#we check all category\n",
    "\n",
    "fig,ax = plt.subplots(figsize=(15,10))\n",
    "\n",
    "ax = sns.countplot(y='category',hue = 'event_type', data = df_clean, ax = ax, order = df_clean['category'].value_counts().index[:10])"
   ]
  },
  {
   "cell_type": "code",
   "execution_count": 594,
   "metadata": {},
   "outputs": [],
   "source": [
    "#we will make some query for event_type\n",
    "\n",
    "purchase = df_clean.query(\"event_type=='purchase'\")\n",
    "cart = df_clean.query(\"event_type=='cart'\")\n",
    "view = df_clean.query(\"event_type=='view'\")"
   ]
  },
  {
   "cell_type": "code",
   "execution_count": 595,
   "metadata": {},
   "outputs": [
    {
     "data": {
      "image/png": "[encoded data removed]",
      "text/plain": [
       "<Figure size 720x720 with 1 Axes>"
      ]
     },
     "metadata": {
      "needs_background": "light"
     },
     "output_type": "display_data"
    }
   ],
   "source": [
    "fig,ax = plt.subplots(figsize=(10,10))\n",
    "\n",
    "ax = sns.countplot(y='category', data = purchase, ax = ax,order = purchase['category'].value_counts().index[:10])\n",
    "ax = ax.set_title('TOP 10 MOST PURCHASED CATEGORY')"
   ]
  },
  {
   "cell_type": "code",
   "execution_count": 596,
   "metadata": {},
   "outputs": [
    {
     "data": {
      "image/png": "[encoded data removed]",
      "text/plain": [
       "<Figure size 720x720 with 1 Axes>"
      ]
     },
     "metadata": {
      "needs_background": "light"
     },
     "output_type": "display_data"
    }
   ],
   "source": [
    "fig,ax = plt.subplots(figsize=(10,10))\n",
    "\n",
    "ax = sns.countplot(y='category', data = cart, ax = ax,order = cart['category'].value_counts().index[:10])\n",
    "ax = ax.set_title('TOP 10 MOST CART CATEGORY')"
   ]
  },
  {
   "cell_type": "code",
   "execution_count": 597,
   "metadata": {},
   "outputs": [
    {
     "data": {
      "image/png": "[encoded data removed]",
      "text/plain": [
       "<Figure size 720x720 with 1 Axes>"
      ]
     },
     "metadata": {
      "needs_background": "light"
     },
     "output_type": "display_data"
    }
   ],
   "source": [
    "fig,ax = plt.subplots(figsize=(10,10))\n",
    "\n",
    "ax = sns.countplot(y='category', data = view, ax = ax,order = view['category'].value_counts().index[:10])\n",
    "ax = ax.set_title('TOP 10 MOST VIEW CATEGORY')"
   ]
  },
  {
   "cell_type": "markdown",
   "metadata": {},
   "source": [
    "The most category that customer want is computers. That we can see so many product view, cart, purchase is a computers category. It can be say, the market of this e-commerce is a people who want to upgrade/create their computers. "
   ]
  },
  {
   "cell_type": "markdown",
   "metadata": {},
   "source": [
    "## Time"
   ]
  },
  {
   "cell_type": "code",
   "execution_count": 598,
   "metadata": {},
   "outputs": [],
   "source": [
    "#split event_time to spesific year,months,day, and hour\n",
    "\n",
    "df_time = df_clean.copy()\n",
    "\n",
    "df_time['year'] = df_time['event_time'].dt.year\n",
    "df_time['month'] = df_time['event_time'].dt.month\n",
    "df_time['day'] = df_time['event_time'].dt.day\n",
    "df_time['hour'] = df_time['event_time'].dt.hour"
   ]
  },
  {
   "cell_type": "code",
   "execution_count": 599,
   "metadata": {},
   "outputs": [],
   "source": [
    "#same with another EDA we will make some query\n",
    "\n",
    "purchase = df_time.query(\"event_type=='purchase'\")\n",
    "cart = df_time.query(\"event_type=='cart'\")\n",
    "view = df_time.query(\"event_type=='view'\")"
   ]
  },
  {
   "cell_type": "code",
   "execution_count": 600,
   "metadata": {},
   "outputs": [
    {
     "data": {
      "image/png": "[encoded data removed]",
      "text/plain": [
       "<Figure size 864x576 with 1 Axes>"
      ]
     },
     "metadata": {
      "needs_background": "light"
     },
     "output_type": "display_data"
    }
   ],
   "source": [
    "fig,ax = plt.subplots(figsize=(12,8))\n",
    "ax = sns.histplot(x='hour', data = df_time, bins = 24,hue = 'event_type')\n",
    "ax = ax.set_title('DISTRIBUTION OF USER HOUR')"
   ]
  },
  {
   "cell_type": "code",
   "execution_count": 601,
   "metadata": {},
   "outputs": [
    {
     "data": {
      "image/png": "[encoded data removed]",
      "text/plain": [
       "<Figure size 864x576 with 1 Axes>"
      ]
     },
     "metadata": {
      "needs_background": "light"
     },
     "output_type": "display_data"
    }
   ],
   "source": [
    "fig,ax = plt.subplots(figsize=(12,8))\n",
    "ax = sns.histplot(x='hour',data = purchase,bins = 24)\n",
    "ax = ax.set_title('HOUR/PURCHASE')"
   ]
  },
  {
   "cell_type": "code",
   "execution_count": 602,
   "metadata": {},
   "outputs": [
    {
     "data": {
      "image/png": "[encoded data removed]",
      "text/plain": [
       "<Figure size 864x576 with 1 Axes>"
      ]
     },
     "metadata": {
      "needs_background": "light"
     },
     "output_type": "display_data"
    }
   ],
   "source": [
    "fig,ax = plt.subplots(figsize=(12,8))\n",
    "ax = sns.histplot(x='hour',data = cart,bins = 24)\n",
    "ax = ax.set_title('HOUR/CART')"
   ]
  },
  {
   "cell_type": "code",
   "execution_count": 603,
   "metadata": {},
   "outputs": [
    {
     "data": {
      "image/png": "[encoded data removed]",
      "text/plain": [
       "<Figure size 864x576 with 1 Axes>"
      ]
     },
     "metadata": {
      "needs_background": "light"
     },
     "output_type": "display_data"
    }
   ],
   "source": [
    "fig,ax = plt.subplots(figsize=(12,8))\n",
    "ax = sns.histplot(x='hour',data = view,bins = 24)\n",
    "ax = ax.set_title('HOUR/VIEW')"
   ]
  },
  {
   "cell_type": "markdown",
   "metadata": {},
   "source": [
    "a peak time of e-commerce traffic is around 10 o'clocks and around 18 o'clocks. with that time, e-commerce have a busy traffic of customer who view, take to cart, and make a purchase of products."
   ]
  },
  {
   "cell_type": "markdown",
   "metadata": {},
   "source": [
    "## Time Months"
   ]
  },
  {
   "cell_type": "code",
   "execution_count": 604,
   "metadata": {},
   "outputs": [
    {
     "data": {
      "image/png": "[encoded data removed]",
      "text/plain": [
       "<Figure size 864x576 with 1 Axes>"
      ]
     },
     "metadata": {
      "needs_background": "light"
     },
     "output_type": "display_data"
    }
   ],
   "source": [
    "fig,ax = plt.subplots(figsize=(12,8))\n",
    "ax = sns.histplot(x='event_time',data = df_time,bins = 30)\n",
    "ax = ax.set_title('MONTH DISTRIBUTION')"
   ]
  },
  {
   "cell_type": "markdown",
   "metadata": {},
   "source": [
    "With this months distribution we can see, the peak months of traffic in e-commerce is in 2020-11 and in 2021 the e-commerce have a stable and better traffic than 2020. After this, we will see the best month of ecommerce traffic"
   ]
  },
  {
   "cell_type": "code",
   "execution_count": 605,
   "metadata": {},
   "outputs": [],
   "source": [
    "#make some query of years\n",
    "\n",
    "df_20 = df_time.query(\"year == 2020\")\n",
    "df_21 = df_time.query(\"year == 2021\")"
   ]
  },
  {
   "cell_type": "code",
   "execution_count": 606,
   "metadata": {},
   "outputs": [
    {
     "data": {
      "image/png": "[encoded data removed]",
      "text/plain": [
       "<Figure size 720x720 with 1 Axes>"
      ]
     },
     "metadata": {
      "needs_background": "light"
     },
     "output_type": "display_data"
    }
   ],
   "source": [
    "#we look for most month in 2020\n",
    "fig,ax = plt.subplots(figsize=(10,10))\n",
    "\n",
    "ax = sns.countplot(x='month', data = df_20, ax = ax,hue = 'event_type')\n",
    "ax = ax.set_title('MOST MONTH IN 2020')"
   ]
  },
  {
   "cell_type": "markdown",
   "metadata": {},
   "source": [
    "November 2020 is the best month. e-commerce have so many traffic in this month. So people tend to look and buy a product before end of the year. why not December? maybe they spend their money for new year eve or holiday."
   ]
  },
  {
   "cell_type": "code",
   "execution_count": 607,
   "metadata": {},
   "outputs": [
    {
     "data": {
      "image/png": "[encoded data removed]",
      "text/plain": [
       "<Figure size 720x720 with 1 Axes>"
      ]
     },
     "metadata": {
      "needs_background": "light"
     },
     "output_type": "display_data"
    }
   ],
   "source": [
    "#we look for most month in 2021\n",
    "fig,ax = plt.subplots(figsize=(10,10))\n",
    "\n",
    "ax = sns.countplot(x='month', data = df_21, ax = ax,hue = 'event_type')\n",
    "ax = ax.set_title('MOST MONTH IN 2021')"
   ]
  },
  {
   "cell_type": "markdown",
   "metadata": {},
   "source": [
    "in 2021, Januari is the best month to customer looking for a products, but not as many as November."
   ]
  },
  {
   "cell_type": "markdown",
   "metadata": {},
   "source": [
    "## Brand"
   ]
  },
  {
   "cell_type": "code",
   "execution_count": 608,
   "metadata": {},
   "outputs": [
    {
     "data": {
      "text/plain": [
       "asus         27706\n",
       "gigabyte     27673\n",
       "msi          24877\n",
       "palit        24802\n",
       "samsung      23208\n",
       "             ...  \n",
       "elekta           1\n",
       "vitesse          1\n",
       "vitek            1\n",
       "docash           1\n",
       "cipherlab        1\n",
       "Name: brand, Length: 999, dtype: int64"
      ]
     },
     "execution_count": 608,
     "metadata": {},
     "output_type": "execute_result"
    }
   ],
   "source": [
    "df.brand.value_counts()"
   ]
  },
  {
   "cell_type": "code",
   "execution_count": 609,
   "metadata": {},
   "outputs": [
    {
     "data": {
      "image/png": "[encoded data removed]",
      "text/plain": [
       "<Figure size 720x720 with 1 Axes>"
      ]
     },
     "metadata": {
      "needs_background": "light"
     },
     "output_type": "display_data"
    }
   ],
   "source": [
    "fig,ax = plt.subplots(figsize=(10,10))\n",
    "\n",
    "ax = sns.countplot(y='brand', data = df, ax = ax,\n",
    "                    order = df['brand'].value_counts().iloc[:10].index, hue='event_type')\n",
    "ax = ax.set_title('TOP 10 BRANDS')"
   ]
  },
  {
   "cell_type": "markdown",
   "metadata": {},
   "source": [
    "ASUS is the most product that customer is looking for, but not the most product that customer purchase, we will see the most product per event_type in down here."
   ]
  },
  {
   "cell_type": "code",
   "execution_count": 610,
   "metadata": {},
   "outputs": [
    {
     "data": {
      "image/png": "[encoded data removed]",
      "text/plain": [
       "<Figure size 720x720 with 1 Axes>"
      ]
     },
     "metadata": {
      "needs_background": "light"
     },
     "output_type": "display_data"
    }
   ],
   "source": [
    "fig,ax = plt.subplots(figsize=(10,10))\n",
    "\n",
    "ax = sns.countplot(y='brand', data = purchase, ax = ax,\n",
    "                    order = purchase['brand'].value_counts().iloc[:10].index)\n",
    "ax = ax.set_title('TOP 10 PURCHASED BRANDS')"
   ]
  },
  {
   "cell_type": "code",
   "execution_count": 611,
   "metadata": {},
   "outputs": [
    {
     "data": {
      "image/png": "[encoded data removed]",
      "text/plain": [
       "<Figure size 720x720 with 1 Axes>"
      ]
     },
     "metadata": {
      "needs_background": "light"
     },
     "output_type": "display_data"
    }
   ],
   "source": [
    "fig,ax = plt.subplots(figsize=(10,10))\n",
    "\n",
    "ax = sns.countplot(y='brand', data = view, ax = ax,\n",
    "                    order = view['brand'].value_counts().iloc[:10].index)\n",
    "ax = ax.set_title('TOP 10 VIEW BRANDS')"
   ]
  },
  {
   "cell_type": "code",
   "execution_count": 612,
   "metadata": {},
   "outputs": [
    {
     "data": {
      "image/png": "[encoded data removed]",
      "text/plain": [
       "<Figure size 720x720 with 1 Axes>"
      ]
     },
     "metadata": {
      "needs_background": "light"
     },
     "output_type": "display_data"
    }
   ],
   "source": [
    "fig,ax = plt.subplots(figsize=(10,10))\n",
    "\n",
    "ax = sns.countplot(y='brand', data = cart, ax = ax,\n",
    "                    order = cart['brand'].value_counts().iloc[:10].index)\n",
    "ax = ax.set_title('TOP 10 CART BRANDS')"
   ]
  },
  {
   "cell_type": "markdown",
   "metadata": {},
   "source": [
    "The most product that customer purchase is, MSI. we can see the ASUS is in third place for product that customer purchase. But so many customer that view the Asus product. in Cart type, Gigabyte in First place the value not has a many diff with MSI (second place). Maybe MSI have a good price compared to their competitor like asus or gigabyte. With that good price, customer dont take time to think so long for purchase the products. "
   ]
  },
  {
   "cell_type": "markdown",
   "metadata": {},
   "source": [
    "## Earning"
   ]
  },
  {
   "cell_type": "code",
   "execution_count": 613,
   "metadata": {},
   "outputs": [
    {
     "data": {
      "image/png": "[encoded data removed]",
      "text/plain": [
       "<Figure size 864x576 with 1 Axes>"
      ]
     },
     "metadata": {
      "needs_background": "light"
     },
     "output_type": "display_data"
    }
   ],
   "source": [
    "plt.figure(figsize=(12,8))\n",
    "purchase.groupby(['category'])['price'].sum().sort_values(ascending=True)[-8:].plot(kind = 'barh',title = 'MOST REVENUE BY CATEGORY');"
   ]
  },
  {
   "cell_type": "code",
   "execution_count": 614,
   "metadata": {},
   "outputs": [
    {
     "data": {
      "text/plain": [
       "category\n",
       "computers       3397504.84\n",
       "electronics      372017.28\n",
       "auto             110146.46\n",
       "appliances        98178.36\n",
       "construction      79014.07\n",
       "stationery        72739.99\n",
       "country_yard       4339.47\n",
       "accessories        2065.65\n",
       "sport              1706.40\n",
       "kids                322.38\n",
       "medicine            288.09\n",
       "Name: price, dtype: float64"
      ]
     },
     "execution_count": 614,
     "metadata": {},
     "output_type": "execute_result"
    }
   ],
   "source": [
    "purchase.groupby(['category'])['price'].sum().sort_values(ascending=False)"
   ]
  },
  {
   "cell_type": "code",
   "execution_count": 615,
   "metadata": {},
   "outputs": [
    {
     "data": {
      "image/png": "[encoded data removed]",
      "text/plain": [
       "<Figure size 864x576 with 1 Axes>"
      ]
     },
     "metadata": {
      "needs_background": "light"
     },
     "output_type": "display_data"
    }
   ],
   "source": [
    "plt.figure(figsize=(12,8))\n",
    "purchase.groupby(['brand'])['price'].sum().sort_values(ascending=False)[:10].plot(kind = 'bar',title='MOST REVENUE BY BRAND');"
   ]
  },
  {
   "cell_type": "code",
   "execution_count": 616,
   "metadata": {},
   "outputs": [
    {
     "data": {
      "text/plain": [
       "brand\n",
       "msi           643492.34\n",
       "gigabyte      556183.04\n",
       "palit         484210.58\n",
       "asus          330118.53\n",
       "sapphire      306192.94\n",
       "amd           191987.40\n",
       "canon         136015.42\n",
       "powercolor     98804.38\n",
       "epson          98262.95\n",
       "pioneer        61578.73\n",
       "Name: price, dtype: float64"
      ]
     },
     "execution_count": 616,
     "metadata": {},
     "output_type": "execute_result"
    }
   ],
   "source": [
    "purchase.groupby(['brand'])['price'].sum().sort_values(ascending=False)[:10]"
   ]
  },
  {
   "cell_type": "code",
   "execution_count": 617,
   "metadata": {},
   "outputs": [
    {
     "name": "stdout",
     "output_type": "stream",
     "text": [
      "total revenue from purchased products : 4138322.9899999993\n"
     ]
    }
   ],
   "source": [
    "print('total revenue from purchased products :',purchase.price.sum())"
   ]
  },
  {
   "cell_type": "markdown",
   "metadata": {},
   "source": [
    "Computers Category give the most revenue for e-commerce and the product give the most revenue is MSI. Such as data about products that are purchase. e-commerce must maintaince that category dan product for get a stable revenue."
   ]
  },
  {
   "cell_type": "code",
   "execution_count": 618,
   "metadata": {},
   "outputs": [],
   "source": [
    "#save the new data\n",
    "df_save = df.drop(['category_code'],axis=1)\n",
    "df_save = df_save.dropna()"
   ]
  },
  {
   "cell_type": "code",
   "execution_count": 619,
   "metadata": {},
   "outputs": [
    {
     "data": {
      "text/plain": [
       "3"
      ]
     },
     "execution_count": 619,
     "metadata": {},
     "output_type": "execute_result"
    }
   ],
   "source": [
    "df_save.event_type.nunique()"
   ]
  },
  {
   "cell_type": "code",
   "execution_count": 620,
   "metadata": {},
   "outputs": [],
   "source": [
    "df_save.to_csv('visualization_data.xlsx', index = None, header=True)"
   ]
  },
  {
   "cell_type": "markdown",
   "metadata": {},
   "source": [
    "# DATA PROCESSING"
   ]
  },
  {
   "cell_type": "markdown",
   "metadata": {},
   "source": [
    "As i can want to know they will purchase or not after they put it in the cart. I must to get the data about the items that have been placed in the cart, after that I will create a target column whose contents are 1 = purchase , 0 = not purchase."
   ]
  },
  {
   "cell_type": "code",
   "execution_count": 621,
   "metadata": {},
   "outputs": [
    {
     "data": {
      "text/html": [
       "<div>\n",
       "<style scoped>\n",
       "    .dataframe tbody tr th:only-of-type {\n",
       "        vertical-align: middle;\n",
       "    }\n",
       "\n",
       "    .dataframe tbody tr th {\n",
       "        vertical-align: top;\n",
       "    }\n",
       "\n",
       "    .dataframe thead th {\n",
       "        text-align: right;\n",
       "    }\n",
       "</style>\n",
       "<table border=\"1\" class=\"dataframe\">\n",
       "  <thead>\n",
       "    <tr style=\"text-align: right;\">\n",
       "      <th></th>\n",
       "      <th>event_time</th>\n",
       "      <th>event_type</th>\n",
       "      <th>product_id</th>\n",
       "      <th>category_id</th>\n",
       "      <th>category_code</th>\n",
       "      <th>brand</th>\n",
       "      <th>price</th>\n",
       "      <th>user_id</th>\n",
       "      <th>user_session</th>\n",
       "    </tr>\n",
       "  </thead>\n",
       "  <tbody>\n",
       "    <tr>\n",
       "      <th>0</th>\n",
       "      <td>2020-09-24 11:57:06+00:00</td>\n",
       "      <td>view</td>\n",
       "      <td>1996170</td>\n",
       "      <td>2144415922528452715</td>\n",
       "      <td>electronics.telephone</td>\n",
       "      <td>NaN</td>\n",
       "      <td>31.90</td>\n",
       "      <td>1515915625519388267</td>\n",
       "      <td>LJuJVLEjPT</td>\n",
       "    </tr>\n",
       "    <tr>\n",
       "      <th>1</th>\n",
       "      <td>2020-09-24 11:57:26+00:00</td>\n",
       "      <td>view</td>\n",
       "      <td>139905</td>\n",
       "      <td>2144415926932472027</td>\n",
       "      <td>computers.components.cooler</td>\n",
       "      <td>zalman</td>\n",
       "      <td>17.16</td>\n",
       "      <td>1515915625519380411</td>\n",
       "      <td>tdicluNnRY</td>\n",
       "    </tr>\n",
       "    <tr>\n",
       "      <th>2</th>\n",
       "      <td>2020-09-24 11:57:27+00:00</td>\n",
       "      <td>view</td>\n",
       "      <td>215454</td>\n",
       "      <td>2144415927158964449</td>\n",
       "      <td>NaN</td>\n",
       "      <td>NaN</td>\n",
       "      <td>9.81</td>\n",
       "      <td>1515915625513238515</td>\n",
       "      <td>4TMArHtXQy</td>\n",
       "    </tr>\n",
       "    <tr>\n",
       "      <th>3</th>\n",
       "      <td>2020-09-24 11:57:33+00:00</td>\n",
       "      <td>view</td>\n",
       "      <td>635807</td>\n",
       "      <td>2144415923107266682</td>\n",
       "      <td>computers.peripherals.printer</td>\n",
       "      <td>pantum</td>\n",
       "      <td>113.81</td>\n",
       "      <td>1515915625519014356</td>\n",
       "      <td>aGFYrNgC08</td>\n",
       "    </tr>\n",
       "    <tr>\n",
       "      <th>4</th>\n",
       "      <td>2020-09-24 11:57:36+00:00</td>\n",
       "      <td>view</td>\n",
       "      <td>3658723</td>\n",
       "      <td>2144415921169498184</td>\n",
       "      <td>NaN</td>\n",
       "      <td>cameronsino</td>\n",
       "      <td>15.87</td>\n",
       "      <td>1515915625510743344</td>\n",
       "      <td>aa4mmk0kwQ</td>\n",
       "    </tr>\n",
       "  </tbody>\n",
       "</table>\n",
       "</div>"
      ],
      "text/plain": [
       "                 event_time event_type  product_id          category_id  \\\n",
       "0 2020-09-24 11:57:06+00:00       view     1996170  2144415922528452715   \n",
       "1 2020-09-24 11:57:26+00:00       view      139905  2144415926932472027   \n",
       "2 2020-09-24 11:57:27+00:00       view      215454  2144415927158964449   \n",
       "3 2020-09-24 11:57:33+00:00       view      635807  2144415923107266682   \n",
       "4 2020-09-24 11:57:36+00:00       view     3658723  2144415921169498184   \n",
       "\n",
       "                   category_code        brand   price              user_id  \\\n",
       "0          electronics.telephone          NaN   31.90  1515915625519388267   \n",
       "1    computers.components.cooler       zalman   17.16  1515915625519380411   \n",
       "2                            NaN          NaN    9.81  1515915625513238515   \n",
       "3  computers.peripherals.printer       pantum  113.81  1515915625519014356   \n",
       "4                            NaN  cameronsino   15.87  1515915625510743344   \n",
       "\n",
       "  user_session  \n",
       "0   LJuJVLEjPT  \n",
       "1   tdicluNnRY  \n",
       "2   4TMArHtXQy  \n",
       "3   aGFYrNgC08  \n",
       "4   aa4mmk0kwQ  "
      ]
     },
     "execution_count": 621,
     "metadata": {},
     "output_type": "execute_result"
    }
   ],
   "source": [
    "df.head()"
   ]
  },
  {
   "cell_type": "code",
   "execution_count": 622,
   "metadata": {},
   "outputs": [],
   "source": [
    "#choose data who is in cart and drop duplicate\n",
    "df_targets = df.loc[df['event_type'].isin([\"cart\",\"purchase\"])].drop_duplicates(subset=['event_type', 'product_id','price','user_id','user_session'])\n"
   ]
  },
  {
   "cell_type": "code",
   "execution_count": 623,
   "metadata": {},
   "outputs": [],
   "source": [
    "#purchased or not\n",
    "df_targets['is_purchased'] = np.where(df_targets['event_type'] == 'purchase',1,0)"
   ]
  },
  {
   "cell_type": "code",
   "execution_count": 624,
   "metadata": {},
   "outputs": [],
   "source": [
    "#max session/ last action of user\n",
    "df_targets['is_purchased'] = df_targets.groupby(['user_session','product_id'])['is_purchased'].transform('max')"
   ]
  },
  {
   "cell_type": "code",
   "execution_count": 625,
   "metadata": {},
   "outputs": [],
   "source": [
    "#select data who is in cart\n",
    "df_targets = df_targets.loc[df_targets['event_type']=='cart'].drop_duplicates(['user_session','product_id','is_purchased'])"
   ]
  },
  {
   "cell_type": "code",
   "execution_count": 626,
   "metadata": {},
   "outputs": [
    {
     "data": {
      "text/html": [
       "<div>\n",
       "<style scoped>\n",
       "    .dataframe tbody tr th:only-of-type {\n",
       "        vertical-align: middle;\n",
       "    }\n",
       "\n",
       "    .dataframe tbody tr th {\n",
       "        vertical-align: top;\n",
       "    }\n",
       "\n",
       "    .dataframe thead th {\n",
       "        text-align: right;\n",
       "    }\n",
       "</style>\n",
       "<table border=\"1\" class=\"dataframe\">\n",
       "  <thead>\n",
       "    <tr style=\"text-align: right;\">\n",
       "      <th></th>\n",
       "      <th>event_time</th>\n",
       "      <th>event_type</th>\n",
       "      <th>product_id</th>\n",
       "      <th>category_id</th>\n",
       "      <th>category_code</th>\n",
       "      <th>brand</th>\n",
       "      <th>price</th>\n",
       "      <th>user_id</th>\n",
       "      <th>user_session</th>\n",
       "      <th>is_purchased</th>\n",
       "    </tr>\n",
       "  </thead>\n",
       "  <tbody>\n",
       "    <tr>\n",
       "      <th>37</th>\n",
       "      <td>2020-09-24 12:02:53+00:00</td>\n",
       "      <td>cart</td>\n",
       "      <td>1507291</td>\n",
       "      <td>2144415926806642904</td>\n",
       "      <td>computers.components.power_supply</td>\n",
       "      <td>supermicro</td>\n",
       "      <td>217.57</td>\n",
       "      <td>1515915625519390468</td>\n",
       "      <td>UzabYgCPva</td>\n",
       "      <td>0.0</td>\n",
       "    </tr>\n",
       "    <tr>\n",
       "      <th>59</th>\n",
       "      <td>2020-09-24 12:08:24+00:00</td>\n",
       "      <td>cart</td>\n",
       "      <td>136700</td>\n",
       "      <td>2144415924491387038</td>\n",
       "      <td>computers.components.motherboard</td>\n",
       "      <td>asrock</td>\n",
       "      <td>77.73</td>\n",
       "      <td>1515915625519392459</td>\n",
       "      <td>0KdrxeTB4x</td>\n",
       "      <td>0.0</td>\n",
       "    </tr>\n",
       "    <tr>\n",
       "      <th>71</th>\n",
       "      <td>2020-09-24 12:12:16+00:00</td>\n",
       "      <td>cart</td>\n",
       "      <td>822426</td>\n",
       "      <td>2144415922360680550</td>\n",
       "      <td>computers.peripherals.camera</td>\n",
       "      <td>logitech</td>\n",
       "      <td>123.35</td>\n",
       "      <td>1515915625513574486</td>\n",
       "      <td>2gngxS29Ts</td>\n",
       "      <td>1.0</td>\n",
       "    </tr>\n",
       "    <tr>\n",
       "      <th>75</th>\n",
       "      <td>2020-09-24 12:13:03+00:00</td>\n",
       "      <td>cart</td>\n",
       "      <td>1283197</td>\n",
       "      <td>2144415973413749245</td>\n",
       "      <td>computers.peripherals.nas</td>\n",
       "      <td>zyxel</td>\n",
       "      <td>123.79</td>\n",
       "      <td>1515915625519356010</td>\n",
       "      <td>3jFpdbozOd</td>\n",
       "      <td>1.0</td>\n",
       "    </tr>\n",
       "    <tr>\n",
       "      <th>90</th>\n",
       "      <td>2020-09-24 12:16:41+00:00</td>\n",
       "      <td>cart</td>\n",
       "      <td>1263516</td>\n",
       "      <td>2144415950991000437</td>\n",
       "      <td>NaN</td>\n",
       "      <td>fubag</td>\n",
       "      <td>75.67</td>\n",
       "      <td>1515915625517759569</td>\n",
       "      <td>U0jPRvGG9t</td>\n",
       "      <td>0.0</td>\n",
       "    </tr>\n",
       "    <tr>\n",
       "      <th>...</th>\n",
       "      <td>...</td>\n",
       "      <td>...</td>\n",
       "      <td>...</td>\n",
       "      <td>...</td>\n",
       "      <td>...</td>\n",
       "      <td>...</td>\n",
       "      <td>...</td>\n",
       "      <td>...</td>\n",
       "      <td>...</td>\n",
       "      <td>...</td>\n",
       "    </tr>\n",
       "    <tr>\n",
       "      <th>885042</th>\n",
       "      <td>2021-02-28 23:07:59+00:00</td>\n",
       "      <td>cart</td>\n",
       "      <td>877060</td>\n",
       "      <td>2144415922427789416</td>\n",
       "      <td>computers.components.videocards</td>\n",
       "      <td>msi</td>\n",
       "      <td>187.29</td>\n",
       "      <td>1515915625611018641</td>\n",
       "      <td>ZsznyCi4it</td>\n",
       "      <td>0.0</td>\n",
       "    </tr>\n",
       "    <tr>\n",
       "      <th>885054</th>\n",
       "      <td>2021-02-28 23:11:50+00:00</td>\n",
       "      <td>cart</td>\n",
       "      <td>876659</td>\n",
       "      <td>2144415922427789416</td>\n",
       "      <td>computers.components.videocards</td>\n",
       "      <td>msi</td>\n",
       "      <td>210.68</td>\n",
       "      <td>1515915625611018641</td>\n",
       "      <td>ZsznyCi4it</td>\n",
       "      <td>0.0</td>\n",
       "    </tr>\n",
       "    <tr>\n",
       "      <th>885066</th>\n",
       "      <td>2021-02-28 23:15:30+00:00</td>\n",
       "      <td>cart</td>\n",
       "      <td>4154620</td>\n",
       "      <td>2144415922427789416</td>\n",
       "      <td>computers.components.videocards</td>\n",
       "      <td>msi</td>\n",
       "      <td>656.63</td>\n",
       "      <td>1515915625596749373</td>\n",
       "      <td>h4fcX0qpOc</td>\n",
       "      <td>1.0</td>\n",
       "    </tr>\n",
       "    <tr>\n",
       "      <th>885075</th>\n",
       "      <td>2021-02-28 23:19:47+00:00</td>\n",
       "      <td>cart</td>\n",
       "      <td>4183856</td>\n",
       "      <td>2144415922427789416</td>\n",
       "      <td>computers.components.videocards</td>\n",
       "      <td>msi</td>\n",
       "      <td>215.06</td>\n",
       "      <td>1515915625600984641</td>\n",
       "      <td>xV9ChHc8af</td>\n",
       "      <td>0.0</td>\n",
       "    </tr>\n",
       "    <tr>\n",
       "      <th>885088</th>\n",
       "      <td>2021-02-28 23:25:08+00:00</td>\n",
       "      <td>cart</td>\n",
       "      <td>3829572</td>\n",
       "      <td>2144415924021624977</td>\n",
       "      <td>electronics.tablet</td>\n",
       "      <td>samsung</td>\n",
       "      <td>57.62</td>\n",
       "      <td>1515915625597508619</td>\n",
       "      <td>EqOuydyqRJ</td>\n",
       "      <td>1.0</td>\n",
       "    </tr>\n",
       "  </tbody>\n",
       "</table>\n",
       "<p>49006 rows × 10 columns</p>\n",
       "</div>"
      ],
      "text/plain": [
       "                      event_time event_type  product_id          category_id  \\\n",
       "37     2020-09-24 12:02:53+00:00       cart     1507291  2144415926806642904   \n",
       "59     2020-09-24 12:08:24+00:00       cart      136700  2144415924491387038   \n",
       "71     2020-09-24 12:12:16+00:00       cart      822426  2144415922360680550   \n",
       "75     2020-09-24 12:13:03+00:00       cart     1283197  2144415973413749245   \n",
       "90     2020-09-24 12:16:41+00:00       cart     1263516  2144415950991000437   \n",
       "...                          ...        ...         ...                  ...   \n",
       "885042 2021-02-28 23:07:59+00:00       cart      877060  2144415922427789416   \n",
       "885054 2021-02-28 23:11:50+00:00       cart      876659  2144415922427789416   \n",
       "885066 2021-02-28 23:15:30+00:00       cart     4154620  2144415922427789416   \n",
       "885075 2021-02-28 23:19:47+00:00       cart     4183856  2144415922427789416   \n",
       "885088 2021-02-28 23:25:08+00:00       cart     3829572  2144415924021624977   \n",
       "\n",
       "                            category_code       brand   price  \\\n",
       "37      computers.components.power_supply  supermicro  217.57   \n",
       "59       computers.components.motherboard      asrock   77.73   \n",
       "71           computers.peripherals.camera    logitech  123.35   \n",
       "75              computers.peripherals.nas       zyxel  123.79   \n",
       "90                                    NaN       fubag   75.67   \n",
       "...                                   ...         ...     ...   \n",
       "885042    computers.components.videocards         msi  187.29   \n",
       "885054    computers.components.videocards         msi  210.68   \n",
       "885066    computers.components.videocards         msi  656.63   \n",
       "885075    computers.components.videocards         msi  215.06   \n",
       "885088                 electronics.tablet     samsung   57.62   \n",
       "\n",
       "                    user_id user_session  is_purchased  \n",
       "37      1515915625519390468   UzabYgCPva           0.0  \n",
       "59      1515915625519392459   0KdrxeTB4x           0.0  \n",
       "71      1515915625513574486   2gngxS29Ts           1.0  \n",
       "75      1515915625519356010   3jFpdbozOd           1.0  \n",
       "90      1515915625517759569   U0jPRvGG9t           0.0  \n",
       "...                     ...          ...           ...  \n",
       "885042  1515915625611018641   ZsznyCi4it           0.0  \n",
       "885054  1515915625611018641   ZsznyCi4it           0.0  \n",
       "885066  1515915625596749373   h4fcX0qpOc           1.0  \n",
       "885075  1515915625600984641   xV9ChHc8af           0.0  \n",
       "885088  1515915625597508619   EqOuydyqRJ           1.0  \n",
       "\n",
       "[49006 rows x 10 columns]"
      ]
     },
     "execution_count": 626,
     "metadata": {},
     "output_type": "execute_result"
    }
   ],
   "source": [
    "#here the looks our new dataset\n",
    "df_targets"
   ]
  },
  {
   "cell_type": "code",
   "execution_count": 627,
   "metadata": {},
   "outputs": [],
   "source": [
    "df_targets.reset_index(drop=True,inplace=True)"
   ]
  },
  {
   "cell_type": "code",
   "execution_count": 628,
   "metadata": {},
   "outputs": [
    {
     "data": {
      "text/html": [
       "<div>\n",
       "<style scoped>\n",
       "    .dataframe tbody tr th:only-of-type {\n",
       "        vertical-align: middle;\n",
       "    }\n",
       "\n",
       "    .dataframe tbody tr th {\n",
       "        vertical-align: top;\n",
       "    }\n",
       "\n",
       "    .dataframe thead th {\n",
       "        text-align: right;\n",
       "    }\n",
       "</style>\n",
       "<table border=\"1\" class=\"dataframe\">\n",
       "  <thead>\n",
       "    <tr style=\"text-align: right;\">\n",
       "      <th></th>\n",
       "      <th>event_time</th>\n",
       "      <th>event_type</th>\n",
       "      <th>product_id</th>\n",
       "      <th>category_id</th>\n",
       "      <th>category_code</th>\n",
       "      <th>brand</th>\n",
       "      <th>price</th>\n",
       "      <th>user_id</th>\n",
       "      <th>user_session</th>\n",
       "      <th>is_purchased</th>\n",
       "    </tr>\n",
       "  </thead>\n",
       "  <tbody>\n",
       "    <tr>\n",
       "      <th>0</th>\n",
       "      <td>2020-09-24 12:02:53+00:00</td>\n",
       "      <td>cart</td>\n",
       "      <td>1507291</td>\n",
       "      <td>2144415926806642904</td>\n",
       "      <td>computers.components.power_supply</td>\n",
       "      <td>supermicro</td>\n",
       "      <td>217.57</td>\n",
       "      <td>1515915625519390468</td>\n",
       "      <td>UzabYgCPva</td>\n",
       "      <td>0.0</td>\n",
       "    </tr>\n",
       "    <tr>\n",
       "      <th>1</th>\n",
       "      <td>2020-09-24 12:08:24+00:00</td>\n",
       "      <td>cart</td>\n",
       "      <td>136700</td>\n",
       "      <td>2144415924491387038</td>\n",
       "      <td>computers.components.motherboard</td>\n",
       "      <td>asrock</td>\n",
       "      <td>77.73</td>\n",
       "      <td>1515915625519392459</td>\n",
       "      <td>0KdrxeTB4x</td>\n",
       "      <td>0.0</td>\n",
       "    </tr>\n",
       "    <tr>\n",
       "      <th>2</th>\n",
       "      <td>2020-09-24 12:12:16+00:00</td>\n",
       "      <td>cart</td>\n",
       "      <td>822426</td>\n",
       "      <td>2144415922360680550</td>\n",
       "      <td>computers.peripherals.camera</td>\n",
       "      <td>logitech</td>\n",
       "      <td>123.35</td>\n",
       "      <td>1515915625513574486</td>\n",
       "      <td>2gngxS29Ts</td>\n",
       "      <td>1.0</td>\n",
       "    </tr>\n",
       "    <tr>\n",
       "      <th>3</th>\n",
       "      <td>2020-09-24 12:13:03+00:00</td>\n",
       "      <td>cart</td>\n",
       "      <td>1283197</td>\n",
       "      <td>2144415973413749245</td>\n",
       "      <td>computers.peripherals.nas</td>\n",
       "      <td>zyxel</td>\n",
       "      <td>123.79</td>\n",
       "      <td>1515915625519356010</td>\n",
       "      <td>3jFpdbozOd</td>\n",
       "      <td>1.0</td>\n",
       "    </tr>\n",
       "    <tr>\n",
       "      <th>4</th>\n",
       "      <td>2020-09-24 12:16:41+00:00</td>\n",
       "      <td>cart</td>\n",
       "      <td>1263516</td>\n",
       "      <td>2144415950991000437</td>\n",
       "      <td>NaN</td>\n",
       "      <td>fubag</td>\n",
       "      <td>75.67</td>\n",
       "      <td>1515915625517759569</td>\n",
       "      <td>U0jPRvGG9t</td>\n",
       "      <td>0.0</td>\n",
       "    </tr>\n",
       "    <tr>\n",
       "      <th>...</th>\n",
       "      <td>...</td>\n",
       "      <td>...</td>\n",
       "      <td>...</td>\n",
       "      <td>...</td>\n",
       "      <td>...</td>\n",
       "      <td>...</td>\n",
       "      <td>...</td>\n",
       "      <td>...</td>\n",
       "      <td>...</td>\n",
       "      <td>...</td>\n",
       "    </tr>\n",
       "    <tr>\n",
       "      <th>49001</th>\n",
       "      <td>2021-02-28 23:07:59+00:00</td>\n",
       "      <td>cart</td>\n",
       "      <td>877060</td>\n",
       "      <td>2144415922427789416</td>\n",
       "      <td>computers.components.videocards</td>\n",
       "      <td>msi</td>\n",
       "      <td>187.29</td>\n",
       "      <td>1515915625611018641</td>\n",
       "      <td>ZsznyCi4it</td>\n",
       "      <td>0.0</td>\n",
       "    </tr>\n",
       "    <tr>\n",
       "      <th>49002</th>\n",
       "      <td>2021-02-28 23:11:50+00:00</td>\n",
       "      <td>cart</td>\n",
       "      <td>876659</td>\n",
       "      <td>2144415922427789416</td>\n",
       "      <td>computers.components.videocards</td>\n",
       "      <td>msi</td>\n",
       "      <td>210.68</td>\n",
       "      <td>1515915625611018641</td>\n",
       "      <td>ZsznyCi4it</td>\n",
       "      <td>0.0</td>\n",
       "    </tr>\n",
       "    <tr>\n",
       "      <th>49003</th>\n",
       "      <td>2021-02-28 23:15:30+00:00</td>\n",
       "      <td>cart</td>\n",
       "      <td>4154620</td>\n",
       "      <td>2144415922427789416</td>\n",
       "      <td>computers.components.videocards</td>\n",
       "      <td>msi</td>\n",
       "      <td>656.63</td>\n",
       "      <td>1515915625596749373</td>\n",
       "      <td>h4fcX0qpOc</td>\n",
       "      <td>1.0</td>\n",
       "    </tr>\n",
       "    <tr>\n",
       "      <th>49004</th>\n",
       "      <td>2021-02-28 23:19:47+00:00</td>\n",
       "      <td>cart</td>\n",
       "      <td>4183856</td>\n",
       "      <td>2144415922427789416</td>\n",
       "      <td>computers.components.videocards</td>\n",
       "      <td>msi</td>\n",
       "      <td>215.06</td>\n",
       "      <td>1515915625600984641</td>\n",
       "      <td>xV9ChHc8af</td>\n",
       "      <td>0.0</td>\n",
       "    </tr>\n",
       "    <tr>\n",
       "      <th>49005</th>\n",
       "      <td>2021-02-28 23:25:08+00:00</td>\n",
       "      <td>cart</td>\n",
       "      <td>3829572</td>\n",
       "      <td>2144415924021624977</td>\n",
       "      <td>electronics.tablet</td>\n",
       "      <td>samsung</td>\n",
       "      <td>57.62</td>\n",
       "      <td>1515915625597508619</td>\n",
       "      <td>EqOuydyqRJ</td>\n",
       "      <td>1.0</td>\n",
       "    </tr>\n",
       "  </tbody>\n",
       "</table>\n",
       "<p>49006 rows × 10 columns</p>\n",
       "</div>"
      ],
      "text/plain": [
       "                     event_time event_type  product_id          category_id  \\\n",
       "0     2020-09-24 12:02:53+00:00       cart     1507291  2144415926806642904   \n",
       "1     2020-09-24 12:08:24+00:00       cart      136700  2144415924491387038   \n",
       "2     2020-09-24 12:12:16+00:00       cart      822426  2144415922360680550   \n",
       "3     2020-09-24 12:13:03+00:00       cart     1283197  2144415973413749245   \n",
       "4     2020-09-24 12:16:41+00:00       cart     1263516  2144415950991000437   \n",
       "...                         ...        ...         ...                  ...   \n",
       "49001 2021-02-28 23:07:59+00:00       cart      877060  2144415922427789416   \n",
       "49002 2021-02-28 23:11:50+00:00       cart      876659  2144415922427789416   \n",
       "49003 2021-02-28 23:15:30+00:00       cart     4154620  2144415922427789416   \n",
       "49004 2021-02-28 23:19:47+00:00       cart     4183856  2144415922427789416   \n",
       "49005 2021-02-28 23:25:08+00:00       cart     3829572  2144415924021624977   \n",
       "\n",
       "                           category_code       brand   price  \\\n",
       "0      computers.components.power_supply  supermicro  217.57   \n",
       "1       computers.components.motherboard      asrock   77.73   \n",
       "2           computers.peripherals.camera    logitech  123.35   \n",
       "3              computers.peripherals.nas       zyxel  123.79   \n",
       "4                                    NaN       fubag   75.67   \n",
       "...                                  ...         ...     ...   \n",
       "49001    computers.components.videocards         msi  187.29   \n",
       "49002    computers.components.videocards         msi  210.68   \n",
       "49003    computers.components.videocards         msi  656.63   \n",
       "49004    computers.components.videocards         msi  215.06   \n",
       "49005                 electronics.tablet     samsung   57.62   \n",
       "\n",
       "                   user_id user_session  is_purchased  \n",
       "0      1515915625519390468   UzabYgCPva           0.0  \n",
       "1      1515915625519392459   0KdrxeTB4x           0.0  \n",
       "2      1515915625513574486   2gngxS29Ts           1.0  \n",
       "3      1515915625519356010   3jFpdbozOd           1.0  \n",
       "4      1515915625517759569   U0jPRvGG9t           0.0  \n",
       "...                    ...          ...           ...  \n",
       "49001  1515915625611018641   ZsznyCi4it           0.0  \n",
       "49002  1515915625611018641   ZsznyCi4it           0.0  \n",
       "49003  1515915625596749373   h4fcX0qpOc           1.0  \n",
       "49004  1515915625600984641   xV9ChHc8af           0.0  \n",
       "49005  1515915625597508619   EqOuydyqRJ           1.0  \n",
       "\n",
       "[49006 rows x 10 columns]"
      ]
     },
     "execution_count": 628,
     "metadata": {},
     "output_type": "execute_result"
    }
   ],
   "source": [
    "df_targets"
   ]
  },
  {
   "cell_type": "code",
   "execution_count": 629,
   "metadata": {},
   "outputs": [
    {
     "data": {
      "text/plain": [
       "7Zn6sQCLR8    26\n",
       "g14p0daQ2f    25\n",
       "F6ohHpTTBU    22\n",
       "buLqJNGWxk    22\n",
       "B1tWsU8Xa7    22\n",
       "              ..\n",
       "T3k5GN6yiC     1\n",
       "vscnKVtNYu     1\n",
       "D4jAiGsxDW     1\n",
       "C1U4UpW8Px     1\n",
       "EqOuydyqRJ     1\n",
       "Name: user_session, Length: 41270, dtype: int64"
      ]
     },
     "execution_count": 629,
     "metadata": {},
     "output_type": "execute_result"
    }
   ],
   "source": [
    "#check user activity\n",
    "df_targets.user_session.value_counts()"
   ]
  },
  {
   "cell_type": "code",
   "execution_count": 630,
   "metadata": {},
   "outputs": [
    {
     "data": {
      "text/html": [
       "<div>\n",
       "<style scoped>\n",
       "    .dataframe tbody tr th:only-of-type {\n",
       "        vertical-align: middle;\n",
       "    }\n",
       "\n",
       "    .dataframe tbody tr th {\n",
       "        vertical-align: top;\n",
       "    }\n",
       "\n",
       "    .dataframe thead th {\n",
       "        text-align: right;\n",
       "    }\n",
       "</style>\n",
       "<table border=\"1\" class=\"dataframe\">\n",
       "  <thead>\n",
       "    <tr style=\"text-align: right;\">\n",
       "      <th></th>\n",
       "      <th>event_time</th>\n",
       "      <th>event_type</th>\n",
       "      <th>product_id</th>\n",
       "      <th>category_id</th>\n",
       "      <th>category_code</th>\n",
       "      <th>brand</th>\n",
       "      <th>price</th>\n",
       "      <th>user_id</th>\n",
       "      <th>user_session</th>\n",
       "      <th>is_purchased</th>\n",
       "    </tr>\n",
       "  </thead>\n",
       "  <tbody>\n",
       "    <tr>\n",
       "      <th>21066</th>\n",
       "      <td>2020-12-11 08:32:52+00:00</td>\n",
       "      <td>cart</td>\n",
       "      <td>1413338</td>\n",
       "      <td>2144415926966026460</td>\n",
       "      <td>computers.components.cpu</td>\n",
       "      <td>amd</td>\n",
       "      <td>178.22</td>\n",
       "      <td>1515915625556423168</td>\n",
       "      <td>7Zn6sQCLR8</td>\n",
       "      <td>0.0</td>\n",
       "    </tr>\n",
       "    <tr>\n",
       "      <th>21070</th>\n",
       "      <td>2020-12-11 08:35:23+00:00</td>\n",
       "      <td>cart</td>\n",
       "      <td>952889</td>\n",
       "      <td>2144415926806642904</td>\n",
       "      <td>computers.components.power_supply</td>\n",
       "      <td>chieftec</td>\n",
       "      <td>65.16</td>\n",
       "      <td>1515915625556423168</td>\n",
       "      <td>7Zn6sQCLR8</td>\n",
       "      <td>0.0</td>\n",
       "    </tr>\n",
       "    <tr>\n",
       "      <th>21071</th>\n",
       "      <td>2020-12-11 08:35:50+00:00</td>\n",
       "      <td>cart</td>\n",
       "      <td>3606492</td>\n",
       "      <td>2144415924491387038</td>\n",
       "      <td>computers.components.motherboard</td>\n",
       "      <td>asrock</td>\n",
       "      <td>81.14</td>\n",
       "      <td>1515915625556423168</td>\n",
       "      <td>7Zn6sQCLR8</td>\n",
       "      <td>0.0</td>\n",
       "    </tr>\n",
       "    <tr>\n",
       "      <th>21072</th>\n",
       "      <td>2020-12-11 08:36:27+00:00</td>\n",
       "      <td>cart</td>\n",
       "      <td>4154414</td>\n",
       "      <td>2144415922427789416</td>\n",
       "      <td>computers.components.videocards</td>\n",
       "      <td>gigabyte</td>\n",
       "      <td>202.67</td>\n",
       "      <td>1515915625556423168</td>\n",
       "      <td>7Zn6sQCLR8</td>\n",
       "      <td>0.0</td>\n",
       "    </tr>\n",
       "    <tr>\n",
       "      <th>21075</th>\n",
       "      <td>2020-12-11 08:41:53+00:00</td>\n",
       "      <td>cart</td>\n",
       "      <td>4099645</td>\n",
       "      <td>2144415922427789416</td>\n",
       "      <td>computers.components.videocards</td>\n",
       "      <td>gigabyte</td>\n",
       "      <td>292.83</td>\n",
       "      <td>1515915625556423168</td>\n",
       "      <td>7Zn6sQCLR8</td>\n",
       "      <td>0.0</td>\n",
       "    </tr>\n",
       "  </tbody>\n",
       "</table>\n",
       "</div>"
      ],
      "text/plain": [
       "                     event_time event_type  product_id          category_id  \\\n",
       "21066 2020-12-11 08:32:52+00:00       cart     1413338  2144415926966026460   \n",
       "21070 2020-12-11 08:35:23+00:00       cart      952889  2144415926806642904   \n",
       "21071 2020-12-11 08:35:50+00:00       cart     3606492  2144415924491387038   \n",
       "21072 2020-12-11 08:36:27+00:00       cart     4154414  2144415922427789416   \n",
       "21075 2020-12-11 08:41:53+00:00       cart     4099645  2144415922427789416   \n",
       "\n",
       "                           category_code     brand   price  \\\n",
       "21066           computers.components.cpu       amd  178.22   \n",
       "21070  computers.components.power_supply  chieftec   65.16   \n",
       "21071   computers.components.motherboard    asrock   81.14   \n",
       "21072    computers.components.videocards  gigabyte  202.67   \n",
       "21075    computers.components.videocards  gigabyte  292.83   \n",
       "\n",
       "                   user_id user_session  is_purchased  \n",
       "21066  1515915625556423168   7Zn6sQCLR8           0.0  \n",
       "21070  1515915625556423168   7Zn6sQCLR8           0.0  \n",
       "21071  1515915625556423168   7Zn6sQCLR8           0.0  \n",
       "21072  1515915625556423168   7Zn6sQCLR8           0.0  \n",
       "21075  1515915625556423168   7Zn6sQCLR8           0.0  "
      ]
     },
     "execution_count": 630,
     "metadata": {},
     "output_type": "execute_result"
    }
   ],
   "source": [
    "df_targets.query(\"user_session == '7Zn6sQCLR8'\").head(5)"
   ]
  },
  {
   "cell_type": "code",
   "execution_count": 631,
   "metadata": {},
   "outputs": [
    {
     "name": "stdout",
     "output_type": "stream",
     "text": [
      "shape :  (26, 10)\n"
     ]
    }
   ],
   "source": [
    "print('shape : ', df_targets.query(\"user_session == '7Zn6sQCLR8'\").shape)"
   ]
  },
  {
   "cell_type": "markdown",
   "metadata": {},
   "source": [
    "As we can see. user with user ID = 1515915625556423168 have  activity with 26 activity with the difference categories and products."
   ]
  },
  {
   "cell_type": "code",
   "execution_count": 632,
   "metadata": {},
   "outputs": [
    {
     "data": {
      "text/plain": [
       "0.0    26013\n",
       "1.0    22987\n",
       "Name: is_purchased, dtype: int64"
      ]
     },
     "execution_count": 632,
     "metadata": {},
     "output_type": "execute_result"
    }
   ],
   "source": [
    "df_targets.is_purchased.value_counts()"
   ]
  },
  {
   "cell_type": "code",
   "execution_count": 633,
   "metadata": {},
   "outputs": [
    {
     "data": {
      "text/plain": [
       "event_time           0\n",
       "event_type           0\n",
       "product_id           0\n",
       "category_id          0\n",
       "category_code     9417\n",
       "brand            11437\n",
       "price                0\n",
       "user_id              0\n",
       "user_session         6\n",
       "is_purchased         6\n",
       "dtype: int64"
      ]
     },
     "execution_count": 633,
     "metadata": {},
     "output_type": "execute_result"
    }
   ],
   "source": [
    "#Check missing value\n",
    "df_targets.isnull().sum()\n"
   ]
  },
  {
   "cell_type": "code",
   "execution_count": 634,
   "metadata": {},
   "outputs": [
    {
     "name": "stdout",
     "output_type": "stream",
     "text": [
      "missing value of category_code :  19%\n",
      "missing value of brand :  23%\n"
     ]
    }
   ],
   "source": [
    "print('missing value of category_code : ', \"{:.0%}\".format(df_targets['category_code'].isnull().sum()/len(df_targets['category_code'])))\n",
    "print('missing value of brand : ', \"{:.0%}\".format(df_targets['brand'].isnull().sum()/len(df_targets['brand'])))\n"
   ]
  },
  {
   "cell_type": "code",
   "execution_count": 635,
   "metadata": {},
   "outputs": [
    {
     "data": {
      "text/html": [
       "<div>\n",
       "<style scoped>\n",
       "    .dataframe tbody tr th:only-of-type {\n",
       "        vertical-align: middle;\n",
       "    }\n",
       "\n",
       "    .dataframe tbody tr th {\n",
       "        vertical-align: top;\n",
       "    }\n",
       "\n",
       "    .dataframe thead th {\n",
       "        text-align: right;\n",
       "    }\n",
       "</style>\n",
       "<table border=\"1\" class=\"dataframe\">\n",
       "  <thead>\n",
       "    <tr style=\"text-align: right;\">\n",
       "      <th></th>\n",
       "      <th>event_time</th>\n",
       "      <th>event_type</th>\n",
       "      <th>product_id</th>\n",
       "      <th>category_id</th>\n",
       "      <th>category_code</th>\n",
       "      <th>brand</th>\n",
       "      <th>price</th>\n",
       "      <th>user_id</th>\n",
       "      <th>user_session</th>\n",
       "      <th>is_purchased</th>\n",
       "    </tr>\n",
       "  </thead>\n",
       "  <tbody>\n",
       "    <tr>\n",
       "      <th>4</th>\n",
       "      <td>2020-09-24 12:16:41+00:00</td>\n",
       "      <td>cart</td>\n",
       "      <td>1263516</td>\n",
       "      <td>2144415950991000437</td>\n",
       "      <td>NaN</td>\n",
       "      <td>fubag</td>\n",
       "      <td>75.67</td>\n",
       "      <td>1515915625517759569</td>\n",
       "      <td>U0jPRvGG9t</td>\n",
       "      <td>0.0</td>\n",
       "    </tr>\n",
       "    <tr>\n",
       "      <th>5</th>\n",
       "      <td>2020-09-24 12:27:39+00:00</td>\n",
       "      <td>cart</td>\n",
       "      <td>888783</td>\n",
       "      <td>2144415922167742561</td>\n",
       "      <td>computers.components.hdd</td>\n",
       "      <td>NaN</td>\n",
       "      <td>83.02</td>\n",
       "      <td>1515915625519356010</td>\n",
       "      <td>3jFpdbozOd</td>\n",
       "      <td>1.0</td>\n",
       "    </tr>\n",
       "    <tr>\n",
       "      <th>6</th>\n",
       "      <td>2020-09-24 12:38:52+00:00</td>\n",
       "      <td>cart</td>\n",
       "      <td>1674454</td>\n",
       "      <td>2144415922528452715</td>\n",
       "      <td>electronics.telephone</td>\n",
       "      <td>NaN</td>\n",
       "      <td>11.86</td>\n",
       "      <td>1515915625519401159</td>\n",
       "      <td>v1oSQvC6hH</td>\n",
       "      <td>1.0</td>\n",
       "    </tr>\n",
       "    <tr>\n",
       "      <th>7</th>\n",
       "      <td>2020-09-24 12:44:28+00:00</td>\n",
       "      <td>cart</td>\n",
       "      <td>4047109</td>\n",
       "      <td>2144415921815421016</td>\n",
       "      <td>NaN</td>\n",
       "      <td>samsung</td>\n",
       "      <td>33.08</td>\n",
       "      <td>1515915625470995608</td>\n",
       "      <td>01471d2f-3aae-432e-8c5c-4b3ab24723c8</td>\n",
       "      <td>1.0</td>\n",
       "    </tr>\n",
       "    <tr>\n",
       "      <th>9</th>\n",
       "      <td>2020-09-24 12:50:00+00:00</td>\n",
       "      <td>cart</td>\n",
       "      <td>4013079</td>\n",
       "      <td>2144415921932861531</td>\n",
       "      <td>electronics.telephone</td>\n",
       "      <td>NaN</td>\n",
       "      <td>11.27</td>\n",
       "      <td>1515915625519258287</td>\n",
       "      <td>7DGcRi1GB8</td>\n",
       "      <td>1.0</td>\n",
       "    </tr>\n",
       "    <tr>\n",
       "      <th>...</th>\n",
       "      <td>...</td>\n",
       "      <td>...</td>\n",
       "      <td>...</td>\n",
       "      <td>...</td>\n",
       "      <td>...</td>\n",
       "      <td>...</td>\n",
       "      <td>...</td>\n",
       "      <td>...</td>\n",
       "      <td>...</td>\n",
       "      <td>...</td>\n",
       "    </tr>\n",
       "    <tr>\n",
       "      <th>48984</th>\n",
       "      <td>2021-02-28 21:57:50+00:00</td>\n",
       "      <td>cart</td>\n",
       "      <td>1821813</td>\n",
       "      <td>2144415922427789416</td>\n",
       "      <td>computers.components.videocards</td>\n",
       "      <td>NaN</td>\n",
       "      <td>397.48</td>\n",
       "      <td>1515915625611010717</td>\n",
       "      <td>0onlmUcY6i</td>\n",
       "      <td>0.0</td>\n",
       "    </tr>\n",
       "    <tr>\n",
       "      <th>48986</th>\n",
       "      <td>2021-02-28 22:07:30+00:00</td>\n",
       "      <td>cart</td>\n",
       "      <td>1821813</td>\n",
       "      <td>2144415922427789416</td>\n",
       "      <td>computers.components.videocards</td>\n",
       "      <td>NaN</td>\n",
       "      <td>397.48</td>\n",
       "      <td>1515915625611011228</td>\n",
       "      <td>oYhA1j65av</td>\n",
       "      <td>0.0</td>\n",
       "    </tr>\n",
       "    <tr>\n",
       "      <th>48987</th>\n",
       "      <td>2021-02-28 22:08:20+00:00</td>\n",
       "      <td>cart</td>\n",
       "      <td>1843522</td>\n",
       "      <td>2144415921169498184</td>\n",
       "      <td>NaN</td>\n",
       "      <td>NaN</td>\n",
       "      <td>15.08</td>\n",
       "      <td>1515915625611011782</td>\n",
       "      <td>TfhnBEfrPs</td>\n",
       "      <td>1.0</td>\n",
       "    </tr>\n",
       "    <tr>\n",
       "      <th>48989</th>\n",
       "      <td>2021-02-28 22:16:51+00:00</td>\n",
       "      <td>cart</td>\n",
       "      <td>4183872</td>\n",
       "      <td>2144415922427789416</td>\n",
       "      <td>computers.components.videocards</td>\n",
       "      <td>NaN</td>\n",
       "      <td>349.46</td>\n",
       "      <td>1515915625611013140</td>\n",
       "      <td>2I6jrYfgMF</td>\n",
       "      <td>0.0</td>\n",
       "    </tr>\n",
       "    <tr>\n",
       "      <th>49000</th>\n",
       "      <td>2021-02-28 23:05:31+00:00</td>\n",
       "      <td>cart</td>\n",
       "      <td>1850560</td>\n",
       "      <td>2144415926848585945</td>\n",
       "      <td>NaN</td>\n",
       "      <td>zalman</td>\n",
       "      <td>43.48</td>\n",
       "      <td>1515915625600984641</td>\n",
       "      <td>I9uS1cgcqR</td>\n",
       "      <td>0.0</td>\n",
       "    </tr>\n",
       "  </tbody>\n",
       "</table>\n",
       "<p>17604 rows × 10 columns</p>\n",
       "</div>"
      ],
      "text/plain": [
       "                     event_time event_type  product_id          category_id  \\\n",
       "4     2020-09-24 12:16:41+00:00       cart     1263516  2144415950991000437   \n",
       "5     2020-09-24 12:27:39+00:00       cart      888783  2144415922167742561   \n",
       "6     2020-09-24 12:38:52+00:00       cart     1674454  2144415922528452715   \n",
       "7     2020-09-24 12:44:28+00:00       cart     4047109  2144415921815421016   \n",
       "9     2020-09-24 12:50:00+00:00       cart     4013079  2144415921932861531   \n",
       "...                         ...        ...         ...                  ...   \n",
       "48984 2021-02-28 21:57:50+00:00       cart     1821813  2144415922427789416   \n",
       "48986 2021-02-28 22:07:30+00:00       cart     1821813  2144415922427789416   \n",
       "48987 2021-02-28 22:08:20+00:00       cart     1843522  2144415921169498184   \n",
       "48989 2021-02-28 22:16:51+00:00       cart     4183872  2144415922427789416   \n",
       "49000 2021-02-28 23:05:31+00:00       cart     1850560  2144415926848585945   \n",
       "\n",
       "                         category_code    brand   price              user_id  \\\n",
       "4                                  NaN    fubag   75.67  1515915625517759569   \n",
       "5             computers.components.hdd      NaN   83.02  1515915625519356010   \n",
       "6                electronics.telephone      NaN   11.86  1515915625519401159   \n",
       "7                                  NaN  samsung   33.08  1515915625470995608   \n",
       "9                electronics.telephone      NaN   11.27  1515915625519258287   \n",
       "...                                ...      ...     ...                  ...   \n",
       "48984  computers.components.videocards      NaN  397.48  1515915625611010717   \n",
       "48986  computers.components.videocards      NaN  397.48  1515915625611011228   \n",
       "48987                              NaN      NaN   15.08  1515915625611011782   \n",
       "48989  computers.components.videocards      NaN  349.46  1515915625611013140   \n",
       "49000                              NaN   zalman   43.48  1515915625600984641   \n",
       "\n",
       "                               user_session  is_purchased  \n",
       "4                                U0jPRvGG9t           0.0  \n",
       "5                                3jFpdbozOd           1.0  \n",
       "6                                v1oSQvC6hH           1.0  \n",
       "7      01471d2f-3aae-432e-8c5c-4b3ab24723c8           1.0  \n",
       "9                                7DGcRi1GB8           1.0  \n",
       "...                                     ...           ...  \n",
       "48984                            0onlmUcY6i           0.0  \n",
       "48986                            oYhA1j65av           0.0  \n",
       "48987                            TfhnBEfrPs           1.0  \n",
       "48989                            2I6jrYfgMF           0.0  \n",
       "49000                            I9uS1cgcqR           0.0  \n",
       "\n",
       "[17604 rows x 10 columns]"
      ]
     },
     "execution_count": 635,
     "metadata": {},
     "output_type": "execute_result"
    }
   ],
   "source": [
    "misval = df_targets[df_targets.isna().any(axis=1)]\n",
    "misval"
   ]
  },
  {
   "cell_type": "code",
   "execution_count": 636,
   "metadata": {},
   "outputs": [
    {
     "name": "stdout",
     "output_type": "stream",
     "text": [
      "total of missing value :  36%\n"
     ]
    }
   ],
   "source": [
    "print('total of missing value : ', \"{:.0%}\".format(len(misval)/len(df_targets)))"
   ]
  },
  {
   "cell_type": "markdown",
   "metadata": {},
   "source": [
    "With the total of missing value is 36% of the data, we cant drop the missing value or fill the missing value with the mean or median, because that will have a bad impact to the model. "
   ]
  },
  {
   "cell_type": "code",
   "execution_count": 637,
   "metadata": {},
   "outputs": [],
   "source": [
    "# #look category_id columns\n",
    "# df_targets['category_code']"
   ]
  },
  {
   "cell_type": "markdown",
   "metadata": {},
   "source": [
    "If we look the category_code there are 2 or 3 category being one category, so i will split that category_id become main_category and sub_category.\n",
    "Before we split with lambda we must handle the missing value first. i will handle it with LOCF (Last Observe Carried Forward)."
   ]
  },
  {
   "cell_type": "code",
   "execution_count": 638,
   "metadata": {},
   "outputs": [],
   "source": [
    "# #sort by user_id\n",
    "# df_targets.sort_values(by=['user_id'], inplace=True)"
   ]
  },
  {
   "cell_type": "code",
   "execution_count": 639,
   "metadata": {},
   "outputs": [],
   "source": [
    "# #LOCF imputation\n",
    "# df_targets['category_code'] = df['category_code'].fillna(method=)"
   ]
  },
  {
   "cell_type": "code",
   "execution_count": 640,
   "metadata": {},
   "outputs": [
    {
     "data": {
      "text/html": [
       "<div>\n",
       "<style scoped>\n",
       "    .dataframe tbody tr th:only-of-type {\n",
       "        vertical-align: middle;\n",
       "    }\n",
       "\n",
       "    .dataframe tbody tr th {\n",
       "        vertical-align: top;\n",
       "    }\n",
       "\n",
       "    .dataframe thead th {\n",
       "        text-align: right;\n",
       "    }\n",
       "</style>\n",
       "<table border=\"1\" class=\"dataframe\">\n",
       "  <thead>\n",
       "    <tr style=\"text-align: right;\">\n",
       "      <th></th>\n",
       "      <th>event_time</th>\n",
       "      <th>event_type</th>\n",
       "      <th>product_id</th>\n",
       "      <th>category_id</th>\n",
       "      <th>category_code</th>\n",
       "      <th>brand</th>\n",
       "      <th>price</th>\n",
       "      <th>user_id</th>\n",
       "      <th>user_session</th>\n",
       "      <th>is_purchased</th>\n",
       "    </tr>\n",
       "  </thead>\n",
       "  <tbody>\n",
       "    <tr>\n",
       "      <th>8465</th>\n",
       "      <td>2020-10-29 12:40:19+00:00</td>\n",
       "      <td>cart</td>\n",
       "      <td>1578612</td>\n",
       "      <td>2144415922872385653</td>\n",
       "      <td>electronics.tablet</td>\n",
       "      <td>xiaomi</td>\n",
       "      <td>284.30</td>\n",
       "      <td>1515915625531907685</td>\n",
       "      <td>vMO3ZSr7ct</td>\n",
       "      <td>1.0</td>\n",
       "    </tr>\n",
       "    <tr>\n",
       "      <th>18226</th>\n",
       "      <td>2020-11-29 12:49:12+00:00</td>\n",
       "      <td>cart</td>\n",
       "      <td>1428320</td>\n",
       "      <td>2144415941352489571</td>\n",
       "      <td>electronics.tablet</td>\n",
       "      <td>samsung</td>\n",
       "      <td>18.57</td>\n",
       "      <td>1515915625546056654</td>\n",
       "      <td>u6VTGb4IYX</td>\n",
       "      <td>1.0</td>\n",
       "    </tr>\n",
       "    <tr>\n",
       "      <th>18185</th>\n",
       "      <td>2020-11-29 09:44:12+00:00</td>\n",
       "      <td>cart</td>\n",
       "      <td>1976000</td>\n",
       "      <td>2144415926966026460</td>\n",
       "      <td>computers.components.cpu</td>\n",
       "      <td>intel</td>\n",
       "      <td>177.79</td>\n",
       "      <td>1515915625546073321</td>\n",
       "      <td>cqhgAE4Ps4</td>\n",
       "      <td>0.0</td>\n",
       "    </tr>\n",
       "    <tr>\n",
       "      <th>22719</th>\n",
       "      <td>2020-12-17 03:54:52+00:00</td>\n",
       "      <td>cart</td>\n",
       "      <td>374017</td>\n",
       "      <td>2144415925162475696</td>\n",
       "      <td>stationery.paper</td>\n",
       "      <td>lomond</td>\n",
       "      <td>30.17</td>\n",
       "      <td>1515915625542964486</td>\n",
       "      <td>jTVxuSf3CZ</td>\n",
       "      <td>1.0</td>\n",
       "    </tr>\n",
       "    <tr>\n",
       "      <th>3936</th>\n",
       "      <td>2020-10-12 22:00:02+00:00</td>\n",
       "      <td>cart</td>\n",
       "      <td>942339</td>\n",
       "      <td>2144415926966026460</td>\n",
       "      <td>computers.components.cpu</td>\n",
       "      <td>amd</td>\n",
       "      <td>56.27</td>\n",
       "      <td>1515915625525297332</td>\n",
       "      <td>PawXwCbQbk</td>\n",
       "      <td>0.0</td>\n",
       "    </tr>\n",
       "    <tr>\n",
       "      <th>30587</th>\n",
       "      <td>2021-01-12 04:31:32+00:00</td>\n",
       "      <td>cart</td>\n",
       "      <td>4079559</td>\n",
       "      <td>2144415922427789416</td>\n",
       "      <td>computers.components.videocards</td>\n",
       "      <td>msi</td>\n",
       "      <td>624.62</td>\n",
       "      <td>1515915625592120880</td>\n",
       "      <td>AEGImHgQWr</td>\n",
       "      <td>0.0</td>\n",
       "    </tr>\n",
       "    <tr>\n",
       "      <th>21920</th>\n",
       "      <td>2020-12-14 10:41:13+00:00</td>\n",
       "      <td>cart</td>\n",
       "      <td>4279</td>\n",
       "      <td>2144415922360680550</td>\n",
       "      <td>computers.peripherals.camera</td>\n",
       "      <td>logitech</td>\n",
       "      <td>26.46</td>\n",
       "      <td>1515915625562701828</td>\n",
       "      <td>vZ39OqTPW2</td>\n",
       "      <td>0.0</td>\n",
       "    </tr>\n",
       "    <tr>\n",
       "      <th>5125</th>\n",
       "      <td>2020-10-17 14:56:34+00:00</td>\n",
       "      <td>cart</td>\n",
       "      <td>1716464</td>\n",
       "      <td>2144415925808398526</td>\n",
       "      <td>appliances.personal.hair_cutter</td>\n",
       "      <td>harizma</td>\n",
       "      <td>50.05</td>\n",
       "      <td>1515915625527157362</td>\n",
       "      <td>mnj1JFNrAJ</td>\n",
       "      <td>1.0</td>\n",
       "    </tr>\n",
       "    <tr>\n",
       "      <th>7451</th>\n",
       "      <td>2020-10-26 06:15:45+00:00</td>\n",
       "      <td>cart</td>\n",
       "      <td>1830076</td>\n",
       "      <td>2144415926185885895</td>\n",
       "      <td>construction.tools.drill</td>\n",
       "      <td>felisatti</td>\n",
       "      <td>61.13</td>\n",
       "      <td>1515915625529880051</td>\n",
       "      <td>yABYB3BHdW</td>\n",
       "      <td>1.0</td>\n",
       "    </tr>\n",
       "    <tr>\n",
       "      <th>28098</th>\n",
       "      <td>2021-01-05 04:00:16+00:00</td>\n",
       "      <td>cart</td>\n",
       "      <td>4079568</td>\n",
       "      <td>2144415922427789416</td>\n",
       "      <td>computers.components.videocards</td>\n",
       "      <td>asus</td>\n",
       "      <td>124.73</td>\n",
       "      <td>1515915625572927746</td>\n",
       "      <td>S0gW0Vhetf</td>\n",
       "      <td>0.0</td>\n",
       "    </tr>\n",
       "  </tbody>\n",
       "</table>\n",
       "</div>"
      ],
      "text/plain": [
       "                     event_time event_type  product_id          category_id  \\\n",
       "8465  2020-10-29 12:40:19+00:00       cart     1578612  2144415922872385653   \n",
       "18226 2020-11-29 12:49:12+00:00       cart     1428320  2144415941352489571   \n",
       "18185 2020-11-29 09:44:12+00:00       cart     1976000  2144415926966026460   \n",
       "22719 2020-12-17 03:54:52+00:00       cart      374017  2144415925162475696   \n",
       "3936  2020-10-12 22:00:02+00:00       cart      942339  2144415926966026460   \n",
       "30587 2021-01-12 04:31:32+00:00       cart     4079559  2144415922427789416   \n",
       "21920 2020-12-14 10:41:13+00:00       cart        4279  2144415922360680550   \n",
       "5125  2020-10-17 14:56:34+00:00       cart     1716464  2144415925808398526   \n",
       "7451  2020-10-26 06:15:45+00:00       cart     1830076  2144415926185885895   \n",
       "28098 2021-01-05 04:00:16+00:00       cart     4079568  2144415922427789416   \n",
       "\n",
       "                         category_code      brand   price  \\\n",
       "8465                electronics.tablet     xiaomi  284.30   \n",
       "18226               electronics.tablet    samsung   18.57   \n",
       "18185         computers.components.cpu      intel  177.79   \n",
       "22719                 stationery.paper     lomond   30.17   \n",
       "3936          computers.components.cpu        amd   56.27   \n",
       "30587  computers.components.videocards        msi  624.62   \n",
       "21920     computers.peripherals.camera   logitech   26.46   \n",
       "5125   appliances.personal.hair_cutter    harizma   50.05   \n",
       "7451          construction.tools.drill  felisatti   61.13   \n",
       "28098  computers.components.videocards       asus  124.73   \n",
       "\n",
       "                   user_id user_session  is_purchased  \n",
       "8465   1515915625531907685   vMO3ZSr7ct           1.0  \n",
       "18226  1515915625546056654   u6VTGb4IYX           1.0  \n",
       "18185  1515915625546073321   cqhgAE4Ps4           0.0  \n",
       "22719  1515915625542964486   jTVxuSf3CZ           1.0  \n",
       "3936   1515915625525297332   PawXwCbQbk           0.0  \n",
       "30587  1515915625592120880   AEGImHgQWr           0.0  \n",
       "21920  1515915625562701828   vZ39OqTPW2           0.0  \n",
       "5125   1515915625527157362   mnj1JFNrAJ           1.0  \n",
       "7451   1515915625529880051   yABYB3BHdW           1.0  \n",
       "28098  1515915625572927746   S0gW0Vhetf           0.0  "
      ]
     },
     "execution_count": 640,
     "metadata": {},
     "output_type": "execute_result"
    }
   ],
   "source": [
    "#take data inference\n",
    "df_inf = df_targets.dropna() \n",
    "data_inf = df_inf.sample(10,random_state=1)\n",
    "data_inf"
   ]
  },
  {
   "cell_type": "code",
   "execution_count": 641,
   "metadata": {},
   "outputs": [
    {
     "data": {
      "text/html": [
       "<div>\n",
       "<style scoped>\n",
       "    .dataframe tbody tr th:only-of-type {\n",
       "        vertical-align: middle;\n",
       "    }\n",
       "\n",
       "    .dataframe tbody tr th {\n",
       "        vertical-align: top;\n",
       "    }\n",
       "\n",
       "    .dataframe thead th {\n",
       "        text-align: right;\n",
       "    }\n",
       "</style>\n",
       "<table border=\"1\" class=\"dataframe\">\n",
       "  <thead>\n",
       "    <tr style=\"text-align: right;\">\n",
       "      <th></th>\n",
       "      <th>event_time</th>\n",
       "      <th>event_type</th>\n",
       "      <th>product_id</th>\n",
       "      <th>category_id</th>\n",
       "      <th>category_code</th>\n",
       "      <th>brand</th>\n",
       "      <th>price</th>\n",
       "      <th>user_id</th>\n",
       "      <th>user_session</th>\n",
       "      <th>is_purchased</th>\n",
       "    </tr>\n",
       "  </thead>\n",
       "  <tbody>\n",
       "    <tr>\n",
       "      <th>1833</th>\n",
       "      <td>2020-10-03 11:23:00+00:00</td>\n",
       "      <td>cart</td>\n",
       "      <td>1023383</td>\n",
       "      <td>2144415922016747613</td>\n",
       "      <td>computers.peripherals.wifi</td>\n",
       "      <td>zyxel</td>\n",
       "      <td>119.03</td>\n",
       "      <td>1515915625353286099</td>\n",
       "      <td>p5I1h2vk1T</td>\n",
       "      <td>1.0</td>\n",
       "    </tr>\n",
       "    <tr>\n",
       "      <th>2479</th>\n",
       "      <td>2020-10-06 08:28:18+00:00</td>\n",
       "      <td>cart</td>\n",
       "      <td>4035841</td>\n",
       "      <td>2144415922016747613</td>\n",
       "      <td>computers.peripherals.wifi</td>\n",
       "      <td>tp-link</td>\n",
       "      <td>120.27</td>\n",
       "      <td>1515915625353286099</td>\n",
       "      <td>7ZE3RhNYE6</td>\n",
       "      <td>0.0</td>\n",
       "    </tr>\n",
       "    <tr>\n",
       "      <th>889</th>\n",
       "      <td>2020-09-29 05:51:58+00:00</td>\n",
       "      <td>cart</td>\n",
       "      <td>137302</td>\n",
       "      <td>2144415924491387038</td>\n",
       "      <td>computers.components.motherboard</td>\n",
       "      <td>asus</td>\n",
       "      <td>55.16</td>\n",
       "      <td>1515915625353457259</td>\n",
       "      <td>kD2TVJlla1</td>\n",
       "      <td>1.0</td>\n",
       "    </tr>\n",
       "    <tr>\n",
       "      <th>2505</th>\n",
       "      <td>2020-10-06 09:45:38+00:00</td>\n",
       "      <td>cart</td>\n",
       "      <td>1428321</td>\n",
       "      <td>2144415941352489571</td>\n",
       "      <td>electronics.tablet</td>\n",
       "      <td>samsung</td>\n",
       "      <td>19.05</td>\n",
       "      <td>1515915625353534622</td>\n",
       "      <td>mNGo9YKWcw</td>\n",
       "      <td>1.0</td>\n",
       "    </tr>\n",
       "    <tr>\n",
       "      <th>17056</th>\n",
       "      <td>2020-11-24 17:35:50+00:00</td>\n",
       "      <td>cart</td>\n",
       "      <td>1507368</td>\n",
       "      <td>2144415922016747613</td>\n",
       "      <td>computers.peripherals.wifi</td>\n",
       "      <td>keenetic</td>\n",
       "      <td>172.86</td>\n",
       "      <td>1515915625353561691</td>\n",
       "      <td>UmL0qYoQh4</td>\n",
       "      <td>1.0</td>\n",
       "    </tr>\n",
       "    <tr>\n",
       "      <th>...</th>\n",
       "      <td>...</td>\n",
       "      <td>...</td>\n",
       "      <td>...</td>\n",
       "      <td>...</td>\n",
       "      <td>...</td>\n",
       "      <td>...</td>\n",
       "      <td>...</td>\n",
       "      <td>...</td>\n",
       "      <td>...</td>\n",
       "      <td>...</td>\n",
       "    </tr>\n",
       "    <tr>\n",
       "      <th>48993</th>\n",
       "      <td>2021-02-28 22:46:46+00:00</td>\n",
       "      <td>cart</td>\n",
       "      <td>4102739</td>\n",
       "      <td>2144415922427789416</td>\n",
       "      <td>computers.components.videocards</td>\n",
       "      <td>msi</td>\n",
       "      <td>294.41</td>\n",
       "      <td>1515915625611015921</td>\n",
       "      <td>N48o7zPKIJ</td>\n",
       "      <td>0.0</td>\n",
       "    </tr>\n",
       "    <tr>\n",
       "      <th>48994</th>\n",
       "      <td>2021-02-28 22:54:55+00:00</td>\n",
       "      <td>cart</td>\n",
       "      <td>893196</td>\n",
       "      <td>2144415922427789416</td>\n",
       "      <td>computers.components.videocards</td>\n",
       "      <td>sapphire</td>\n",
       "      <td>214.10</td>\n",
       "      <td>1515915625611017481</td>\n",
       "      <td>wuDS2mwKFc</td>\n",
       "      <td>0.0</td>\n",
       "    </tr>\n",
       "    <tr>\n",
       "      <th>48999</th>\n",
       "      <td>2021-02-28 23:04:49+00:00</td>\n",
       "      <td>cart</td>\n",
       "      <td>4079420</td>\n",
       "      <td>2144415922427789416</td>\n",
       "      <td>computers.components.videocards</td>\n",
       "      <td>msi</td>\n",
       "      <td>449.51</td>\n",
       "      <td>1515915625611018641</td>\n",
       "      <td>ZsznyCi4it</td>\n",
       "      <td>0.0</td>\n",
       "    </tr>\n",
       "    <tr>\n",
       "      <th>49001</th>\n",
       "      <td>2021-02-28 23:07:59+00:00</td>\n",
       "      <td>cart</td>\n",
       "      <td>877060</td>\n",
       "      <td>2144415922427789416</td>\n",
       "      <td>computers.components.videocards</td>\n",
       "      <td>msi</td>\n",
       "      <td>187.29</td>\n",
       "      <td>1515915625611018641</td>\n",
       "      <td>ZsznyCi4it</td>\n",
       "      <td>0.0</td>\n",
       "    </tr>\n",
       "    <tr>\n",
       "      <th>49002</th>\n",
       "      <td>2021-02-28 23:11:50+00:00</td>\n",
       "      <td>cart</td>\n",
       "      <td>876659</td>\n",
       "      <td>2144415922427789416</td>\n",
       "      <td>computers.components.videocards</td>\n",
       "      <td>msi</td>\n",
       "      <td>210.68</td>\n",
       "      <td>1515915625611018641</td>\n",
       "      <td>ZsznyCi4it</td>\n",
       "      <td>0.0</td>\n",
       "    </tr>\n",
       "  </tbody>\n",
       "</table>\n",
       "<p>48996 rows × 10 columns</p>\n",
       "</div>"
      ],
      "text/plain": [
       "                     event_time event_type  product_id          category_id  \\\n",
       "1833  2020-10-03 11:23:00+00:00       cart     1023383  2144415922016747613   \n",
       "2479  2020-10-06 08:28:18+00:00       cart     4035841  2144415922016747613   \n",
       "889   2020-09-29 05:51:58+00:00       cart      137302  2144415924491387038   \n",
       "2505  2020-10-06 09:45:38+00:00       cart     1428321  2144415941352489571   \n",
       "17056 2020-11-24 17:35:50+00:00       cart     1507368  2144415922016747613   \n",
       "...                         ...        ...         ...                  ...   \n",
       "48993 2021-02-28 22:46:46+00:00       cart     4102739  2144415922427789416   \n",
       "48994 2021-02-28 22:54:55+00:00       cart      893196  2144415922427789416   \n",
       "48999 2021-02-28 23:04:49+00:00       cart     4079420  2144415922427789416   \n",
       "49001 2021-02-28 23:07:59+00:00       cart      877060  2144415922427789416   \n",
       "49002 2021-02-28 23:11:50+00:00       cart      876659  2144415922427789416   \n",
       "\n",
       "                          category_code     brand   price  \\\n",
       "1833         computers.peripherals.wifi     zyxel  119.03   \n",
       "2479         computers.peripherals.wifi   tp-link  120.27   \n",
       "889    computers.components.motherboard      asus   55.16   \n",
       "2505                 electronics.tablet   samsung   19.05   \n",
       "17056        computers.peripherals.wifi  keenetic  172.86   \n",
       "...                                 ...       ...     ...   \n",
       "48993   computers.components.videocards       msi  294.41   \n",
       "48994   computers.components.videocards  sapphire  214.10   \n",
       "48999   computers.components.videocards       msi  449.51   \n",
       "49001   computers.components.videocards       msi  187.29   \n",
       "49002   computers.components.videocards       msi  210.68   \n",
       "\n",
       "                   user_id user_session  is_purchased  \n",
       "1833   1515915625353286099   p5I1h2vk1T           1.0  \n",
       "2479   1515915625353286099   7ZE3RhNYE6           0.0  \n",
       "889    1515915625353457259   kD2TVJlla1           1.0  \n",
       "2505   1515915625353534622   mNGo9YKWcw           1.0  \n",
       "17056  1515915625353561691   UmL0qYoQh4           1.0  \n",
       "...                    ...          ...           ...  \n",
       "48993  1515915625611015921   N48o7zPKIJ           0.0  \n",
       "48994  1515915625611017481   wuDS2mwKFc           0.0  \n",
       "48999  1515915625611018641   ZsznyCi4it           0.0  \n",
       "49001  1515915625611018641   ZsznyCi4it           0.0  \n",
       "49002  1515915625611018641   ZsznyCi4it           0.0  \n",
       "\n",
       "[48996 rows x 10 columns]"
      ]
     },
     "execution_count": 641,
     "metadata": {},
     "output_type": "execute_result"
    }
   ],
   "source": [
    "df_model = df_targets.drop(data_inf.index)\n",
    "df_model.sort_values(by='user_id',inplace=True)\n",
    "df_model"
   ]
  },
  {
   "cell_type": "markdown",
   "metadata": {},
   "source": [
    "## Splitting data"
   ]
  },
  {
   "cell_type": "code",
   "execution_count": 642,
   "metadata": {},
   "outputs": [
    {
     "name": "stdout",
     "output_type": "stream",
     "text": [
      "Shape of X_train: (36747, 9)\n",
      "Shape of X_test: (12249, 9)\n",
      "Shape of y_train: (36747,)\n",
      "Shape of y_test: (12249,)\n"
     ]
    }
   ],
   "source": [
    "X = df_model.drop(['is_purchased'],axis= 1)\n",
    "y = df_model['is_purchased']\n",
    "\n",
    "X_train,X_test,y_train,y_test = train_test_split(X,y, test_size = 0.25 , random_state = 16)\n",
    "\n",
    "print('Shape of X_train:', X_train.shape)\n",
    "print('Shape of X_test:', X_test.shape)\n",
    "print('Shape of y_train:', y_train.shape)\n",
    "print('Shape of y_test:', y_test.shape)"
   ]
  },
  {
   "cell_type": "markdown",
   "metadata": {},
   "source": [
    "## Future Selection"
   ]
  },
  {
   "cell_type": "markdown",
   "metadata": {},
   "source": [
    "In this section, several feature selection methods will be carried out.\n",
    "-   pearson correlation heat map \n",
    "-   select k-best"
   ]
  },
  {
   "cell_type": "markdown",
   "metadata": {},
   "source": [
    "### Pearson Correlation Heatmap"
   ]
  },
  {
   "cell_type": "code",
   "execution_count": 643,
   "metadata": {},
   "outputs": [
    {
     "data": {
      "text/html": [
       "<div>\n",
       "<style scoped>\n",
       "    .dataframe tbody tr th:only-of-type {\n",
       "        vertical-align: middle;\n",
       "    }\n",
       "\n",
       "    .dataframe tbody tr th {\n",
       "        vertical-align: top;\n",
       "    }\n",
       "\n",
       "    .dataframe thead th {\n",
       "        text-align: right;\n",
       "    }\n",
       "</style>\n",
       "<table border=\"1\" class=\"dataframe\">\n",
       "  <thead>\n",
       "    <tr style=\"text-align: right;\">\n",
       "      <th></th>\n",
       "      <th>product_id</th>\n",
       "      <th>category_id</th>\n",
       "      <th>price</th>\n",
       "      <th>user_id</th>\n",
       "      <th>is_purchased</th>\n",
       "    </tr>\n",
       "  </thead>\n",
       "  <tbody>\n",
       "    <tr>\n",
       "      <th>0</th>\n",
       "      <td>136700</td>\n",
       "      <td>2144415924491387038</td>\n",
       "      <td>77.73</td>\n",
       "      <td>1515915625541684708</td>\n",
       "      <td>0.0</td>\n",
       "    </tr>\n",
       "    <tr>\n",
       "      <th>1</th>\n",
       "      <td>337317</td>\n",
       "      <td>2144415922201296994</td>\n",
       "      <td>11.75</td>\n",
       "      <td>1515915625526488287</td>\n",
       "      <td>0.0</td>\n",
       "    </tr>\n",
       "    <tr>\n",
       "      <th>2</th>\n",
       "      <td>893196</td>\n",
       "      <td>2144415922427789416</td>\n",
       "      <td>214.10</td>\n",
       "      <td>1515915625606670713</td>\n",
       "      <td>0.0</td>\n",
       "    </tr>\n",
       "    <tr>\n",
       "      <th>3</th>\n",
       "      <td>872</td>\n",
       "      <td>2144415921169498184</td>\n",
       "      <td>11.62</td>\n",
       "      <td>1515915625569961597</td>\n",
       "      <td>0.0</td>\n",
       "    </tr>\n",
       "    <tr>\n",
       "      <th>4</th>\n",
       "      <td>3829355</td>\n",
       "      <td>2144415922528452715</td>\n",
       "      <td>32.22</td>\n",
       "      <td>1515915625600496146</td>\n",
       "      <td>0.0</td>\n",
       "    </tr>\n",
       "    <tr>\n",
       "      <th>...</th>\n",
       "      <td>...</td>\n",
       "      <td>...</td>\n",
       "      <td>...</td>\n",
       "      <td>...</td>\n",
       "      <td>...</td>\n",
       "    </tr>\n",
       "    <tr>\n",
       "      <th>36742</th>\n",
       "      <td>636657</td>\n",
       "      <td>2144415926219440328</td>\n",
       "      <td>569.41</td>\n",
       "      <td>1515915625592842831</td>\n",
       "      <td>0.0</td>\n",
       "    </tr>\n",
       "    <tr>\n",
       "      <th>36743</th>\n",
       "      <td>4078926</td>\n",
       "      <td>2144415922427789416</td>\n",
       "      <td>456.51</td>\n",
       "      <td>1515915625592791448</td>\n",
       "      <td>0.0</td>\n",
       "    </tr>\n",
       "    <tr>\n",
       "      <th>36744</th>\n",
       "      <td>335781</td>\n",
       "      <td>2144415921169498184</td>\n",
       "      <td>15.08</td>\n",
       "      <td>1515915625520901090</td>\n",
       "      <td>1.0</td>\n",
       "    </tr>\n",
       "    <tr>\n",
       "      <th>36745</th>\n",
       "      <td>1830099</td>\n",
       "      <td>2144415922427789416</td>\n",
       "      <td>486.81</td>\n",
       "      <td>1515915625609958211</td>\n",
       "      <td>0.0</td>\n",
       "    </tr>\n",
       "    <tr>\n",
       "      <th>36746</th>\n",
       "      <td>54985</td>\n",
       "      <td>2144415925011480748</td>\n",
       "      <td>18.10</td>\n",
       "      <td>1515915625598665576</td>\n",
       "      <td>1.0</td>\n",
       "    </tr>\n",
       "  </tbody>\n",
       "</table>\n",
       "<p>36747 rows × 5 columns</p>\n",
       "</div>"
      ],
      "text/plain": [
       "       product_id          category_id   price              user_id  \\\n",
       "0          136700  2144415924491387038   77.73  1515915625541684708   \n",
       "1          337317  2144415922201296994   11.75  1515915625526488287   \n",
       "2          893196  2144415922427789416  214.10  1515915625606670713   \n",
       "3             872  2144415921169498184   11.62  1515915625569961597   \n",
       "4         3829355  2144415922528452715   32.22  1515915625600496146   \n",
       "...           ...                  ...     ...                  ...   \n",
       "36742      636657  2144415926219440328  569.41  1515915625592842831   \n",
       "36743     4078926  2144415922427789416  456.51  1515915625592791448   \n",
       "36744      335781  2144415921169498184   15.08  1515915625520901090   \n",
       "36745     1830099  2144415922427789416  486.81  1515915625609958211   \n",
       "36746       54985  2144415925011480748   18.10  1515915625598665576   \n",
       "\n",
       "       is_purchased  \n",
       "0               0.0  \n",
       "1               0.0  \n",
       "2               0.0  \n",
       "3               0.0  \n",
       "4               0.0  \n",
       "...             ...  \n",
       "36742           0.0  \n",
       "36743           0.0  \n",
       "36744           1.0  \n",
       "36745           0.0  \n",
       "36746           1.0  \n",
       "\n",
       "[36747 rows x 5 columns]"
      ]
     },
     "execution_count": 643,
     "metadata": {},
     "output_type": "execute_result"
    }
   ],
   "source": [
    "num_columns = X_train.select_dtypes(include = np.number).columns.tolist()\n",
    "cat_columns = X_train.select_dtypes(include = ['object']).columns.tolist()\n",
    "\n",
    "X_train_num =X_train[num_columns].copy()\n",
    "y_train_num =y_train.copy()\n",
    "\n",
    "X_train_num.reset_index(drop=True,inplace=True)\n",
    "y_train_num.reset_index(drop=True,inplace=True)\n",
    "\n",
    "train_set = pd.concat([X_train_num,y_train_num],axis=1)\n",
    "\n",
    "train_set"
   ]
  },
  {
   "cell_type": "code",
   "execution_count": 644,
   "metadata": {},
   "outputs": [
    {
     "data": {
      "image/png": "[encoded data removed]",
      "text/plain": [
       "<Figure size 720x720 with 2 Axes>"
      ]
     },
     "metadata": {
      "needs_background": "light"
     },
     "output_type": "display_data"
    }
   ],
   "source": [
    "corr_num = train_set.corr()\n",
    "\n",
    "plt.figure(figsize=(10,10))\n",
    "sns.heatmap(corr_num,cmap=\"BuPu\",annot=True);\n",
    "plt.show()"
   ]
  },
  {
   "cell_type": "markdown",
   "metadata": {},
   "source": [
    "not feature have a 1 point compared to is_purchased, so all feature will used for this model."
   ]
  },
  {
   "cell_type": "code",
   "execution_count": 645,
   "metadata": {},
   "outputs": [
    {
     "data": {
      "text/html": [
       "<div>\n",
       "<style scoped>\n",
       "    .dataframe tbody tr th:only-of-type {\n",
       "        vertical-align: middle;\n",
       "    }\n",
       "\n",
       "    .dataframe tbody tr th {\n",
       "        vertical-align: top;\n",
       "    }\n",
       "\n",
       "    .dataframe thead th {\n",
       "        text-align: right;\n",
       "    }\n",
       "</style>\n",
       "<table border=\"1\" class=\"dataframe\">\n",
       "  <thead>\n",
       "    <tr style=\"text-align: right;\">\n",
       "      <th></th>\n",
       "      <th>product_id</th>\n",
       "      <th>category_id</th>\n",
       "      <th>price</th>\n",
       "      <th>user_id</th>\n",
       "    </tr>\n",
       "  </thead>\n",
       "  <tbody>\n",
       "    <tr>\n",
       "      <th>0</th>\n",
       "      <td>136700</td>\n",
       "      <td>2144415924491387038</td>\n",
       "      <td>77.73</td>\n",
       "      <td>1515915625541684708</td>\n",
       "    </tr>\n",
       "    <tr>\n",
       "      <th>1</th>\n",
       "      <td>337317</td>\n",
       "      <td>2144415922201296994</td>\n",
       "      <td>11.75</td>\n",
       "      <td>1515915625526488287</td>\n",
       "    </tr>\n",
       "    <tr>\n",
       "      <th>2</th>\n",
       "      <td>893196</td>\n",
       "      <td>2144415922427789416</td>\n",
       "      <td>214.10</td>\n",
       "      <td>1515915625606670713</td>\n",
       "    </tr>\n",
       "    <tr>\n",
       "      <th>3</th>\n",
       "      <td>872</td>\n",
       "      <td>2144415921169498184</td>\n",
       "      <td>11.62</td>\n",
       "      <td>1515915625569961597</td>\n",
       "    </tr>\n",
       "    <tr>\n",
       "      <th>4</th>\n",
       "      <td>3829355</td>\n",
       "      <td>2144415922528452715</td>\n",
       "      <td>32.22</td>\n",
       "      <td>1515915625600496146</td>\n",
       "    </tr>\n",
       "    <tr>\n",
       "      <th>...</th>\n",
       "      <td>...</td>\n",
       "      <td>...</td>\n",
       "      <td>...</td>\n",
       "      <td>...</td>\n",
       "    </tr>\n",
       "    <tr>\n",
       "      <th>36742</th>\n",
       "      <td>636657</td>\n",
       "      <td>2144415926219440328</td>\n",
       "      <td>569.41</td>\n",
       "      <td>1515915625592842831</td>\n",
       "    </tr>\n",
       "    <tr>\n",
       "      <th>36743</th>\n",
       "      <td>4078926</td>\n",
       "      <td>2144415922427789416</td>\n",
       "      <td>456.51</td>\n",
       "      <td>1515915625592791448</td>\n",
       "    </tr>\n",
       "    <tr>\n",
       "      <th>36744</th>\n",
       "      <td>335781</td>\n",
       "      <td>2144415921169498184</td>\n",
       "      <td>15.08</td>\n",
       "      <td>1515915625520901090</td>\n",
       "    </tr>\n",
       "    <tr>\n",
       "      <th>36745</th>\n",
       "      <td>1830099</td>\n",
       "      <td>2144415922427789416</td>\n",
       "      <td>486.81</td>\n",
       "      <td>1515915625609958211</td>\n",
       "    </tr>\n",
       "    <tr>\n",
       "      <th>36746</th>\n",
       "      <td>54985</td>\n",
       "      <td>2144415925011480748</td>\n",
       "      <td>18.10</td>\n",
       "      <td>1515915625598665576</td>\n",
       "    </tr>\n",
       "  </tbody>\n",
       "</table>\n",
       "<p>36747 rows × 4 columns</p>\n",
       "</div>"
      ],
      "text/plain": [
       "       product_id          category_id   price              user_id\n",
       "0          136700  2144415924491387038   77.73  1515915625541684708\n",
       "1          337317  2144415922201296994   11.75  1515915625526488287\n",
       "2          893196  2144415922427789416  214.10  1515915625606670713\n",
       "3             872  2144415921169498184   11.62  1515915625569961597\n",
       "4         3829355  2144415922528452715   32.22  1515915625600496146\n",
       "...           ...                  ...     ...                  ...\n",
       "36742      636657  2144415926219440328  569.41  1515915625592842831\n",
       "36743     4078926  2144415922427789416  456.51  1515915625592791448\n",
       "36744      335781  2144415921169498184   15.08  1515915625520901090\n",
       "36745     1830099  2144415922427789416  486.81  1515915625609958211\n",
       "36746       54985  2144415925011480748   18.10  1515915625598665576\n",
       "\n",
       "[36747 rows x 4 columns]"
      ]
     },
     "execution_count": 645,
     "metadata": {},
     "output_type": "execute_result"
    }
   ],
   "source": [
    "X_train_num"
   ]
  },
  {
   "cell_type": "markdown",
   "metadata": {},
   "source": [
    "### Feature importance"
   ]
  },
  {
   "cell_type": "code",
   "execution_count": 646,
   "metadata": {},
   "outputs": [
    {
     "data": {
      "image/png": "[encoded data removed]",
      "text/plain": [
       "<Figure size 864x432 with 1 Axes>"
      ]
     },
     "metadata": {
      "needs_background": "light"
     },
     "output_type": "display_data"
    }
   ],
   "source": [
    "from sklearn.ensemble import ExtraTreesClassifier\n",
    "\n",
    "#Copy X_train_num and y_train for fill the missing value\n",
    "X_train_num_cp = X_train_num.copy()\n",
    "y_train_cp = y_train.copy() \n",
    "\n",
    "#fill the missing values\n",
    "y_train_cp = y_train_cp.replace(np.NaN,y_train_cp.median())\n",
    "\n",
    "# feature extraction\n",
    "model = ExtraTreesClassifier(n_estimators=400)\n",
    "model.fit(X_train_num_cp, y_train_cp)\n",
    "\n",
    "# feature_importances_ dari highest ke lowest\n",
    "sorted_idx = np.argsort(model.feature_importances_)\n",
    "sorted_idx = sorted_idx[::-1]\n",
    "\n",
    "# plot feature importances\n",
    "plt.figure(figsize=(12,6))\n",
    "plt.title(\"Feature importances\")\n",
    "plt.bar(range(X_train_num_cp.shape[1]), model.feature_importances_[sorted_idx],\n",
    "        color=\"r\", align=\"center\")\n",
    "plt.xticks(range(X_train_num_cp.shape[1]), X_train_num_cp.columns[sorted_idx], rotation=90)\n",
    "plt.xlim([-1, X.shape[1]])\n",
    "plt.show()"
   ]
  },
  {
   "cell_type": "markdown",
   "metadata": {},
   "source": [
    "If we look from feature importance, we have two features that has a low point to predict is_purchase. So i we will drop that columns."
   ]
  },
  {
   "cell_type": "code",
   "execution_count": 647,
   "metadata": {},
   "outputs": [
    {
     "name": "stdout",
     "output_type": "stream",
     "text": [
      "Feature event_type : nan \n",
      "Feature category_code : 2169.17 \n",
      "Feature brand : 6861.22 \n",
      "Feature user_session : 1585.35 \n",
      "\n"
     ]
    },
    {
     "data": {
      "image/png": "[encoded data removed]",
      "text/plain": [
       "<Figure size 1080x360 with 1 Axes>"
      ]
     },
     "metadata": {
      "needs_background": "light"
     },
     "output_type": "display_data"
    }
   ],
   "source": [
    "feat_encoded = LabelEncoder() #categorical encoder\n",
    "train_cat = X_train.select_dtypes(include=\"object\")\n",
    "feat_cat= train_cat.apply(feat_encoded.fit_transform)\n",
    "\n",
    "fs_cat = SelectKBest(score_func=chi2, k='all')\n",
    "\n",
    "X_features_cat = fs_cat.fit_transform(feat_cat, y_train_cp)\n",
    "\n",
    "for col in list(feat_cat.columns):\n",
    "  score = fs_cat.scores_[feat_cat.columns.get_loc(col)]\n",
    "  print(\"Feature %s : %.2f \" %(col , score))\n",
    "print(\"\")\n",
    "\n",
    "plt.figure(figsize=(15,5));\n",
    "plt.bar([col for col in list(feat_cat.columns)], fs_cat.scores_ , color=\"blue\");\n",
    "plt.xticks(rotation=45);"
   ]
  },
  {
   "cell_type": "markdown",
   "metadata": {},
   "source": [
    "user_session has a low point to predict is_purchase, that we can deleted it. so we have three columns that we must to delete/drop. Category_id,user_id, and user_session. "
   ]
  },
  {
   "cell_type": "code",
   "execution_count": 648,
   "metadata": {},
   "outputs": [],
   "source": [
    "#dropcolumns\n",
    "\n",
    "X_train = X_train.drop(columns=['category_id','user_id','user_session','event_time'],axis=1)"
   ]
  },
  {
   "cell_type": "code",
   "execution_count": 649,
   "metadata": {},
   "outputs": [],
   "source": [
    "#drop event type\n",
    "X_train = X_train.drop(columns=['event_type'],axis=1)"
   ]
  },
  {
   "cell_type": "code",
   "execution_count": 650,
   "metadata": {},
   "outputs": [],
   "source": [
    "usecolumns = X_train.columns.tolist()\n",
    "X_test = X_test[usecolumns]"
   ]
  },
  {
   "cell_type": "code",
   "execution_count": 651,
   "metadata": {},
   "outputs": [
    {
     "data": {
      "text/html": [
       "<div>\n",
       "<style scoped>\n",
       "    .dataframe tbody tr th:only-of-type {\n",
       "        vertical-align: middle;\n",
       "    }\n",
       "\n",
       "    .dataframe tbody tr th {\n",
       "        vertical-align: top;\n",
       "    }\n",
       "\n",
       "    .dataframe thead th {\n",
       "        text-align: right;\n",
       "    }\n",
       "</style>\n",
       "<table border=\"1\" class=\"dataframe\">\n",
       "  <thead>\n",
       "    <tr style=\"text-align: right;\">\n",
       "      <th></th>\n",
       "      <th>product_id</th>\n",
       "      <th>category_code</th>\n",
       "      <th>brand</th>\n",
       "      <th>price</th>\n",
       "    </tr>\n",
       "  </thead>\n",
       "  <tbody>\n",
       "    <tr>\n",
       "      <th>15895</th>\n",
       "      <td>136700</td>\n",
       "      <td>computers.components.motherboard</td>\n",
       "      <td>asrock</td>\n",
       "      <td>77.73</td>\n",
       "    </tr>\n",
       "    <tr>\n",
       "      <th>4653</th>\n",
       "      <td>337317</td>\n",
       "      <td>NaN</td>\n",
       "      <td>NaN</td>\n",
       "      <td>11.75</td>\n",
       "    </tr>\n",
       "    <tr>\n",
       "      <th>45049</th>\n",
       "      <td>893196</td>\n",
       "      <td>computers.components.videocards</td>\n",
       "      <td>sapphire</td>\n",
       "      <td>214.10</td>\n",
       "    </tr>\n",
       "    <tr>\n",
       "      <th>26199</th>\n",
       "      <td>872</td>\n",
       "      <td>NaN</td>\n",
       "      <td>NaN</td>\n",
       "      <td>11.62</td>\n",
       "    </tr>\n",
       "    <tr>\n",
       "      <th>39730</th>\n",
       "      <td>3829355</td>\n",
       "      <td>electronics.telephone</td>\n",
       "      <td>NaN</td>\n",
       "      <td>32.22</td>\n",
       "    </tr>\n",
       "    <tr>\n",
       "      <th>...</th>\n",
       "      <td>...</td>\n",
       "      <td>...</td>\n",
       "      <td>...</td>\n",
       "      <td>...</td>\n",
       "    </tr>\n",
       "    <tr>\n",
       "      <th>31413</th>\n",
       "      <td>636657</td>\n",
       "      <td>NaN</td>\n",
       "      <td>sony</td>\n",
       "      <td>569.41</td>\n",
       "    </tr>\n",
       "    <tr>\n",
       "      <th>31354</th>\n",
       "      <td>4078926</td>\n",
       "      <td>computers.components.videocards</td>\n",
       "      <td>palit</td>\n",
       "      <td>456.51</td>\n",
       "    </tr>\n",
       "    <tr>\n",
       "      <th>1041</th>\n",
       "      <td>335781</td>\n",
       "      <td>NaN</td>\n",
       "      <td>NaN</td>\n",
       "      <td>15.08</td>\n",
       "    </tr>\n",
       "    <tr>\n",
       "      <th>48180</th>\n",
       "      <td>1830099</td>\n",
       "      <td>computers.components.videocards</td>\n",
       "      <td>palit</td>\n",
       "      <td>486.81</td>\n",
       "    </tr>\n",
       "    <tr>\n",
       "      <th>38009</th>\n",
       "      <td>54985</td>\n",
       "      <td>stationery.cartrige</td>\n",
       "      <td>cactus</td>\n",
       "      <td>18.10</td>\n",
       "    </tr>\n",
       "  </tbody>\n",
       "</table>\n",
       "<p>36747 rows × 4 columns</p>\n",
       "</div>"
      ],
      "text/plain": [
       "       product_id                     category_code     brand   price\n",
       "15895      136700  computers.components.motherboard    asrock   77.73\n",
       "4653       337317                               NaN       NaN   11.75\n",
       "45049      893196   computers.components.videocards  sapphire  214.10\n",
       "26199         872                               NaN       NaN   11.62\n",
       "39730     3829355             electronics.telephone       NaN   32.22\n",
       "...           ...                               ...       ...     ...\n",
       "31413      636657                               NaN      sony  569.41\n",
       "31354     4078926   computers.components.videocards     palit  456.51\n",
       "1041       335781                               NaN       NaN   15.08\n",
       "48180     1830099   computers.components.videocards     palit  486.81\n",
       "38009       54985               stationery.cartrige    cactus   18.10\n",
       "\n",
       "[36747 rows x 4 columns]"
      ]
     },
     "execution_count": 651,
     "metadata": {},
     "output_type": "execute_result"
    }
   ],
   "source": [
    "X_train"
   ]
  },
  {
   "cell_type": "code",
   "execution_count": 652,
   "metadata": {},
   "outputs": [
    {
     "data": {
      "text/html": [
       "<div>\n",
       "<style scoped>\n",
       "    .dataframe tbody tr th:only-of-type {\n",
       "        vertical-align: middle;\n",
       "    }\n",
       "\n",
       "    .dataframe tbody tr th {\n",
       "        vertical-align: top;\n",
       "    }\n",
       "\n",
       "    .dataframe thead th {\n",
       "        text-align: right;\n",
       "    }\n",
       "</style>\n",
       "<table border=\"1\" class=\"dataframe\">\n",
       "  <thead>\n",
       "    <tr style=\"text-align: right;\">\n",
       "      <th></th>\n",
       "      <th>product_id</th>\n",
       "      <th>category_code</th>\n",
       "      <th>brand</th>\n",
       "      <th>price</th>\n",
       "    </tr>\n",
       "  </thead>\n",
       "  <tbody>\n",
       "    <tr>\n",
       "      <th>11517</th>\n",
       "      <td>4035834</td>\n",
       "      <td>auto.accessories.player</td>\n",
       "      <td>acv</td>\n",
       "      <td>28.33</td>\n",
       "    </tr>\n",
       "    <tr>\n",
       "      <th>34309</th>\n",
       "      <td>3791509</td>\n",
       "      <td>computers.components.videocards</td>\n",
       "      <td>palit</td>\n",
       "      <td>466.52</td>\n",
       "    </tr>\n",
       "    <tr>\n",
       "      <th>14138</th>\n",
       "      <td>223339</td>\n",
       "      <td>stationery.cartrige</td>\n",
       "      <td>NaN</td>\n",
       "      <td>86.54</td>\n",
       "    </tr>\n",
       "    <tr>\n",
       "      <th>21644</th>\n",
       "      <td>3828501</td>\n",
       "      <td>electronics.video.tv</td>\n",
       "      <td>bbk</td>\n",
       "      <td>87.16</td>\n",
       "    </tr>\n",
       "    <tr>\n",
       "      <th>3853</th>\n",
       "      <td>919680</td>\n",
       "      <td>computers.peripherals.printer</td>\n",
       "      <td>NaN</td>\n",
       "      <td>22.52</td>\n",
       "    </tr>\n",
       "    <tr>\n",
       "      <th>...</th>\n",
       "      <td>...</td>\n",
       "      <td>...</td>\n",
       "      <td>...</td>\n",
       "      <td>...</td>\n",
       "    </tr>\n",
       "    <tr>\n",
       "      <th>21733</th>\n",
       "      <td>1006967</td>\n",
       "      <td>computers.notebook</td>\n",
       "      <td>topon</td>\n",
       "      <td>55.87</td>\n",
       "    </tr>\n",
       "    <tr>\n",
       "      <th>15045</th>\n",
       "      <td>1666930</td>\n",
       "      <td>electronics.telephone</td>\n",
       "      <td>sirius</td>\n",
       "      <td>19.92</td>\n",
       "    </tr>\n",
       "    <tr>\n",
       "      <th>5266</th>\n",
       "      <td>4079248</td>\n",
       "      <td>electronics.telephone</td>\n",
       "      <td>NaN</td>\n",
       "      <td>71.75</td>\n",
       "    </tr>\n",
       "    <tr>\n",
       "      <th>35043</th>\n",
       "      <td>743216</td>\n",
       "      <td>construction.tools.soldering</td>\n",
       "      <td>NaN</td>\n",
       "      <td>170.95</td>\n",
       "    </tr>\n",
       "    <tr>\n",
       "      <th>45305</th>\n",
       "      <td>4099645</td>\n",
       "      <td>computers.components.videocards</td>\n",
       "      <td>gigabyte</td>\n",
       "      <td>292.83</td>\n",
       "    </tr>\n",
       "  </tbody>\n",
       "</table>\n",
       "<p>12249 rows × 4 columns</p>\n",
       "</div>"
      ],
      "text/plain": [
       "       product_id                    category_code     brand   price\n",
       "11517     4035834          auto.accessories.player       acv   28.33\n",
       "34309     3791509  computers.components.videocards     palit  466.52\n",
       "14138      223339              stationery.cartrige       NaN   86.54\n",
       "21644     3828501             electronics.video.tv       bbk   87.16\n",
       "3853       919680    computers.peripherals.printer       NaN   22.52\n",
       "...           ...                              ...       ...     ...\n",
       "21733     1006967               computers.notebook     topon   55.87\n",
       "15045     1666930            electronics.telephone    sirius   19.92\n",
       "5266      4079248            electronics.telephone       NaN   71.75\n",
       "35043      743216     construction.tools.soldering       NaN  170.95\n",
       "45305     4099645  computers.components.videocards  gigabyte  292.83\n",
       "\n",
       "[12249 rows x 4 columns]"
      ]
     },
     "execution_count": 652,
     "metadata": {},
     "output_type": "execute_result"
    }
   ],
   "source": [
    "X_test"
   ]
  },
  {
   "cell_type": "code",
   "execution_count": 653,
   "metadata": {},
   "outputs": [
    {
     "data": {
      "text/html": [
       "<div>\n",
       "<style scoped>\n",
       "    .dataframe tbody tr th:only-of-type {\n",
       "        vertical-align: middle;\n",
       "    }\n",
       "\n",
       "    .dataframe tbody tr th {\n",
       "        vertical-align: top;\n",
       "    }\n",
       "\n",
       "    .dataframe thead th {\n",
       "        text-align: right;\n",
       "    }\n",
       "</style>\n",
       "<table border=\"1\" class=\"dataframe\">\n",
       "  <thead>\n",
       "    <tr style=\"text-align: right;\">\n",
       "      <th></th>\n",
       "      <th>product_id</th>\n",
       "      <th>category_code</th>\n",
       "      <th>brand</th>\n",
       "      <th>price</th>\n",
       "    </tr>\n",
       "  </thead>\n",
       "  <tbody>\n",
       "    <tr>\n",
       "      <th>15895</th>\n",
       "      <td>136700</td>\n",
       "      <td>computers.components.motherboard</td>\n",
       "      <td>asrock</td>\n",
       "      <td>77.73</td>\n",
       "    </tr>\n",
       "    <tr>\n",
       "      <th>4653</th>\n",
       "      <td>337317</td>\n",
       "      <td>NaN</td>\n",
       "      <td>NaN</td>\n",
       "      <td>11.75</td>\n",
       "    </tr>\n",
       "    <tr>\n",
       "      <th>45049</th>\n",
       "      <td>893196</td>\n",
       "      <td>computers.components.videocards</td>\n",
       "      <td>sapphire</td>\n",
       "      <td>214.10</td>\n",
       "    </tr>\n",
       "    <tr>\n",
       "      <th>26199</th>\n",
       "      <td>872</td>\n",
       "      <td>NaN</td>\n",
       "      <td>NaN</td>\n",
       "      <td>11.62</td>\n",
       "    </tr>\n",
       "    <tr>\n",
       "      <th>39730</th>\n",
       "      <td>3829355</td>\n",
       "      <td>electronics.telephone</td>\n",
       "      <td>NaN</td>\n",
       "      <td>32.22</td>\n",
       "    </tr>\n",
       "    <tr>\n",
       "      <th>...</th>\n",
       "      <td>...</td>\n",
       "      <td>...</td>\n",
       "      <td>...</td>\n",
       "      <td>...</td>\n",
       "    </tr>\n",
       "    <tr>\n",
       "      <th>31413</th>\n",
       "      <td>636657</td>\n",
       "      <td>NaN</td>\n",
       "      <td>sony</td>\n",
       "      <td>569.41</td>\n",
       "    </tr>\n",
       "    <tr>\n",
       "      <th>31354</th>\n",
       "      <td>4078926</td>\n",
       "      <td>computers.components.videocards</td>\n",
       "      <td>palit</td>\n",
       "      <td>456.51</td>\n",
       "    </tr>\n",
       "    <tr>\n",
       "      <th>1041</th>\n",
       "      <td>335781</td>\n",
       "      <td>NaN</td>\n",
       "      <td>NaN</td>\n",
       "      <td>15.08</td>\n",
       "    </tr>\n",
       "    <tr>\n",
       "      <th>48180</th>\n",
       "      <td>1830099</td>\n",
       "      <td>computers.components.videocards</td>\n",
       "      <td>palit</td>\n",
       "      <td>486.81</td>\n",
       "    </tr>\n",
       "    <tr>\n",
       "      <th>38009</th>\n",
       "      <td>54985</td>\n",
       "      <td>stationery.cartrige</td>\n",
       "      <td>cactus</td>\n",
       "      <td>18.10</td>\n",
       "    </tr>\n",
       "  </tbody>\n",
       "</table>\n",
       "<p>36747 rows × 4 columns</p>\n",
       "</div>"
      ],
      "text/plain": [
       "       product_id                     category_code     brand   price\n",
       "15895      136700  computers.components.motherboard    asrock   77.73\n",
       "4653       337317                               NaN       NaN   11.75\n",
       "45049      893196   computers.components.videocards  sapphire  214.10\n",
       "26199         872                               NaN       NaN   11.62\n",
       "39730     3829355             electronics.telephone       NaN   32.22\n",
       "...           ...                               ...       ...     ...\n",
       "31413      636657                               NaN      sony  569.41\n",
       "31354     4078926   computers.components.videocards     palit  456.51\n",
       "1041       335781                               NaN       NaN   15.08\n",
       "48180     1830099   computers.components.videocards     palit  486.81\n",
       "38009       54985               stationery.cartrige    cactus   18.10\n",
       "\n",
       "[36747 rows x 4 columns]"
      ]
     },
     "execution_count": 653,
     "metadata": {},
     "output_type": "execute_result"
    }
   ],
   "source": [
    "X_train"
   ]
  },
  {
   "cell_type": "markdown",
   "metadata": {},
   "source": [
    "## Handling Outliers"
   ]
  },
  {
   "cell_type": "code",
   "execution_count": 654,
   "metadata": {},
   "outputs": [
    {
     "data": {
      "text/html": [
       "<div>\n",
       "<style scoped>\n",
       "    .dataframe tbody tr th:only-of-type {\n",
       "        vertical-align: middle;\n",
       "    }\n",
       "\n",
       "    .dataframe tbody tr th {\n",
       "        vertical-align: top;\n",
       "    }\n",
       "\n",
       "    .dataframe thead th {\n",
       "        text-align: right;\n",
       "    }\n",
       "</style>\n",
       "<table border=\"1\" class=\"dataframe\">\n",
       "  <thead>\n",
       "    <tr style=\"text-align: right;\">\n",
       "      <th></th>\n",
       "      <th>columns</th>\n",
       "      <th>skew</th>\n",
       "      <th>dist</th>\n",
       "    </tr>\n",
       "  </thead>\n",
       "  <tbody>\n",
       "    <tr>\n",
       "      <th>0</th>\n",
       "      <td>product_id</td>\n",
       "      <td>0.169206</td>\n",
       "      <td>normal</td>\n",
       "    </tr>\n",
       "    <tr>\n",
       "      <th>1</th>\n",
       "      <td>price</td>\n",
       "      <td>3.496286</td>\n",
       "      <td>skew</td>\n",
       "    </tr>\n",
       "  </tbody>\n",
       "</table>\n",
       "</div>"
      ],
      "text/plain": [
       "      columns      skew    dist\n",
       "0  product_id  0.169206  normal\n",
       "1       price  3.496286    skew"
      ]
     },
     "execution_count": 654,
     "metadata": {},
     "output_type": "execute_result"
    }
   ],
   "source": [
    "distribution = pd.DataFrame(X_train.skew(axis=0), columns = ['skew']).reset_index()\n",
    "distribution['dist'] = np.where((distribution['skew'] < 0.5) & (distribution['skew'] > -0.5), 'normal', 'skew')\n",
    "distribution.rename(columns={'index':'columns'},inplace=True)\n",
    "\n",
    "\n",
    "distribution"
   ]
  },
  {
   "cell_type": "code",
   "execution_count": 655,
   "metadata": {},
   "outputs": [
    {
     "data": {
      "image/png": "[encoded data removed]",
      "text/plain": [
       "<Figure size 720x360 with 2 Axes>"
      ]
     },
     "metadata": {
      "needs_background": "light"
     },
     "output_type": "display_data"
    },
    {
     "data": {
      "image/png": "[encoded data removed]",
      "text/plain": [
       "<Figure size 720x360 with 2 Axes>"
      ]
     },
     "metadata": {
      "needs_background": "light"
     },
     "output_type": "display_data"
    }
   ],
   "source": [
    "for row in distribution.index.tolist():\n",
    "    col= distribution.iloc[row]['columns']\n",
    "\n",
    "    fig,ax = plt.subplots(1,2, figsize=(10,5))\n",
    "\n",
    "    sns.distplot(x=X_train[col],bins=25, ax=ax[0])\n",
    "    sns.boxplot(x=X_train[col], ax=ax[1])\n",
    "\n",
    "    ax[0].set_title(col + ' ' + 'Histogram')\n",
    "    ax[1].set_title(col + ' ' + 'Boxplot')\n",
    "\n",
    "plt.show()"
   ]
  },
  {
   "cell_type": "markdown",
   "metadata": {},
   "source": [
    "Price have a skew/not normal distribution and hour is normal distribution. Box plot that is let we know there is a outliers or no. we can see the difference between hour boxplot and price boxplot, in price boxplot there is so many black dots outside the box and in hour there is not black dot outside the box. That tell us price is have a outliers. "
   ]
  },
  {
   "cell_type": "markdown",
   "metadata": {},
   "source": [
    "### Check Outlier"
   ]
  },
  {
   "cell_type": "code",
   "execution_count": 656,
   "metadata": {},
   "outputs": [
    {
     "data": {
      "text/html": [
       "<div>\n",
       "<style scoped>\n",
       "    .dataframe tbody tr th:only-of-type {\n",
       "        vertical-align: middle;\n",
       "    }\n",
       "\n",
       "    .dataframe tbody tr th {\n",
       "        vertical-align: top;\n",
       "    }\n",
       "\n",
       "    .dataframe thead th {\n",
       "        text-align: right;\n",
       "    }\n",
       "</style>\n",
       "<table border=\"1\" class=\"dataframe\">\n",
       "  <thead>\n",
       "    <tr style=\"text-align: right;\">\n",
       "      <th></th>\n",
       "      <th>columns</th>\n",
       "      <th>upper_boundary</th>\n",
       "      <th>lower_boundary</th>\n",
       "      <th>total_outliers</th>\n",
       "      <th>bigger_than_ub_percent</th>\n",
       "      <th>lower_than_lb_percent</th>\n",
       "      <th>total_percent</th>\n",
       "      <th>skew</th>\n",
       "      <th>dist</th>\n",
       "    </tr>\n",
       "  </thead>\n",
       "  <tbody>\n",
       "    <tr>\n",
       "      <th>0</th>\n",
       "      <td>product_id</td>\n",
       "      <td>6.721131e+06</td>\n",
       "      <td>-2.370284e+06</td>\n",
       "      <td>0</td>\n",
       "      <td>0.000000</td>\n",
       "      <td>0.0</td>\n",
       "      <td>0.000000</td>\n",
       "      <td>0.169206</td>\n",
       "      <td>normal</td>\n",
       "    </tr>\n",
       "    <tr>\n",
       "      <th>1</th>\n",
       "      <td>price</td>\n",
       "      <td>5.284500e+02</td>\n",
       "      <td>-2.690700e+02</td>\n",
       "      <td>1540</td>\n",
       "      <td>4.190818</td>\n",
       "      <td>0.0</td>\n",
       "      <td>4.190818</td>\n",
       "      <td>3.496286</td>\n",
       "      <td>skew</td>\n",
       "    </tr>\n",
       "  </tbody>\n",
       "</table>\n",
       "</div>"
      ],
      "text/plain": [
       "      columns  upper_boundary  lower_boundary  total_outliers  \\\n",
       "0  product_id    6.721131e+06   -2.370284e+06               0   \n",
       "1       price    5.284500e+02   -2.690700e+02            1540   \n",
       "\n",
       "   bigger_than_ub_percent  lower_than_lb_percent  total_percent      skew  \\\n",
       "0                0.000000                    0.0       0.000000  0.169206   \n",
       "1                4.190818                    0.0       4.190818  3.496286   \n",
       "\n",
       "     dist  \n",
       "0  normal  \n",
       "1    skew  "
      ]
     },
     "execution_count": 656,
     "metadata": {},
     "output_type": "execute_result"
    }
   ],
   "source": [
    "#make a function for skew distribution\n",
    "def skew_boundaries(df, variable, distance):\n",
    "    iqr = df[variable].quantile(0.75) - df[variable].quantile(0.25)\n",
    "\n",
    "    lb = df[variable].quantile(0.25) - (iqr * distance)\n",
    "    ub = df[variable].quantile(0.75) + (iqr * distance)\n",
    "\n",
    "    return ub,lb\n",
    "\n",
    "#make a function for normal distribution\n",
    "def normal_boundaries(df, variable, distance):\n",
    "    ub = df[variable].mean() + distance * df[variable].std()\n",
    "    lb = df[variable].mean() - distance * df[variable].std()\n",
    "\n",
    "    return ub,lb\n",
    "\n",
    "#dataset numerical,we cant know the distribution of categorical columns\n",
    "\n",
    "num_columns = X_train.select_dtypes(include = np.number).columns.tolist()\n",
    "train_num = X_train[num_columns].copy()\n",
    "\n",
    "#make a list\n",
    "outliers = {\n",
    "    'columns': [],\n",
    "    'upper_boundary': [],\n",
    "    'lower_boundary': [],\n",
    "    'total_outliers': [],\n",
    "    'bigger_than_ub_percent': [],\n",
    "    'lower_than_lb_percent': [],\n",
    "    'total_percent': []}\n",
    "\n",
    "#do a looping\n",
    "for i in distribution.index.tolist():\n",
    "    col=distribution.iloc[i]['columns']\n",
    "    dist = distribution.iloc[i]['dist']\n",
    "    \n",
    "    if dist == 'skew':\n",
    "        ub,lb = skew_boundaries(X_train,col,1.5)\n",
    "    else:\n",
    "        ub,lb = normal_boundaries(X_train,col,3)\n",
    "\n",
    "    total = len(train_num[train_num[col] > ub]) + len(train_num[train_num[col] < lb])\n",
    "    ubpercent = len(train_num[train_num[col] > ub])/len(train_num) * 100\n",
    "    lbpercent = len(train_num[train_num[col] < lb])/len(train_num) * 100\n",
    "    totalpercent = ubpercent + lbpercent\n",
    "\n",
    "    #insert  the result to the list\n",
    "    outliers['columns'].append(col)\n",
    "    outliers['upper_boundary'].append(ub)\n",
    "    outliers['lower_boundary'].append(lb)\n",
    "    outliers['total_outliers'].append(total)\n",
    "    outliers['bigger_than_ub_percent'].append(ubpercent)\n",
    "    outliers['lower_than_lb_percent'].append(lbpercent)\n",
    "    outliers['total_percent'].append(totalpercent)\n",
    "\n",
    "#mmake a dataframe from the list\n",
    "outliers = pd.DataFrame(outliers)\n",
    "outliers = pd.merge(outliers,distribution)\n",
    "outliers"
   ]
  },
  {
   "cell_type": "markdown",
   "metadata": {},
   "source": [
    "We have 4% of outlier in column price, we will trimming that outliers so we hope that will change the value of skew."
   ]
  },
  {
   "cell_type": "code",
   "execution_count": 657,
   "metadata": {},
   "outputs": [
    {
     "name": "stdout",
     "output_type": "stream",
     "text": [
      "X train shape before capping: (36747, 4)\n",
      "X train shape after trim: (35207, 4)\n"
     ]
    }
   ],
   "source": [
    "#trimming outliers with OutlierTrimmer\n",
    "\n",
    "print('X train shape before capping:', X_train.shape)  \n",
    "\n",
    "trim = OutlierTrimmer(capping_method = 'iqr',\n",
    "                        tail='both',\n",
    "                        fold=1.5,\n",
    "                        variables = 'price',\n",
    "                        missing_values= 'ignore')\n",
    "                        \n",
    "trim.fit(X_train)\n",
    "X_train = trim.transform(X_train)\n",
    "\n",
    "print('X train shape after trim:', X_train.shape)  "
   ]
  },
  {
   "cell_type": "code",
   "execution_count": 658,
   "metadata": {},
   "outputs": [
    {
     "name": "stdout",
     "output_type": "stream",
     "text": [
      "y train shape before adjustment: (36747,)\n",
      "y train shape after adjustment : (35207,)\n"
     ]
    }
   ],
   "source": [
    "#adjustment y_train from index of x_train\n",
    "print('y train shape before adjustment:', y_train.shape)\n",
    "\n",
    "#drop perbedaan index dari X_train_clean dan y_train\n",
    "y_train.drop(y_train.index.difference(X_train.index), inplace = True)\n",
    "\n",
    "print('y train shape after adjustment :', y_train.shape)"
   ]
  },
  {
   "cell_type": "markdown",
   "metadata": {},
   "source": [
    "## Check Missing Value"
   ]
  },
  {
   "cell_type": "code",
   "execution_count": 659,
   "metadata": {},
   "outputs": [
    {
     "data": {
      "text/plain": [
       "product_id          0\n",
       "category_code    6942\n",
       "brand            8565\n",
       "price               0\n",
       "dtype: int64"
      ]
     },
     "execution_count": 659,
     "metadata": {},
     "output_type": "execute_result"
    }
   ],
   "source": [
    "X_train.isnull().sum()"
   ]
  },
  {
   "cell_type": "code",
   "execution_count": 660,
   "metadata": {},
   "outputs": [
    {
     "data": {
      "text/plain": [
       "product_id          0\n",
       "category_code    2393\n",
       "brand            2861\n",
       "price               0\n",
       "dtype: int64"
      ]
     },
     "execution_count": 660,
     "metadata": {},
     "output_type": "execute_result"
    }
   ],
   "source": [
    "X_test.isnull().sum()"
   ]
  },
  {
   "cell_type": "code",
   "execution_count": 661,
   "metadata": {},
   "outputs": [
    {
     "data": {
      "text/plain": [
       "4"
      ]
     },
     "execution_count": 661,
     "metadata": {},
     "output_type": "execute_result"
    }
   ],
   "source": [
    "y_train.isnull().sum()"
   ]
  },
  {
   "cell_type": "code",
   "execution_count": 662,
   "metadata": {},
   "outputs": [
    {
     "data": {
      "text/plain": [
       "2"
      ]
     },
     "execution_count": 662,
     "metadata": {},
     "output_type": "execute_result"
    }
   ],
   "source": [
    "y_test.isnull().sum()"
   ]
  },
  {
   "cell_type": "markdown",
   "metadata": {},
   "source": [
    "## Handling Missing Value"
   ]
  },
  {
   "cell_type": "code",
   "execution_count": 663,
   "metadata": {},
   "outputs": [],
   "source": [
    "X_train = X_train.fillna(method='ffill')"
   ]
  },
  {
   "cell_type": "code",
   "execution_count": 664,
   "metadata": {},
   "outputs": [],
   "source": [
    "X_test = X_test.fillna(method='ffill')"
   ]
  },
  {
   "cell_type": "code",
   "execution_count": 665,
   "metadata": {},
   "outputs": [
    {
     "data": {
      "text/plain": [
       "product_id       0\n",
       "category_code    0\n",
       "brand            0\n",
       "price            0\n",
       "dtype: int64"
      ]
     },
     "execution_count": 665,
     "metadata": {},
     "output_type": "execute_result"
    }
   ],
   "source": [
    "X_train.isnull().sum()"
   ]
  },
  {
   "cell_type": "code",
   "execution_count": 666,
   "metadata": {},
   "outputs": [
    {
     "data": {
      "text/plain": [
       "product_id       0\n",
       "category_code    0\n",
       "brand            0\n",
       "price            0\n",
       "dtype: int64"
      ]
     },
     "execution_count": 666,
     "metadata": {},
     "output_type": "execute_result"
    }
   ],
   "source": [
    "X_test.isnull().sum()"
   ]
  },
  {
   "cell_type": "code",
   "execution_count": 667,
   "metadata": {},
   "outputs": [],
   "source": [
    "y_train.dropna(inplace=True)\n",
    "y_test.dropna(inplace=True)"
   ]
  },
  {
   "cell_type": "code",
   "execution_count": 668,
   "metadata": {},
   "outputs": [
    {
     "data": {
      "text/plain": [
       "0"
      ]
     },
     "execution_count": 668,
     "metadata": {},
     "output_type": "execute_result"
    }
   ],
   "source": [
    "y_train.isnull().sum()"
   ]
  },
  {
   "cell_type": "code",
   "execution_count": 669,
   "metadata": {},
   "outputs": [
    {
     "data": {
      "text/plain": [
       "0"
      ]
     },
     "execution_count": 669,
     "metadata": {},
     "output_type": "execute_result"
    }
   ],
   "source": [
    "y_test.isnull().sum()"
   ]
  },
  {
   "cell_type": "code",
   "execution_count": 670,
   "metadata": {},
   "outputs": [],
   "source": [
    "X_train.drop(X_train.index.difference(y_train.index),inplace=True)\n",
    "X_test.drop(X_test.index.difference(y_test.index),inplace=True)"
   ]
  },
  {
   "cell_type": "code",
   "execution_count": 671,
   "metadata": {},
   "outputs": [
    {
     "name": "stdout",
     "output_type": "stream",
     "text": [
      "shape of X_train: (35203, 4)\n",
      "shape of y_train: (35203,)\n",
      "shape of X_test: (12247, 4)\n",
      "shape of X_test: (12247, 4)\n"
     ]
    }
   ],
   "source": [
    "print('shape of X_train:', X_train.shape)\n",
    "print('shape of y_train:', y_train.shape)\n",
    "print('shape of X_test:', X_test.shape)\n",
    "print('shape of X_test:', X_test.shape)"
   ]
  },
  {
   "cell_type": "markdown",
   "metadata": {},
   "source": [
    "## Seperated Category Columns"
   ]
  },
  {
   "cell_type": "code",
   "execution_count": null,
   "metadata": {},
   "outputs": [],
   "source": [
    "df_category[\"category\"] = df_category[\"category_code\"].apply(lambda x : x.split(\".\")[0])"
   ]
  },
  {
   "cell_type": "code",
   "execution_count": 672,
   "metadata": {},
   "outputs": [],
   "source": [
    "X_train['main_category'] = X_train['category_code'].apply(lambda x: x.split('.')[0])\n",
    "X_train['sub_category'] = X_train['category_code'].apply(lambda x: x.split('.')[1])"
   ]
  },
  {
   "cell_type": "code",
   "execution_count": 676,
   "metadata": {},
   "outputs": [],
   "source": [
    "X_train.drop(columns = ['category_code'], axis = 1, inplace = True)\n",
    "\n",
    "columns = X_train.columns.tolist()"
   ]
  },
  {
   "cell_type": "code",
   "execution_count": 677,
   "metadata": {},
   "outputs": [],
   "source": [
    "X_test['main_category'] = X_test['category_code'].apply(lambda x: x.split('.')[0])\n",
    "X_test['sub_category'] = X_test['category_code'].apply(lambda x: x.split('.')[1])"
   ]
  },
  {
   "cell_type": "code",
   "execution_count": 678,
   "metadata": {},
   "outputs": [],
   "source": [
    "X_test = X_test[columns]"
   ]
  },
  {
   "cell_type": "markdown",
   "metadata": {},
   "source": []
  },
  {
   "cell_type": "markdown",
   "metadata": {},
   "source": [
    "# MODE DEFINITION"
   ]
  },
  {
   "cell_type": "markdown",
   "metadata": {},
   "source": [
    "## Pipeline"
   ]
  },
  {
   "cell_type": "code",
   "execution_count": 703,
   "metadata": {},
   "outputs": [],
   "source": [
    "#seperate numerical and categorical columns\n",
    "num_columns = X_train.select_dtypes(include=np.number).columns\n",
    "cat_columns = X_train.select_dtypes(exclude=np.number).columns\n",
    "\n",
    "#pipeline\n",
    "\n",
    "num_pipe = Pipeline([\n",
    "    ('scaling', StandardScaler())\n",
    "])\n",
    "\n",
    "cat_pipe =  Pipeline([\n",
    "    ('encoded',OrdinalEncoder(handle_unknown='use_encoded_value', unknown_value=-1))\n",
    "])\n",
    "\n",
    "preprocess = ColumnTransformer([\n",
    "    ('num',num_pipe,num_columns),\n",
    "    ('cat',cat_pipe,cat_columns)\n",
    "])"
   ]
  },
  {
   "cell_type": "code",
   "execution_count": 704,
   "metadata": {},
   "outputs": [],
   "source": [
    "from sklearn.tree import DecisionTreeClassifier\n",
    "from sklearn.ensemble import RandomForestClassifier\n",
    "from sklearn.linear_model import LogisticRegression\n",
    "from xgboost import XGBClassifier\n",
    "from sklearn.decomposition import PCA\n",
    "from sklearn.decomposition import TruncatedSVD\n",
    "\n",
    "import warnings\n",
    "warnings.filterwarnings(\"ignore\")"
   ]
  },
  {
   "cell_type": "code",
   "execution_count": 705,
   "metadata": {},
   "outputs": [],
   "source": [
    "pipe_tree = Pipeline([\n",
    "('preprocessing', preprocess ),\n",
    "('pca',PCA(0.90)),\n",
    "('classifier', DecisionTreeClassifier(random_state=16))\n",
    "])\n",
    "\n",
    "pipe_rf = Pipeline([\n",
    "('preprocessing', preprocess ),\n",
    "('pca',PCA(0.90)),\n",
    "('classifier', RandomForestClassifier())\n",
    "])\n",
    "\n",
    "pipe_xgb = Pipeline([\n",
    "    ('preprocessing', preprocess),\n",
    "    ('pca',PCA(0.90)),\n",
    "    ('classifier', XGBClassifier())\n",
    "    ])\n"
   ]
  },
  {
   "cell_type": "markdown",
   "metadata": {},
   "source": [
    "# MODEL TRAINING"
   ]
  },
  {
   "cell_type": "code",
   "execution_count": 706,
   "metadata": {},
   "outputs": [],
   "source": [
    "tree = pipe_tree.fit(X_train,y_train)"
   ]
  },
  {
   "cell_type": "code",
   "execution_count": 707,
   "metadata": {},
   "outputs": [],
   "source": [
    "rf = pipe_rf.fit(X_train,y_train)"
   ]
  },
  {
   "cell_type": "code",
   "execution_count": 708,
   "metadata": {},
   "outputs": [
    {
     "name": "stdout",
     "output_type": "stream",
     "text": [
      "[16:52:00] WARNING: C:/Users/Administrator/workspace/xgboost-win64_release_1.5.1/src/learner.cc:1115: Starting in XGBoost 1.3.0, the default evaluation metric used with the objective 'binary:logistic' was changed from 'error' to 'logloss'. Explicitly set eval_metric if you'd like to restore the old behavior.\n"
     ]
    }
   ],
   "source": [
    "xgb = pipe_xgb.fit(X_train,y_train)"
   ]
  },
  {
   "cell_type": "markdown",
   "metadata": {},
   "source": [
    "# MODEL EVALUATION"
   ]
  },
  {
   "cell_type": "markdown",
   "metadata": {},
   "source": [
    "### Descision Tree"
   ]
  },
  {
   "cell_type": "code",
   "execution_count": 709,
   "metadata": {},
   "outputs": [
    {
     "name": "stdout",
     "output_type": "stream",
     "text": [
      "              precision    recall  f1-score   support\n",
      "\n",
      "         0.0       0.69      0.79      0.74     18541\n",
      "         1.0       0.72      0.59      0.65     16662\n",
      "\n",
      "    accuracy                           0.70     35203\n",
      "   macro avg       0.70      0.69      0.69     35203\n",
      "weighted avg       0.70      0.70      0.70     35203\n",
      "\n",
      "              precision    recall  f1-score   support\n",
      "\n",
      "         0.0       0.58      0.67      0.62      6544\n",
      "         1.0       0.54      0.45      0.49      5703\n",
      "\n",
      "    accuracy                           0.56     12247\n",
      "   macro avg       0.56      0.56      0.55     12247\n",
      "weighted avg       0.56      0.56      0.56     12247\n",
      "\n"
     ]
    }
   ],
   "source": [
    "y_pred_train_tree = tree.predict(X_train)\n",
    "y_pred_test_tree = tree.predict(X_test)\n",
    "\n",
    "print(classification_report(y_train, y_pred_train_tree))\n",
    "\n",
    "print(classification_report(y_test, y_pred_test_tree))"
   ]
  },
  {
   "cell_type": "markdown",
   "metadata": {},
   "source": [
    "### Random Forest"
   ]
  },
  {
   "cell_type": "code",
   "execution_count": 710,
   "metadata": {},
   "outputs": [
    {
     "name": "stdout",
     "output_type": "stream",
     "text": [
      "              precision    recall  f1-score   support\n",
      "\n",
      "         0.0       0.70      0.76      0.73     18541\n",
      "         1.0       0.70      0.63      0.67     16662\n",
      "\n",
      "    accuracy                           0.70     35203\n",
      "   macro avg       0.70      0.70      0.70     35203\n",
      "weighted avg       0.70      0.70      0.70     35203\n",
      "\n",
      "              precision    recall  f1-score   support\n",
      "\n",
      "         0.0       0.59      0.64      0.61      6544\n",
      "         1.0       0.54      0.48      0.51      5703\n",
      "\n",
      "    accuracy                           0.56     12247\n",
      "   macro avg       0.56      0.56      0.56     12247\n",
      "weighted avg       0.56      0.56      0.56     12247\n",
      "\n"
     ]
    }
   ],
   "source": [
    "y_pred_train_rf = rf.predict(X_train)\n",
    "y_pred_test_rf = rf.predict(X_test)\n",
    "\n",
    "print(classification_report(y_train, y_pred_train_rf))\n",
    "\n",
    "print(classification_report(y_test, y_pred_test_rf))"
   ]
  },
  {
   "cell_type": "markdown",
   "metadata": {},
   "source": [
    "### XGBoost"
   ]
  },
  {
   "cell_type": "code",
   "execution_count": 712,
   "metadata": {},
   "outputs": [
    {
     "name": "stdout",
     "output_type": "stream",
     "text": [
      "              precision    recall  f1-score   support\n",
      "\n",
      "         0.0       0.62      0.70      0.66     18541\n",
      "         1.0       0.61      0.53      0.57     16662\n",
      "\n",
      "    accuracy                           0.62     35203\n",
      "   macro avg       0.62      0.61      0.61     35203\n",
      "weighted avg       0.62      0.62      0.62     35203\n",
      "\n",
      "              precision    recall  f1-score   support\n",
      "\n",
      "         0.0       0.58      0.66      0.62      6544\n",
      "         1.0       0.54      0.46      0.50      5703\n",
      "\n",
      "    accuracy                           0.57     12247\n",
      "   macro avg       0.56      0.56      0.56     12247\n",
      "weighted avg       0.56      0.57      0.56     12247\n",
      "\n"
     ]
    }
   ],
   "source": [
    "y_pred_train_xgb = xgb.predict(X_train)\n",
    "y_pred_test_xgb = xgb.predict(X_test)\n",
    "\n",
    "print(classification_report(y_train, y_pred_train_xgb))\n",
    "\n",
    "print(classification_report(y_test, y_pred_test_xgb))"
   ]
  },
  {
   "cell_type": "markdown",
   "metadata": {},
   "source": [
    "Before use Hyperparameter we can see Random Forest model have a highest train accurary with 83% but XGBoost have a highest accuracy for testing. That we know the data is overfitting because accuracy of trainset is much better then test set. We need improve this model with hyper parameter."
   ]
  },
  {
   "cell_type": "markdown",
   "metadata": {},
   "source": [
    "### HyperParameter"
   ]
  },
  {
   "cell_type": "code",
   "execution_count": 713,
   "metadata": {},
   "outputs": [],
   "source": [
    "#create hyperparameter for each model\n",
    "\n",
    "param_tree = {'classifier__criterion':['gini','entropy'],\n",
    "              'classifier__max_depth':np.arange(2,6),\n",
    "              'classifier__max_features':['auto','sqrt','log2']\n",
    "              }\n",
    "\n",
    "param_rf = {'classifier__criterion': ['gini','entropy'],\n",
    "                  'classifier__max_depth':np.arange(2,6),\n",
    "                  'classifier__max_features':['auto','sqrt','log2'], \n",
    "                   }\n",
    "\n",
    "param_XGB = {'classifier__booster': ['gbtree','gblinear'],\n",
    "                  'classifier__max_depth':np.arange(2,6),\n",
    "                  'classifier__min_child_weight' : np.arange(0,2),\n",
    "                  'classifier__learning_rate' : np.arange(0.3,1)\n",
    "                   }"
   ]
  },
  {
   "cell_type": "markdown",
   "metadata": {},
   "source": [
    "### GridSearchCV"
   ]
  },
  {
   "cell_type": "markdown",
   "metadata": {},
   "source": [
    "GridSearchCV is a library that is used to find the best parameters that we have set up in the model. This can shorten the time it takes to find the best parameters instead of having to look for one by one."
   ]
  },
  {
   "cell_type": "code",
   "execution_count": 559,
   "metadata": {},
   "outputs": [],
   "source": [
    "from sklearn.model_selection import GridSearchCV"
   ]
  },
  {
   "cell_type": "code",
   "execution_count": 714,
   "metadata": {},
   "outputs": [
    {
     "name": "stdout",
     "output_type": "stream",
     "text": [
      "[16:54:53] WARNING: C:/Users/Administrator/workspace/xgboost-win64_release_1.5.1/src/learner.cc:1115: Starting in XGBoost 1.3.0, the default evaluation metric used with the objective 'binary:logistic' was changed from 'error' to 'logloss'. Explicitly set eval_metric if you'd like to restore the old behavior.\n",
      "[16:54:53] WARNING: C:/Users/Administrator/workspace/xgboost-win64_release_1.5.1/src/learner.cc:1115: Starting in XGBoost 1.3.0, the default evaluation metric used with the objective 'binary:logistic' was changed from 'error' to 'logloss'. Explicitly set eval_metric if you'd like to restore the old behavior.\n",
      "[16:54:53] WARNING: C:/Users/Administrator/workspace/xgboost-win64_release_1.5.1/src/learner.cc:1115: Starting in XGBoost 1.3.0, the default evaluation metric used with the objective 'binary:logistic' was changed from 'error' to 'logloss'. Explicitly set eval_metric if you'd like to restore the old behavior.\n",
      "[16:54:54] WARNING: C:/Users/Administrator/workspace/xgboost-win64_release_1.5.1/src/learner.cc:1115: Starting in XGBoost 1.3.0, the default evaluation metric used with the objective 'binary:logistic' was changed from 'error' to 'logloss'. Explicitly set eval_metric if you'd like to restore the old behavior.\n",
      "[16:54:54] WARNING: C:/Users/Administrator/workspace/xgboost-win64_release_1.5.1/src/learner.cc:1115: Starting in XGBoost 1.3.0, the default evaluation metric used with the objective 'binary:logistic' was changed from 'error' to 'logloss'. Explicitly set eval_metric if you'd like to restore the old behavior.\n",
      "[16:54:55] WARNING: C:/Users/Administrator/workspace/xgboost-win64_release_1.5.1/src/learner.cc:1115: Starting in XGBoost 1.3.0, the default evaluation metric used with the objective 'binary:logistic' was changed from 'error' to 'logloss'. Explicitly set eval_metric if you'd like to restore the old behavior.\n",
      "[16:54:55] WARNING: C:/Users/Administrator/workspace/xgboost-win64_release_1.5.1/src/learner.cc:1115: Starting in XGBoost 1.3.0, the default evaluation metric used with the objective 'binary:logistic' was changed from 'error' to 'logloss'. Explicitly set eval_metric if you'd like to restore the old behavior.\n",
      "[16:54:55] WARNING: C:/Users/Administrator/workspace/xgboost-win64_release_1.5.1/src/learner.cc:1115: Starting in XGBoost 1.3.0, the default evaluation metric used with the objective 'binary:logistic' was changed from 'error' to 'logloss'. Explicitly set eval_metric if you'd like to restore the old behavior.\n",
      "[16:54:56] WARNING: C:/Users/Administrator/workspace/xgboost-win64_release_1.5.1/src/learner.cc:1115: Starting in XGBoost 1.3.0, the default evaluation metric used with the objective 'binary:logistic' was changed from 'error' to 'logloss'. Explicitly set eval_metric if you'd like to restore the old behavior.\n",
      "[16:54:56] WARNING: C:/Users/Administrator/workspace/xgboost-win64_release_1.5.1/src/learner.cc:1115: Starting in XGBoost 1.3.0, the default evaluation metric used with the objective 'binary:logistic' was changed from 'error' to 'logloss'. Explicitly set eval_metric if you'd like to restore the old behavior.\n",
      "[16:54:56] WARNING: C:/Users/Administrator/workspace/xgboost-win64_release_1.5.1/src/learner.cc:1115: Starting in XGBoost 1.3.0, the default evaluation metric used with the objective 'binary:logistic' was changed from 'error' to 'logloss'. Explicitly set eval_metric if you'd like to restore the old behavior.\n",
      "[16:54:57] WARNING: C:/Users/Administrator/workspace/xgboost-win64_release_1.5.1/src/learner.cc:1115: Starting in XGBoost 1.3.0, the default evaluation metric used with the objective 'binary:logistic' was changed from 'error' to 'logloss'. Explicitly set eval_metric if you'd like to restore the old behavior.\n",
      "[16:54:57] WARNING: C:/Users/Administrator/workspace/xgboost-win64_release_1.5.1/src/learner.cc:1115: Starting in XGBoost 1.3.0, the default evaluation metric used with the objective 'binary:logistic' was changed from 'error' to 'logloss'. Explicitly set eval_metric if you'd like to restore the old behavior.\n",
      "[16:54:58] WARNING: C:/Users/Administrator/workspace/xgboost-win64_release_1.5.1/src/learner.cc:1115: Starting in XGBoost 1.3.0, the default evaluation metric used with the objective 'binary:logistic' was changed from 'error' to 'logloss'. Explicitly set eval_metric if you'd like to restore the old behavior.\n",
      "[16:54:58] WARNING: C:/Users/Administrator/workspace/xgboost-win64_release_1.5.1/src/learner.cc:1115: Starting in XGBoost 1.3.0, the default evaluation metric used with the objective 'binary:logistic' was changed from 'error' to 'logloss'. Explicitly set eval_metric if you'd like to restore the old behavior.\n",
      "[16:54:59] WARNING: C:/Users/Administrator/workspace/xgboost-win64_release_1.5.1/src/learner.cc:1115: Starting in XGBoost 1.3.0, the default evaluation metric used with the objective 'binary:logistic' was changed from 'error' to 'logloss'. Explicitly set eval_metric if you'd like to restore the old behavior.\n",
      "[16:54:59] WARNING: C:/Users/Administrator/workspace/xgboost-win64_release_1.5.1/src/learner.cc:1115: Starting in XGBoost 1.3.0, the default evaluation metric used with the objective 'binary:logistic' was changed from 'error' to 'logloss'. Explicitly set eval_metric if you'd like to restore the old behavior.\n",
      "[16:55:00] WARNING: C:/Users/Administrator/workspace/xgboost-win64_release_1.5.1/src/learner.cc:1115: Starting in XGBoost 1.3.0, the default evaluation metric used with the objective 'binary:logistic' was changed from 'error' to 'logloss'. Explicitly set eval_metric if you'd like to restore the old behavior.\n",
      "[16:55:00] WARNING: C:/Users/Administrator/workspace/xgboost-win64_release_1.5.1/src/learner.cc:1115: Starting in XGBoost 1.3.0, the default evaluation metric used with the objective 'binary:logistic' was changed from 'error' to 'logloss'. Explicitly set eval_metric if you'd like to restore the old behavior.\n",
      "[16:55:00] WARNING: C:/Users/Administrator/workspace/xgboost-win64_release_1.5.1/src/learner.cc:1115: Starting in XGBoost 1.3.0, the default evaluation metric used with the objective 'binary:logistic' was changed from 'error' to 'logloss'. Explicitly set eval_metric if you'd like to restore the old behavior.\n",
      "[16:55:01] WARNING: C:/Users/Administrator/workspace/xgboost-win64_release_1.5.1/src/learner.cc:1115: Starting in XGBoost 1.3.0, the default evaluation metric used with the objective 'binary:logistic' was changed from 'error' to 'logloss'. Explicitly set eval_metric if you'd like to restore the old behavior.\n",
      "[16:55:01] WARNING: C:/Users/Administrator/workspace/xgboost-win64_release_1.5.1/src/learner.cc:1115: Starting in XGBoost 1.3.0, the default evaluation metric used with the objective 'binary:logistic' was changed from 'error' to 'logloss'. Explicitly set eval_metric if you'd like to restore the old behavior.\n",
      "[16:55:02] WARNING: C:/Users/Administrator/workspace/xgboost-win64_release_1.5.1/src/learner.cc:1115: Starting in XGBoost 1.3.0, the default evaluation metric used with the objective 'binary:logistic' was changed from 'error' to 'logloss'. Explicitly set eval_metric if you'd like to restore the old behavior.\n",
      "[16:55:03] WARNING: C:/Users/Administrator/workspace/xgboost-win64_release_1.5.1/src/learner.cc:1115: Starting in XGBoost 1.3.0, the default evaluation metric used with the objective 'binary:logistic' was changed from 'error' to 'logloss'. Explicitly set eval_metric if you'd like to restore the old behavior.\n",
      "[16:55:03] WARNING: C:/Users/Administrator/workspace/xgboost-win64_release_1.5.1/src/learner.cc:1115: Starting in XGBoost 1.3.0, the default evaluation metric used with the objective 'binary:logistic' was changed from 'error' to 'logloss'. Explicitly set eval_metric if you'd like to restore the old behavior.\n",
      "[16:55:04] WARNING: C:/Users/Administrator/workspace/xgboost-win64_release_1.5.1/src/learner.cc:1115: Starting in XGBoost 1.3.0, the default evaluation metric used with the objective 'binary:logistic' was changed from 'error' to 'logloss'. Explicitly set eval_metric if you'd like to restore the old behavior.\n",
      "[16:55:04] WARNING: C:/Users/Administrator/workspace/xgboost-win64_release_1.5.1/src/learner.cc:1115: Starting in XGBoost 1.3.0, the default evaluation metric used with the objective 'binary:logistic' was changed from 'error' to 'logloss'. Explicitly set eval_metric if you'd like to restore the old behavior.\n",
      "[16:55:05] WARNING: C:/Users/Administrator/workspace/xgboost-win64_release_1.5.1/src/learner.cc:1115: Starting in XGBoost 1.3.0, the default evaluation metric used with the objective 'binary:logistic' was changed from 'error' to 'logloss'. Explicitly set eval_metric if you'd like to restore the old behavior.\n",
      "[16:55:05] WARNING: C:/Users/Administrator/workspace/xgboost-win64_release_1.5.1/src/learner.cc:1115: Starting in XGBoost 1.3.0, the default evaluation metric used with the objective 'binary:logistic' was changed from 'error' to 'logloss'. Explicitly set eval_metric if you'd like to restore the old behavior.\n",
      "[16:55:06] WARNING: C:/Users/Administrator/workspace/xgboost-win64_release_1.5.1/src/learner.cc:1115: Starting in XGBoost 1.3.0, the default evaluation metric used with the objective 'binary:logistic' was changed from 'error' to 'logloss'. Explicitly set eval_metric if you'd like to restore the old behavior.\n",
      "[16:55:07] WARNING: C:/Users/Administrator/workspace/xgboost-win64_release_1.5.1/src/learner.cc:1115: Starting in XGBoost 1.3.0, the default evaluation metric used with the objective 'binary:logistic' was changed from 'error' to 'logloss'. Explicitly set eval_metric if you'd like to restore the old behavior.\n",
      "[16:55:07] WARNING: C:/Users/Administrator/workspace/xgboost-win64_release_1.5.1/src/learner.cc:1115: Starting in XGBoost 1.3.0, the default evaluation metric used with the objective 'binary:logistic' was changed from 'error' to 'logloss'. Explicitly set eval_metric if you'd like to restore the old behavior.\n",
      "[16:55:08] WARNING: C:/Users/Administrator/workspace/xgboost-win64_release_1.5.1/src/learner.cc:1115: Starting in XGBoost 1.3.0, the default evaluation metric used with the objective 'binary:logistic' was changed from 'error' to 'logloss'. Explicitly set eval_metric if you'd like to restore the old behavior.\n",
      "[16:55:09] WARNING: C:/Users/Administrator/workspace/xgboost-win64_release_1.5.1/src/learner.cc:1115: Starting in XGBoost 1.3.0, the default evaluation metric used with the objective 'binary:logistic' was changed from 'error' to 'logloss'. Explicitly set eval_metric if you'd like to restore the old behavior.\n",
      "[16:55:09] WARNING: C:/Users/Administrator/workspace/xgboost-win64_release_1.5.1/src/learner.cc:1115: Starting in XGBoost 1.3.0, the default evaluation metric used with the objective 'binary:logistic' was changed from 'error' to 'logloss'. Explicitly set eval_metric if you'd like to restore the old behavior.\n",
      "[16:55:10] WARNING: C:/Users/Administrator/workspace/xgboost-win64_release_1.5.1/src/learner.cc:1115: Starting in XGBoost 1.3.0, the default evaluation metric used with the objective 'binary:logistic' was changed from 'error' to 'logloss'. Explicitly set eval_metric if you'd like to restore the old behavior.\n",
      "[16:55:11] WARNING: C:/Users/Administrator/workspace/xgboost-win64_release_1.5.1/src/learner.cc:1115: Starting in XGBoost 1.3.0, the default evaluation metric used with the objective 'binary:logistic' was changed from 'error' to 'logloss'. Explicitly set eval_metric if you'd like to restore the old behavior.\n",
      "[16:55:11] WARNING: C:/Users/Administrator/workspace/xgboost-win64_release_1.5.1/src/learner.cc:1115: Starting in XGBoost 1.3.0, the default evaluation metric used with the objective 'binary:logistic' was changed from 'error' to 'logloss'. Explicitly set eval_metric if you'd like to restore the old behavior.\n",
      "[16:55:12] WARNING: C:/Users/Administrator/workspace/xgboost-win64_release_1.5.1/src/learner.cc:1115: Starting in XGBoost 1.3.0, the default evaluation metric used with the objective 'binary:logistic' was changed from 'error' to 'logloss'. Explicitly set eval_metric if you'd like to restore the old behavior.\n",
      "[16:55:13] WARNING: C:/Users/Administrator/workspace/xgboost-win64_release_1.5.1/src/learner.cc:1115: Starting in XGBoost 1.3.0, the default evaluation metric used with the objective 'binary:logistic' was changed from 'error' to 'logloss'. Explicitly set eval_metric if you'd like to restore the old behavior.\n",
      "[16:55:14] WARNING: C:/Users/Administrator/workspace/xgboost-win64_release_1.5.1/src/learner.cc:576: \n",
      "Parameters: { \"colsample_bylevel\", \"colsample_bynode\", \"colsample_bytree\", \"gamma\", \"interaction_constraints\", \"max_delta_step\", \"max_depth\", \"min_child_weight\", \"monotone_constraints\", \"num_parallel_tree\", \"predictor\", \"subsample\", \"tree_method\" } might not be used.\n",
      "\n",
      "  This could be a false alarm, with some parameters getting used by language bindings but\n",
      "  then being mistakenly passed down to XGBoost core, or some parameter actually being used\n",
      "  but getting flagged wrongly here. Please open an issue if you find any such cases.\n",
      "\n",
      "\n",
      "[16:55:14] WARNING: C:/Users/Administrator/workspace/xgboost-win64_release_1.5.1/src/learner.cc:1115: Starting in XGBoost 1.3.0, the default evaluation metric used with the objective 'binary:logistic' was changed from 'error' to 'logloss'. Explicitly set eval_metric if you'd like to restore the old behavior.\n",
      "[16:55:14] WARNING: C:/Users/Administrator/workspace/xgboost-win64_release_1.5.1/src/learner.cc:576: \n",
      "Parameters: { \"colsample_bylevel\", \"colsample_bynode\", \"colsample_bytree\", \"gamma\", \"interaction_constraints\", \"max_delta_step\", \"max_depth\", \"min_child_weight\", \"monotone_constraints\", \"num_parallel_tree\", \"predictor\", \"subsample\", \"tree_method\" } might not be used.\n",
      "\n",
      "  This could be a false alarm, with some parameters getting used by language bindings but\n",
      "  then being mistakenly passed down to XGBoost core, or some parameter actually being used\n",
      "  but getting flagged wrongly here. Please open an issue if you find any such cases.\n",
      "\n",
      "\n",
      "[16:55:14] WARNING: C:/Users/Administrator/workspace/xgboost-win64_release_1.5.1/src/learner.cc:1115: Starting in XGBoost 1.3.0, the default evaluation metric used with the objective 'binary:logistic' was changed from 'error' to 'logloss'. Explicitly set eval_metric if you'd like to restore the old behavior.\n",
      "[16:55:14] WARNING: C:/Users/Administrator/workspace/xgboost-win64_release_1.5.1/src/learner.cc:576: \n",
      "Parameters: { \"colsample_bylevel\", \"colsample_bynode\", \"colsample_bytree\", \"gamma\", \"interaction_constraints\", \"max_delta_step\", \"max_depth\", \"min_child_weight\", \"monotone_constraints\", \"num_parallel_tree\", \"predictor\", \"subsample\", \"tree_method\" } might not be used.\n",
      "\n",
      "  This could be a false alarm, with some parameters getting used by language bindings but\n",
      "  then being mistakenly passed down to XGBoost core, or some parameter actually being used\n",
      "  but getting flagged wrongly here. Please open an issue if you find any such cases.\n",
      "\n",
      "\n",
      "[16:55:14] WARNING: C:/Users/Administrator/workspace/xgboost-win64_release_1.5.1/src/learner.cc:1115: Starting in XGBoost 1.3.0, the default evaluation metric used with the objective 'binary:logistic' was changed from 'error' to 'logloss'. Explicitly set eval_metric if you'd like to restore the old behavior.\n",
      "[16:55:14] WARNING: C:/Users/Administrator/workspace/xgboost-win64_release_1.5.1/src/learner.cc:576: \n",
      "Parameters: { \"colsample_bylevel\", \"colsample_bynode\", \"colsample_bytree\", \"gamma\", \"interaction_constraints\", \"max_delta_step\", \"max_depth\", \"min_child_weight\", \"monotone_constraints\", \"num_parallel_tree\", \"predictor\", \"subsample\", \"tree_method\" } might not be used.\n",
      "\n",
      "  This could be a false alarm, with some parameters getting used by language bindings but\n",
      "  then being mistakenly passed down to XGBoost core, or some parameter actually being used\n",
      "  but getting flagged wrongly here. Please open an issue if you find any such cases.\n",
      "\n",
      "\n",
      "[16:55:14] WARNING: C:/Users/Administrator/workspace/xgboost-win64_release_1.5.1/src/learner.cc:1115: Starting in XGBoost 1.3.0, the default evaluation metric used with the objective 'binary:logistic' was changed from 'error' to 'logloss'. Explicitly set eval_metric if you'd like to restore the old behavior.\n",
      "[16:55:14] WARNING: C:/Users/Administrator/workspace/xgboost-win64_release_1.5.1/src/learner.cc:576: \n",
      "Parameters: { \"colsample_bylevel\", \"colsample_bynode\", \"colsample_bytree\", \"gamma\", \"interaction_constraints\", \"max_delta_step\", \"max_depth\", \"min_child_weight\", \"monotone_constraints\", \"num_parallel_tree\", \"predictor\", \"subsample\", \"tree_method\" } might not be used.\n",
      "\n",
      "  This could be a false alarm, with some parameters getting used by language bindings but\n",
      "  then being mistakenly passed down to XGBoost core, or some parameter actually being used\n",
      "  but getting flagged wrongly here. Please open an issue if you find any such cases.\n",
      "\n",
      "\n",
      "[16:55:14] WARNING: C:/Users/Administrator/workspace/xgboost-win64_release_1.5.1/src/learner.cc:1115: Starting in XGBoost 1.3.0, the default evaluation metric used with the objective 'binary:logistic' was changed from 'error' to 'logloss'. Explicitly set eval_metric if you'd like to restore the old behavior.\n",
      "[16:55:14] WARNING: C:/Users/Administrator/workspace/xgboost-win64_release_1.5.1/src/learner.cc:576: \n",
      "Parameters: { \"colsample_bylevel\", \"colsample_bynode\", \"colsample_bytree\", \"gamma\", \"interaction_constraints\", \"max_delta_step\", \"max_depth\", \"min_child_weight\", \"monotone_constraints\", \"num_parallel_tree\", \"predictor\", \"subsample\", \"tree_method\" } might not be used.\n",
      "\n",
      "  This could be a false alarm, with some parameters getting used by language bindings but\n",
      "  then being mistakenly passed down to XGBoost core, or some parameter actually being used\n",
      "  but getting flagged wrongly here. Please open an issue if you find any such cases.\n",
      "\n",
      "\n",
      "[16:55:14] WARNING: C:/Users/Administrator/workspace/xgboost-win64_release_1.5.1/src/learner.cc:1115: Starting in XGBoost 1.3.0, the default evaluation metric used with the objective 'binary:logistic' was changed from 'error' to 'logloss'. Explicitly set eval_metric if you'd like to restore the old behavior.\n",
      "[16:55:15] WARNING: C:/Users/Administrator/workspace/xgboost-win64_release_1.5.1/src/learner.cc:576: \n",
      "Parameters: { \"colsample_bylevel\", \"colsample_bynode\", \"colsample_bytree\", \"gamma\", \"interaction_constraints\", \"max_delta_step\", \"max_depth\", \"min_child_weight\", \"monotone_constraints\", \"num_parallel_tree\", \"predictor\", \"subsample\", \"tree_method\" } might not be used.\n",
      "\n",
      "  This could be a false alarm, with some parameters getting used by language bindings but\n",
      "  then being mistakenly passed down to XGBoost core, or some parameter actually being used\n",
      "  but getting flagged wrongly here. Please open an issue if you find any such cases.\n",
      "\n",
      "\n",
      "[16:55:15] WARNING: C:/Users/Administrator/workspace/xgboost-win64_release_1.5.1/src/learner.cc:1115: Starting in XGBoost 1.3.0, the default evaluation metric used with the objective 'binary:logistic' was changed from 'error' to 'logloss'. Explicitly set eval_metric if you'd like to restore the old behavior.\n",
      "[16:55:15] WARNING: C:/Users/Administrator/workspace/xgboost-win64_release_1.5.1/src/learner.cc:576: \n",
      "Parameters: { \"colsample_bylevel\", \"colsample_bynode\", \"colsample_bytree\", \"gamma\", \"interaction_constraints\", \"max_delta_step\", \"max_depth\", \"min_child_weight\", \"monotone_constraints\", \"num_parallel_tree\", \"predictor\", \"subsample\", \"tree_method\" } might not be used.\n",
      "\n",
      "  This could be a false alarm, with some parameters getting used by language bindings but\n",
      "  then being mistakenly passed down to XGBoost core, or some parameter actually being used\n",
      "  but getting flagged wrongly here. Please open an issue if you find any such cases.\n",
      "\n",
      "\n",
      "[16:55:15] WARNING: C:/Users/Administrator/workspace/xgboost-win64_release_1.5.1/src/learner.cc:1115: Starting in XGBoost 1.3.0, the default evaluation metric used with the objective 'binary:logistic' was changed from 'error' to 'logloss'. Explicitly set eval_metric if you'd like to restore the old behavior.\n",
      "[16:55:15] WARNING: C:/Users/Administrator/workspace/xgboost-win64_release_1.5.1/src/learner.cc:576: \n",
      "Parameters: { \"colsample_bylevel\", \"colsample_bynode\", \"colsample_bytree\", \"gamma\", \"interaction_constraints\", \"max_delta_step\", \"max_depth\", \"min_child_weight\", \"monotone_constraints\", \"num_parallel_tree\", \"predictor\", \"subsample\", \"tree_method\" } might not be used.\n",
      "\n",
      "  This could be a false alarm, with some parameters getting used by language bindings but\n",
      "  then being mistakenly passed down to XGBoost core, or some parameter actually being used\n",
      "  but getting flagged wrongly here. Please open an issue if you find any such cases.\n",
      "\n",
      "\n",
      "[16:55:15] WARNING: C:/Users/Administrator/workspace/xgboost-win64_release_1.5.1/src/learner.cc:1115: Starting in XGBoost 1.3.0, the default evaluation metric used with the objective 'binary:logistic' was changed from 'error' to 'logloss'. Explicitly set eval_metric if you'd like to restore the old behavior.\n",
      "[16:55:15] WARNING: C:/Users/Administrator/workspace/xgboost-win64_release_1.5.1/src/learner.cc:576: \n",
      "Parameters: { \"colsample_bylevel\", \"colsample_bynode\", \"colsample_bytree\", \"gamma\", \"interaction_constraints\", \"max_delta_step\", \"max_depth\", \"min_child_weight\", \"monotone_constraints\", \"num_parallel_tree\", \"predictor\", \"subsample\", \"tree_method\" } might not be used.\n",
      "\n",
      "  This could be a false alarm, with some parameters getting used by language bindings but\n",
      "  then being mistakenly passed down to XGBoost core, or some parameter actually being used\n",
      "  but getting flagged wrongly here. Please open an issue if you find any such cases.\n",
      "\n",
      "\n",
      "[16:55:15] WARNING: C:/Users/Administrator/workspace/xgboost-win64_release_1.5.1/src/learner.cc:1115: Starting in XGBoost 1.3.0, the default evaluation metric used with the objective 'binary:logistic' was changed from 'error' to 'logloss'. Explicitly set eval_metric if you'd like to restore the old behavior.\n",
      "[16:55:15] WARNING: C:/Users/Administrator/workspace/xgboost-win64_release_1.5.1/src/learner.cc:576: \n",
      "Parameters: { \"colsample_bylevel\", \"colsample_bynode\", \"colsample_bytree\", \"gamma\", \"interaction_constraints\", \"max_delta_step\", \"max_depth\", \"min_child_weight\", \"monotone_constraints\", \"num_parallel_tree\", \"predictor\", \"subsample\", \"tree_method\" } might not be used.\n",
      "\n",
      "  This could be a false alarm, with some parameters getting used by language bindings but\n",
      "  then being mistakenly passed down to XGBoost core, or some parameter actually being used\n",
      "  but getting flagged wrongly here. Please open an issue if you find any such cases.\n",
      "\n",
      "\n",
      "[16:55:15] WARNING: C:/Users/Administrator/workspace/xgboost-win64_release_1.5.1/src/learner.cc:1115: Starting in XGBoost 1.3.0, the default evaluation metric used with the objective 'binary:logistic' was changed from 'error' to 'logloss'. Explicitly set eval_metric if you'd like to restore the old behavior.\n",
      "[16:55:16] WARNING: C:/Users/Administrator/workspace/xgboost-win64_release_1.5.1/src/learner.cc:576: \n",
      "Parameters: { \"colsample_bylevel\", \"colsample_bynode\", \"colsample_bytree\", \"gamma\", \"interaction_constraints\", \"max_delta_step\", \"max_depth\", \"min_child_weight\", \"monotone_constraints\", \"num_parallel_tree\", \"predictor\", \"subsample\", \"tree_method\" } might not be used.\n",
      "\n",
      "  This could be a false alarm, with some parameters getting used by language bindings but\n",
      "  then being mistakenly passed down to XGBoost core, or some parameter actually being used\n",
      "  but getting flagged wrongly here. Please open an issue if you find any such cases.\n",
      "\n",
      "\n",
      "[16:55:16] WARNING: C:/Users/Administrator/workspace/xgboost-win64_release_1.5.1/src/learner.cc:1115: Starting in XGBoost 1.3.0, the default evaluation metric used with the objective 'binary:logistic' was changed from 'error' to 'logloss'. Explicitly set eval_metric if you'd like to restore the old behavior.\n",
      "[16:55:16] WARNING: C:/Users/Administrator/workspace/xgboost-win64_release_1.5.1/src/learner.cc:576: \n",
      "Parameters: { \"colsample_bylevel\", \"colsample_bynode\", \"colsample_bytree\", \"gamma\", \"interaction_constraints\", \"max_delta_step\", \"max_depth\", \"min_child_weight\", \"monotone_constraints\", \"num_parallel_tree\", \"predictor\", \"subsample\", \"tree_method\" } might not be used.\n",
      "\n",
      "  This could be a false alarm, with some parameters getting used by language bindings but\n",
      "  then being mistakenly passed down to XGBoost core, or some parameter actually being used\n",
      "  but getting flagged wrongly here. Please open an issue if you find any such cases.\n",
      "\n",
      "\n",
      "[16:55:16] WARNING: C:/Users/Administrator/workspace/xgboost-win64_release_1.5.1/src/learner.cc:1115: Starting in XGBoost 1.3.0, the default evaluation metric used with the objective 'binary:logistic' was changed from 'error' to 'logloss'. Explicitly set eval_metric if you'd like to restore the old behavior.\n",
      "[16:55:16] WARNING: C:/Users/Administrator/workspace/xgboost-win64_release_1.5.1/src/learner.cc:576: \n",
      "Parameters: { \"colsample_bylevel\", \"colsample_bynode\", \"colsample_bytree\", \"gamma\", \"interaction_constraints\", \"max_delta_step\", \"max_depth\", \"min_child_weight\", \"monotone_constraints\", \"num_parallel_tree\", \"predictor\", \"subsample\", \"tree_method\" } might not be used.\n",
      "\n",
      "  This could be a false alarm, with some parameters getting used by language bindings but\n",
      "  then being mistakenly passed down to XGBoost core, or some parameter actually being used\n",
      "  but getting flagged wrongly here. Please open an issue if you find any such cases.\n",
      "\n",
      "\n",
      "[16:55:16] WARNING: C:/Users/Administrator/workspace/xgboost-win64_release_1.5.1/src/learner.cc:1115: Starting in XGBoost 1.3.0, the default evaluation metric used with the objective 'binary:logistic' was changed from 'error' to 'logloss'. Explicitly set eval_metric if you'd like to restore the old behavior.\n",
      "[16:55:16] WARNING: C:/Users/Administrator/workspace/xgboost-win64_release_1.5.1/src/learner.cc:576: \n",
      "Parameters: { \"colsample_bylevel\", \"colsample_bynode\", \"colsample_bytree\", \"gamma\", \"interaction_constraints\", \"max_delta_step\", \"max_depth\", \"min_child_weight\", \"monotone_constraints\", \"num_parallel_tree\", \"predictor\", \"subsample\", \"tree_method\" } might not be used.\n",
      "\n",
      "  This could be a false alarm, with some parameters getting used by language bindings but\n",
      "  then being mistakenly passed down to XGBoost core, or some parameter actually being used\n",
      "  but getting flagged wrongly here. Please open an issue if you find any such cases.\n",
      "\n",
      "\n",
      "[16:55:16] WARNING: C:/Users/Administrator/workspace/xgboost-win64_release_1.5.1/src/learner.cc:1115: Starting in XGBoost 1.3.0, the default evaluation metric used with the objective 'binary:logistic' was changed from 'error' to 'logloss'. Explicitly set eval_metric if you'd like to restore the old behavior.\n",
      "[16:55:16] WARNING: C:/Users/Administrator/workspace/xgboost-win64_release_1.5.1/src/learner.cc:576: \n",
      "Parameters: { \"colsample_bylevel\", \"colsample_bynode\", \"colsample_bytree\", \"gamma\", \"interaction_constraints\", \"max_delta_step\", \"max_depth\", \"min_child_weight\", \"monotone_constraints\", \"num_parallel_tree\", \"predictor\", \"subsample\", \"tree_method\" } might not be used.\n",
      "\n",
      "  This could be a false alarm, with some parameters getting used by language bindings but\n",
      "  then being mistakenly passed down to XGBoost core, or some parameter actually being used\n",
      "  but getting flagged wrongly here. Please open an issue if you find any such cases.\n",
      "\n",
      "\n",
      "[16:55:16] WARNING: C:/Users/Administrator/workspace/xgboost-win64_release_1.5.1/src/learner.cc:1115: Starting in XGBoost 1.3.0, the default evaluation metric used with the objective 'binary:logistic' was changed from 'error' to 'logloss'. Explicitly set eval_metric if you'd like to restore the old behavior.\n",
      "[16:55:16] WARNING: C:/Users/Administrator/workspace/xgboost-win64_release_1.5.1/src/learner.cc:576: \n",
      "Parameters: { \"colsample_bylevel\", \"colsample_bynode\", \"colsample_bytree\", \"gamma\", \"interaction_constraints\", \"max_delta_step\", \"max_depth\", \"min_child_weight\", \"monotone_constraints\", \"num_parallel_tree\", \"predictor\", \"subsample\", \"tree_method\" } might not be used.\n",
      "\n",
      "  This could be a false alarm, with some parameters getting used by language bindings but\n",
      "  then being mistakenly passed down to XGBoost core, or some parameter actually being used\n",
      "  but getting flagged wrongly here. Please open an issue if you find any such cases.\n",
      "\n",
      "\n",
      "[16:55:16] WARNING: C:/Users/Administrator/workspace/xgboost-win64_release_1.5.1/src/learner.cc:1115: Starting in XGBoost 1.3.0, the default evaluation metric used with the objective 'binary:logistic' was changed from 'error' to 'logloss'. Explicitly set eval_metric if you'd like to restore the old behavior.\n",
      "[16:55:17] WARNING: C:/Users/Administrator/workspace/xgboost-win64_release_1.5.1/src/learner.cc:576: \n",
      "Parameters: { \"colsample_bylevel\", \"colsample_bynode\", \"colsample_bytree\", \"gamma\", \"interaction_constraints\", \"max_delta_step\", \"max_depth\", \"min_child_weight\", \"monotone_constraints\", \"num_parallel_tree\", \"predictor\", \"subsample\", \"tree_method\" } might not be used.\n",
      "\n",
      "  This could be a false alarm, with some parameters getting used by language bindings but\n",
      "  then being mistakenly passed down to XGBoost core, or some parameter actually being used\n",
      "  but getting flagged wrongly here. Please open an issue if you find any such cases.\n",
      "\n",
      "\n",
      "[16:55:17] WARNING: C:/Users/Administrator/workspace/xgboost-win64_release_1.5.1/src/learner.cc:1115: Starting in XGBoost 1.3.0, the default evaluation metric used with the objective 'binary:logistic' was changed from 'error' to 'logloss'. Explicitly set eval_metric if you'd like to restore the old behavior.\n",
      "[16:55:17] WARNING: C:/Users/Administrator/workspace/xgboost-win64_release_1.5.1/src/learner.cc:576: \n",
      "Parameters: { \"colsample_bylevel\", \"colsample_bynode\", \"colsample_bytree\", \"gamma\", \"interaction_constraints\", \"max_delta_step\", \"max_depth\", \"min_child_weight\", \"monotone_constraints\", \"num_parallel_tree\", \"predictor\", \"subsample\", \"tree_method\" } might not be used.\n",
      "\n",
      "  This could be a false alarm, with some parameters getting used by language bindings but\n",
      "  then being mistakenly passed down to XGBoost core, or some parameter actually being used\n",
      "  but getting flagged wrongly here. Please open an issue if you find any such cases.\n",
      "\n",
      "\n",
      "[16:55:17] WARNING: C:/Users/Administrator/workspace/xgboost-win64_release_1.5.1/src/learner.cc:1115: Starting in XGBoost 1.3.0, the default evaluation metric used with the objective 'binary:logistic' was changed from 'error' to 'logloss'. Explicitly set eval_metric if you'd like to restore the old behavior.\n",
      "[16:55:17] WARNING: C:/Users/Administrator/workspace/xgboost-win64_release_1.5.1/src/learner.cc:576: \n",
      "Parameters: { \"colsample_bylevel\", \"colsample_bynode\", \"colsample_bytree\", \"gamma\", \"interaction_constraints\", \"max_delta_step\", \"max_depth\", \"min_child_weight\", \"monotone_constraints\", \"num_parallel_tree\", \"predictor\", \"subsample\", \"tree_method\" } might not be used.\n",
      "\n",
      "  This could be a false alarm, with some parameters getting used by language bindings but\n",
      "  then being mistakenly passed down to XGBoost core, or some parameter actually being used\n",
      "  but getting flagged wrongly here. Please open an issue if you find any such cases.\n",
      "\n",
      "\n",
      "[16:55:17] WARNING: C:/Users/Administrator/workspace/xgboost-win64_release_1.5.1/src/learner.cc:1115: Starting in XGBoost 1.3.0, the default evaluation metric used with the objective 'binary:logistic' was changed from 'error' to 'logloss'. Explicitly set eval_metric if you'd like to restore the old behavior.\n",
      "[16:55:17] WARNING: C:/Users/Administrator/workspace/xgboost-win64_release_1.5.1/src/learner.cc:576: \n",
      "Parameters: { \"colsample_bylevel\", \"colsample_bynode\", \"colsample_bytree\", \"gamma\", \"interaction_constraints\", \"max_delta_step\", \"max_depth\", \"min_child_weight\", \"monotone_constraints\", \"num_parallel_tree\", \"predictor\", \"subsample\", \"tree_method\" } might not be used.\n",
      "\n",
      "  This could be a false alarm, with some parameters getting used by language bindings but\n",
      "  then being mistakenly passed down to XGBoost core, or some parameter actually being used\n",
      "  but getting flagged wrongly here. Please open an issue if you find any such cases.\n",
      "\n",
      "\n",
      "[16:55:17] WARNING: C:/Users/Administrator/workspace/xgboost-win64_release_1.5.1/src/learner.cc:1115: Starting in XGBoost 1.3.0, the default evaluation metric used with the objective 'binary:logistic' was changed from 'error' to 'logloss'. Explicitly set eval_metric if you'd like to restore the old behavior.\n",
      "[16:55:17] WARNING: C:/Users/Administrator/workspace/xgboost-win64_release_1.5.1/src/learner.cc:576: \n",
      "Parameters: { \"colsample_bylevel\", \"colsample_bynode\", \"colsample_bytree\", \"gamma\", \"interaction_constraints\", \"max_delta_step\", \"max_depth\", \"min_child_weight\", \"monotone_constraints\", \"num_parallel_tree\", \"predictor\", \"subsample\", \"tree_method\" } might not be used.\n",
      "\n",
      "  This could be a false alarm, with some parameters getting used by language bindings but\n",
      "  then being mistakenly passed down to XGBoost core, or some parameter actually being used\n",
      "  but getting flagged wrongly here. Please open an issue if you find any such cases.\n",
      "\n",
      "\n",
      "[16:55:17] WARNING: C:/Users/Administrator/workspace/xgboost-win64_release_1.5.1/src/learner.cc:1115: Starting in XGBoost 1.3.0, the default evaluation metric used with the objective 'binary:logistic' was changed from 'error' to 'logloss'. Explicitly set eval_metric if you'd like to restore the old behavior.\n",
      "[16:55:17] WARNING: C:/Users/Administrator/workspace/xgboost-win64_release_1.5.1/src/learner.cc:576: \n",
      "Parameters: { \"colsample_bylevel\", \"colsample_bynode\", \"colsample_bytree\", \"gamma\", \"interaction_constraints\", \"max_delta_step\", \"max_depth\", \"min_child_weight\", \"monotone_constraints\", \"num_parallel_tree\", \"predictor\", \"subsample\", \"tree_method\" } might not be used.\n",
      "\n",
      "  This could be a false alarm, with some parameters getting used by language bindings but\n",
      "  then being mistakenly passed down to XGBoost core, or some parameter actually being used\n",
      "  but getting flagged wrongly here. Please open an issue if you find any such cases.\n",
      "\n",
      "\n",
      "[16:55:17] WARNING: C:/Users/Administrator/workspace/xgboost-win64_release_1.5.1/src/learner.cc:1115: Starting in XGBoost 1.3.0, the default evaluation metric used with the objective 'binary:logistic' was changed from 'error' to 'logloss'. Explicitly set eval_metric if you'd like to restore the old behavior.\n",
      "[16:55:18] WARNING: C:/Users/Administrator/workspace/xgboost-win64_release_1.5.1/src/learner.cc:576: \n",
      "Parameters: { \"colsample_bylevel\", \"colsample_bynode\", \"colsample_bytree\", \"gamma\", \"interaction_constraints\", \"max_delta_step\", \"max_depth\", \"min_child_weight\", \"monotone_constraints\", \"num_parallel_tree\", \"predictor\", \"subsample\", \"tree_method\" } might not be used.\n",
      "\n",
      "  This could be a false alarm, with some parameters getting used by language bindings but\n",
      "  then being mistakenly passed down to XGBoost core, or some parameter actually being used\n",
      "  but getting flagged wrongly here. Please open an issue if you find any such cases.\n",
      "\n",
      "\n",
      "[16:55:18] WARNING: C:/Users/Administrator/workspace/xgboost-win64_release_1.5.1/src/learner.cc:1115: Starting in XGBoost 1.3.0, the default evaluation metric used with the objective 'binary:logistic' was changed from 'error' to 'logloss'. Explicitly set eval_metric if you'd like to restore the old behavior.\n",
      "[16:55:18] WARNING: C:/Users/Administrator/workspace/xgboost-win64_release_1.5.1/src/learner.cc:576: \n",
      "Parameters: { \"colsample_bylevel\", \"colsample_bynode\", \"colsample_bytree\", \"gamma\", \"interaction_constraints\", \"max_delta_step\", \"max_depth\", \"min_child_weight\", \"monotone_constraints\", \"num_parallel_tree\", \"predictor\", \"subsample\", \"tree_method\" } might not be used.\n",
      "\n",
      "  This could be a false alarm, with some parameters getting used by language bindings but\n",
      "  then being mistakenly passed down to XGBoost core, or some parameter actually being used\n",
      "  but getting flagged wrongly here. Please open an issue if you find any such cases.\n",
      "\n",
      "\n",
      "[16:55:18] WARNING: C:/Users/Administrator/workspace/xgboost-win64_release_1.5.1/src/learner.cc:1115: Starting in XGBoost 1.3.0, the default evaluation metric used with the objective 'binary:logistic' was changed from 'error' to 'logloss'. Explicitly set eval_metric if you'd like to restore the old behavior.\n",
      "[16:55:18] WARNING: C:/Users/Administrator/workspace/xgboost-win64_release_1.5.1/src/learner.cc:576: \n",
      "Parameters: { \"colsample_bylevel\", \"colsample_bynode\", \"colsample_bytree\", \"gamma\", \"interaction_constraints\", \"max_delta_step\", \"max_depth\", \"min_child_weight\", \"monotone_constraints\", \"num_parallel_tree\", \"predictor\", \"subsample\", \"tree_method\" } might not be used.\n",
      "\n",
      "  This could be a false alarm, with some parameters getting used by language bindings but\n",
      "  then being mistakenly passed down to XGBoost core, or some parameter actually being used\n",
      "  but getting flagged wrongly here. Please open an issue if you find any such cases.\n",
      "\n",
      "\n",
      "[16:55:18] WARNING: C:/Users/Administrator/workspace/xgboost-win64_release_1.5.1/src/learner.cc:1115: Starting in XGBoost 1.3.0, the default evaluation metric used with the objective 'binary:logistic' was changed from 'error' to 'logloss'. Explicitly set eval_metric if you'd like to restore the old behavior.\n",
      "[16:55:18] WARNING: C:/Users/Administrator/workspace/xgboost-win64_release_1.5.1/src/learner.cc:576: \n",
      "Parameters: { \"colsample_bylevel\", \"colsample_bynode\", \"colsample_bytree\", \"gamma\", \"interaction_constraints\", \"max_delta_step\", \"max_depth\", \"min_child_weight\", \"monotone_constraints\", \"num_parallel_tree\", \"predictor\", \"subsample\", \"tree_method\" } might not be used.\n",
      "\n",
      "  This could be a false alarm, with some parameters getting used by language bindings but\n",
      "  then being mistakenly passed down to XGBoost core, or some parameter actually being used\n",
      "  but getting flagged wrongly here. Please open an issue if you find any such cases.\n",
      "\n",
      "\n",
      "[16:55:18] WARNING: C:/Users/Administrator/workspace/xgboost-win64_release_1.5.1/src/learner.cc:1115: Starting in XGBoost 1.3.0, the default evaluation metric used with the objective 'binary:logistic' was changed from 'error' to 'logloss'. Explicitly set eval_metric if you'd like to restore the old behavior.\n",
      "[16:55:18] WARNING: C:/Users/Administrator/workspace/xgboost-win64_release_1.5.1/src/learner.cc:576: \n",
      "Parameters: { \"colsample_bylevel\", \"colsample_bynode\", \"colsample_bytree\", \"gamma\", \"interaction_constraints\", \"max_delta_step\", \"max_depth\", \"min_child_weight\", \"monotone_constraints\", \"num_parallel_tree\", \"predictor\", \"subsample\", \"tree_method\" } might not be used.\n",
      "\n",
      "  This could be a false alarm, with some parameters getting used by language bindings but\n",
      "  then being mistakenly passed down to XGBoost core, or some parameter actually being used\n",
      "  but getting flagged wrongly here. Please open an issue if you find any such cases.\n",
      "\n",
      "\n",
      "[16:55:18] WARNING: C:/Users/Administrator/workspace/xgboost-win64_release_1.5.1/src/learner.cc:1115: Starting in XGBoost 1.3.0, the default evaluation metric used with the objective 'binary:logistic' was changed from 'error' to 'logloss'. Explicitly set eval_metric if you'd like to restore the old behavior.\n",
      "[16:55:19] WARNING: C:/Users/Administrator/workspace/xgboost-win64_release_1.5.1/src/learner.cc:576: \n",
      "Parameters: { \"colsample_bylevel\", \"colsample_bynode\", \"colsample_bytree\", \"gamma\", \"interaction_constraints\", \"max_delta_step\", \"max_depth\", \"min_child_weight\", \"monotone_constraints\", \"num_parallel_tree\", \"predictor\", \"subsample\", \"tree_method\" } might not be used.\n",
      "\n",
      "  This could be a false alarm, with some parameters getting used by language bindings but\n",
      "  then being mistakenly passed down to XGBoost core, or some parameter actually being used\n",
      "  but getting flagged wrongly here. Please open an issue if you find any such cases.\n",
      "\n",
      "\n",
      "[16:55:19] WARNING: C:/Users/Administrator/workspace/xgboost-win64_release_1.5.1/src/learner.cc:1115: Starting in XGBoost 1.3.0, the default evaluation metric used with the objective 'binary:logistic' was changed from 'error' to 'logloss'. Explicitly set eval_metric if you'd like to restore the old behavior.\n",
      "[16:55:19] WARNING: C:/Users/Administrator/workspace/xgboost-win64_release_1.5.1/src/learner.cc:576: \n",
      "Parameters: { \"colsample_bylevel\", \"colsample_bynode\", \"colsample_bytree\", \"gamma\", \"interaction_constraints\", \"max_delta_step\", \"max_depth\", \"min_child_weight\", \"monotone_constraints\", \"num_parallel_tree\", \"predictor\", \"subsample\", \"tree_method\" } might not be used.\n",
      "\n",
      "  This could be a false alarm, with some parameters getting used by language bindings but\n",
      "  then being mistakenly passed down to XGBoost core, or some parameter actually being used\n",
      "  but getting flagged wrongly here. Please open an issue if you find any such cases.\n",
      "\n",
      "\n",
      "[16:55:19] WARNING: C:/Users/Administrator/workspace/xgboost-win64_release_1.5.1/src/learner.cc:1115: Starting in XGBoost 1.3.0, the default evaluation metric used with the objective 'binary:logistic' was changed from 'error' to 'logloss'. Explicitly set eval_metric if you'd like to restore the old behavior.\n",
      "[16:55:19] WARNING: C:/Users/Administrator/workspace/xgboost-win64_release_1.5.1/src/learner.cc:576: \n",
      "Parameters: { \"colsample_bylevel\", \"colsample_bynode\", \"colsample_bytree\", \"gamma\", \"interaction_constraints\", \"max_delta_step\", \"max_depth\", \"min_child_weight\", \"monotone_constraints\", \"num_parallel_tree\", \"predictor\", \"subsample\", \"tree_method\" } might not be used.\n",
      "\n",
      "  This could be a false alarm, with some parameters getting used by language bindings but\n",
      "  then being mistakenly passed down to XGBoost core, or some parameter actually being used\n",
      "  but getting flagged wrongly here. Please open an issue if you find any such cases.\n",
      "\n",
      "\n",
      "[16:55:19] WARNING: C:/Users/Administrator/workspace/xgboost-win64_release_1.5.1/src/learner.cc:1115: Starting in XGBoost 1.3.0, the default evaluation metric used with the objective 'binary:logistic' was changed from 'error' to 'logloss'. Explicitly set eval_metric if you'd like to restore the old behavior.\n",
      "[16:55:19] WARNING: C:/Users/Administrator/workspace/xgboost-win64_release_1.5.1/src/learner.cc:576: \n",
      "Parameters: { \"colsample_bylevel\", \"colsample_bynode\", \"colsample_bytree\", \"gamma\", \"interaction_constraints\", \"max_delta_step\", \"max_depth\", \"min_child_weight\", \"monotone_constraints\", \"num_parallel_tree\", \"predictor\", \"subsample\", \"tree_method\" } might not be used.\n",
      "\n",
      "  This could be a false alarm, with some parameters getting used by language bindings but\n",
      "  then being mistakenly passed down to XGBoost core, or some parameter actually being used\n",
      "  but getting flagged wrongly here. Please open an issue if you find any such cases.\n",
      "\n",
      "\n",
      "[16:55:19] WARNING: C:/Users/Administrator/workspace/xgboost-win64_release_1.5.1/src/learner.cc:1115: Starting in XGBoost 1.3.0, the default evaluation metric used with the objective 'binary:logistic' was changed from 'error' to 'logloss'. Explicitly set eval_metric if you'd like to restore the old behavior.\n",
      "[16:55:19] WARNING: C:/Users/Administrator/workspace/xgboost-win64_release_1.5.1/src/learner.cc:576: \n",
      "Parameters: { \"colsample_bylevel\", \"colsample_bynode\", \"colsample_bytree\", \"gamma\", \"interaction_constraints\", \"max_delta_step\", \"max_depth\", \"min_child_weight\", \"monotone_constraints\", \"num_parallel_tree\", \"predictor\", \"subsample\", \"tree_method\" } might not be used.\n",
      "\n",
      "  This could be a false alarm, with some parameters getting used by language bindings but\n",
      "  then being mistakenly passed down to XGBoost core, or some parameter actually being used\n",
      "  but getting flagged wrongly here. Please open an issue if you find any such cases.\n",
      "\n",
      "\n",
      "[16:55:19] WARNING: C:/Users/Administrator/workspace/xgboost-win64_release_1.5.1/src/learner.cc:1115: Starting in XGBoost 1.3.0, the default evaluation metric used with the objective 'binary:logistic' was changed from 'error' to 'logloss'. Explicitly set eval_metric if you'd like to restore the old behavior.\n",
      "[16:55:19] WARNING: C:/Users/Administrator/workspace/xgboost-win64_release_1.5.1/src/learner.cc:576: \n",
      "Parameters: { \"colsample_bylevel\", \"colsample_bynode\", \"colsample_bytree\", \"gamma\", \"interaction_constraints\", \"max_delta_step\", \"max_depth\", \"min_child_weight\", \"monotone_constraints\", \"num_parallel_tree\", \"predictor\", \"subsample\", \"tree_method\" } might not be used.\n",
      "\n",
      "  This could be a false alarm, with some parameters getting used by language bindings but\n",
      "  then being mistakenly passed down to XGBoost core, or some parameter actually being used\n",
      "  but getting flagged wrongly here. Please open an issue if you find any such cases.\n",
      "\n",
      "\n",
      "[16:55:19] WARNING: C:/Users/Administrator/workspace/xgboost-win64_release_1.5.1/src/learner.cc:1115: Starting in XGBoost 1.3.0, the default evaluation metric used with the objective 'binary:logistic' was changed from 'error' to 'logloss'. Explicitly set eval_metric if you'd like to restore the old behavior.\n",
      "[16:55:20] WARNING: C:/Users/Administrator/workspace/xgboost-win64_release_1.5.1/src/learner.cc:576: \n",
      "Parameters: { \"colsample_bylevel\", \"colsample_bynode\", \"colsample_bytree\", \"gamma\", \"interaction_constraints\", \"max_delta_step\", \"max_depth\", \"min_child_weight\", \"monotone_constraints\", \"num_parallel_tree\", \"predictor\", \"subsample\", \"tree_method\" } might not be used.\n",
      "\n",
      "  This could be a false alarm, with some parameters getting used by language bindings but\n",
      "  then being mistakenly passed down to XGBoost core, or some parameter actually being used\n",
      "  but getting flagged wrongly here. Please open an issue if you find any such cases.\n",
      "\n",
      "\n",
      "[16:55:20] WARNING: C:/Users/Administrator/workspace/xgboost-win64_release_1.5.1/src/learner.cc:1115: Starting in XGBoost 1.3.0, the default evaluation metric used with the objective 'binary:logistic' was changed from 'error' to 'logloss'. Explicitly set eval_metric if you'd like to restore the old behavior.\n",
      "[16:55:20] WARNING: C:/Users/Administrator/workspace/xgboost-win64_release_1.5.1/src/learner.cc:576: \n",
      "Parameters: { \"colsample_bylevel\", \"colsample_bynode\", \"colsample_bytree\", \"gamma\", \"interaction_constraints\", \"max_delta_step\", \"max_depth\", \"min_child_weight\", \"monotone_constraints\", \"num_parallel_tree\", \"predictor\", \"subsample\", \"tree_method\" } might not be used.\n",
      "\n",
      "  This could be a false alarm, with some parameters getting used by language bindings but\n",
      "  then being mistakenly passed down to XGBoost core, or some parameter actually being used\n",
      "  but getting flagged wrongly here. Please open an issue if you find any such cases.\n",
      "\n",
      "\n",
      "[16:55:20] WARNING: C:/Users/Administrator/workspace/xgboost-win64_release_1.5.1/src/learner.cc:1115: Starting in XGBoost 1.3.0, the default evaluation metric used with the objective 'binary:logistic' was changed from 'error' to 'logloss'. Explicitly set eval_metric if you'd like to restore the old behavior.\n",
      "[16:55:20] WARNING: C:/Users/Administrator/workspace/xgboost-win64_release_1.5.1/src/learner.cc:576: \n",
      "Parameters: { \"colsample_bylevel\", \"colsample_bynode\", \"colsample_bytree\", \"gamma\", \"interaction_constraints\", \"max_delta_step\", \"max_depth\", \"min_child_weight\", \"monotone_constraints\", \"num_parallel_tree\", \"predictor\", \"subsample\", \"tree_method\" } might not be used.\n",
      "\n",
      "  This could be a false alarm, with some parameters getting used by language bindings but\n",
      "  then being mistakenly passed down to XGBoost core, or some parameter actually being used\n",
      "  but getting flagged wrongly here. Please open an issue if you find any such cases.\n",
      "\n",
      "\n",
      "[16:55:20] WARNING: C:/Users/Administrator/workspace/xgboost-win64_release_1.5.1/src/learner.cc:1115: Starting in XGBoost 1.3.0, the default evaluation metric used with the objective 'binary:logistic' was changed from 'error' to 'logloss'. Explicitly set eval_metric if you'd like to restore the old behavior.\n",
      "[16:55:20] WARNING: C:/Users/Administrator/workspace/xgboost-win64_release_1.5.1/src/learner.cc:576: \n",
      "Parameters: { \"colsample_bylevel\", \"colsample_bynode\", \"colsample_bytree\", \"gamma\", \"interaction_constraints\", \"max_delta_step\", \"max_depth\", \"min_child_weight\", \"monotone_constraints\", \"num_parallel_tree\", \"predictor\", \"subsample\", \"tree_method\" } might not be used.\n",
      "\n",
      "  This could be a false alarm, with some parameters getting used by language bindings but\n",
      "  then being mistakenly passed down to XGBoost core, or some parameter actually being used\n",
      "  but getting flagged wrongly here. Please open an issue if you find any such cases.\n",
      "\n",
      "\n",
      "[16:55:20] WARNING: C:/Users/Administrator/workspace/xgboost-win64_release_1.5.1/src/learner.cc:1115: Starting in XGBoost 1.3.0, the default evaluation metric used with the objective 'binary:logistic' was changed from 'error' to 'logloss'. Explicitly set eval_metric if you'd like to restore the old behavior.\n",
      "[16:55:20] WARNING: C:/Users/Administrator/workspace/xgboost-win64_release_1.5.1/src/learner.cc:576: \n",
      "Parameters: { \"colsample_bylevel\", \"colsample_bynode\", \"colsample_bytree\", \"gamma\", \"interaction_constraints\", \"max_delta_step\", \"max_depth\", \"min_child_weight\", \"monotone_constraints\", \"num_parallel_tree\", \"predictor\", \"subsample\", \"tree_method\" } might not be used.\n",
      "\n",
      "  This could be a false alarm, with some parameters getting used by language bindings but\n",
      "  then being mistakenly passed down to XGBoost core, or some parameter actually being used\n",
      "  but getting flagged wrongly here. Please open an issue if you find any such cases.\n",
      "\n",
      "\n",
      "[16:55:20] WARNING: C:/Users/Administrator/workspace/xgboost-win64_release_1.5.1/src/learner.cc:1115: Starting in XGBoost 1.3.0, the default evaluation metric used with the objective 'binary:logistic' was changed from 'error' to 'logloss'. Explicitly set eval_metric if you'd like to restore the old behavior.\n",
      "[16:55:21] WARNING: C:/Users/Administrator/workspace/xgboost-win64_release_1.5.1/src/learner.cc:576: \n",
      "Parameters: { \"colsample_bylevel\", \"colsample_bynode\", \"colsample_bytree\", \"gamma\", \"interaction_constraints\", \"max_delta_step\", \"max_depth\", \"min_child_weight\", \"monotone_constraints\", \"num_parallel_tree\", \"predictor\", \"subsample\", \"tree_method\" } might not be used.\n",
      "\n",
      "  This could be a false alarm, with some parameters getting used by language bindings but\n",
      "  then being mistakenly passed down to XGBoost core, or some parameter actually being used\n",
      "  but getting flagged wrongly here. Please open an issue if you find any such cases.\n",
      "\n",
      "\n",
      "[16:55:21] WARNING: C:/Users/Administrator/workspace/xgboost-win64_release_1.5.1/src/learner.cc:1115: Starting in XGBoost 1.3.0, the default evaluation metric used with the objective 'binary:logistic' was changed from 'error' to 'logloss'. Explicitly set eval_metric if you'd like to restore the old behavior.\n",
      "[16:55:21] WARNING: C:/Users/Administrator/workspace/xgboost-win64_release_1.5.1/src/learner.cc:1115: Starting in XGBoost 1.3.0, the default evaluation metric used with the objective 'binary:logistic' was changed from 'error' to 'logloss'. Explicitly set eval_metric if you'd like to restore the old behavior.\n"
     ]
    }
   ],
   "source": [
    "grid_tree = GridSearchCV(pipe_tree,param_tree).fit(X_train,y_train)\n",
    "grid_rf = GridSearchCV(pipe_rf,param_rf).fit(X_train,y_train)\n",
    "grid_xgb = GridSearchCV(pipe_xgb,param_XGB).fit(X_train,y_train)"
   ]
  },
  {
   "cell_type": "markdown",
   "metadata": {},
   "source": [
    "### Model Evaluataion With HyperParameters"
   ]
  },
  {
   "cell_type": "code",
   "execution_count": 715,
   "metadata": {},
   "outputs": [],
   "source": [
    "comparison_tuned = pd.DataFrame(columns=[\n",
    "    'Model',\n",
    "    'f1_score_train',\n",
    "    'f1_score_test',\n",
    "    'precision_train',\n",
    "    'precision_test'\n",
    "])"
   ]
  },
  {
   "cell_type": "markdown",
   "metadata": {},
   "source": [
    "## DT with Best Parameter"
   ]
  },
  {
   "cell_type": "code",
   "execution_count": 716,
   "metadata": {},
   "outputs": [
    {
     "data": {
      "text/plain": [
       "{'classifier__criterion': 'entropy',\n",
       " 'classifier__max_depth': 5,\n",
       " 'classifier__max_features': 'auto'}"
      ]
     },
     "execution_count": 716,
     "metadata": {},
     "output_type": "execute_result"
    }
   ],
   "source": [
    "grid_tree.best_params_"
   ]
  },
  {
   "cell_type": "code",
   "execution_count": 717,
   "metadata": {},
   "outputs": [
    {
     "name": "stdout",
     "output_type": "stream",
     "text": [
      "              precision    recall  f1-score   support\n",
      "\n",
      "         0.0       0.55      0.66      0.60     18541\n",
      "         1.0       0.52      0.41      0.46     16662\n",
      "\n",
      "    accuracy                           0.54     35203\n",
      "   macro avg       0.54      0.53      0.53     35203\n",
      "weighted avg       0.54      0.54      0.53     35203\n",
      "\n",
      "              precision    recall  f1-score   support\n",
      "\n",
      "         0.0       0.56      0.66      0.60      6544\n",
      "         1.0       0.50      0.40      0.44      5703\n",
      "\n",
      "    accuracy                           0.54     12247\n",
      "   macro avg       0.53      0.53      0.52     12247\n",
      "weighted avg       0.53      0.54      0.53     12247\n",
      "\n"
     ]
    }
   ],
   "source": [
    "tree_best = grid_tree.best_estimator_\n",
    "\n",
    "y_pred_train_tree = tree_best.predict(X_train)\n",
    "y_pred_test_tree = tree_best.predict(X_test)\n",
    "\n",
    "print(classification_report(y_train, y_pred_train_tree))\n",
    "\n",
    "print(classification_report(y_test, y_pred_test_tree))"
   ]
  },
  {
   "cell_type": "code",
   "execution_count": 722,
   "metadata": {},
   "outputs": [],
   "source": [
    "comparison_tuned.loc[0] = ['tree_tuned',0.54,0.54,0.54,0.53]"
   ]
  },
  {
   "cell_type": "markdown",
   "metadata": {},
   "source": [
    "## RF with best parameters"
   ]
  },
  {
   "cell_type": "code",
   "execution_count": 718,
   "metadata": {},
   "outputs": [
    {
     "data": {
      "text/plain": [
       "{'classifier__criterion': 'entropy',\n",
       " 'classifier__max_depth': 5,\n",
       " 'classifier__max_features': 'sqrt'}"
      ]
     },
     "execution_count": 718,
     "metadata": {},
     "output_type": "execute_result"
    }
   ],
   "source": [
    "grid_rf.best_params_"
   ]
  },
  {
   "cell_type": "code",
   "execution_count": 719,
   "metadata": {},
   "outputs": [
    {
     "name": "stdout",
     "output_type": "stream",
     "text": [
      "              precision    recall  f1-score   support\n",
      "\n",
      "         0.0       0.54      0.90      0.68     18541\n",
      "         1.0       0.57      0.16      0.24     16662\n",
      "\n",
      "    accuracy                           0.55     35203\n",
      "   macro avg       0.56      0.53      0.46     35203\n",
      "weighted avg       0.56      0.55      0.47     35203\n",
      "\n",
      "              precision    recall  f1-score   support\n",
      "\n",
      "         0.0       0.55      0.89      0.68      6544\n",
      "         1.0       0.54      0.15      0.23      5703\n",
      "\n",
      "    accuracy                           0.54     12247\n",
      "   macro avg       0.54      0.52      0.45     12247\n",
      "weighted avg       0.54      0.54      0.47     12247\n",
      "\n"
     ]
    }
   ],
   "source": [
    "rf_best = grid_rf.best_estimator_\n",
    "\n",
    "\n",
    "y_pred_train_rf = rf_best.predict(X_train)\n",
    "y_pred_test_rf = rf_best.predict(X_test)\n",
    "\n",
    "print(classification_report(y_train, y_pred_train_rf))\n",
    "\n",
    "print(classification_report(y_test, y_pred_test_rf))"
   ]
  },
  {
   "cell_type": "code",
   "execution_count": 723,
   "metadata": {},
   "outputs": [],
   "source": [
    "comparison_tuned.loc[1] = ['rf_tuned',0.55,0.54,0.56,0.54]"
   ]
  },
  {
   "cell_type": "markdown",
   "metadata": {},
   "source": [
    "## XBG with best parameters"
   ]
  },
  {
   "cell_type": "code",
   "execution_count": 720,
   "metadata": {},
   "outputs": [
    {
     "data": {
      "text/plain": [
       "{'classifier__booster': 'gbtree',\n",
       " 'classifier__learning_rate': 0.3,\n",
       " 'classifier__max_depth': 5,\n",
       " 'classifier__min_child_weight': 0}"
      ]
     },
     "execution_count": 720,
     "metadata": {},
     "output_type": "execute_result"
    }
   ],
   "source": [
    "grid_xgb.best_params_"
   ]
  },
  {
   "cell_type": "code",
   "execution_count": 721,
   "metadata": {},
   "outputs": [
    {
     "name": "stdout",
     "output_type": "stream",
     "text": [
      "              precision    recall  f1-score   support\n",
      "\n",
      "         0.0       0.62      0.69      0.65     18541\n",
      "         1.0       0.60      0.53      0.56     16662\n",
      "\n",
      "    accuracy                           0.61     35203\n",
      "   macro avg       0.61      0.61      0.61     35203\n",
      "weighted avg       0.61      0.61      0.61     35203\n",
      "\n",
      "              precision    recall  f1-score   support\n",
      "\n",
      "         0.0       0.59      0.65      0.62      6544\n",
      "         1.0       0.54      0.47      0.51      5703\n",
      "\n",
      "    accuracy                           0.57     12247\n",
      "   macro avg       0.56      0.56      0.56     12247\n",
      "weighted avg       0.57      0.57      0.56     12247\n",
      "\n"
     ]
    }
   ],
   "source": [
    "xgb_best = grid_xgb.best_estimator_\n",
    "\n",
    "\n",
    "y_pred_train_xgb = xgb_best.predict(X_train)\n",
    "y_pred_test_xgb = xgb_best.predict(X_test)\n",
    "\n",
    "print(classification_report(y_train, y_pred_train_xgb))\n",
    "\n",
    "print(classification_report(y_test, y_pred_test_xgb))"
   ]
  },
  {
   "cell_type": "code",
   "execution_count": 724,
   "metadata": {},
   "outputs": [],
   "source": [
    "comparison_tuned.loc[2] = ['xgb_tuned',0.61,0.57,0.61,0.56]"
   ]
  },
  {
   "cell_type": "markdown",
   "metadata": {},
   "source": [
    "## Model Comparison With HyperTuning"
   ]
  },
  {
   "cell_type": "code",
   "execution_count": 725,
   "metadata": {},
   "outputs": [],
   "source": [
    "cf_matrix_tree =  confusion_matrix(y_test,y_pred_test_tree)\n",
    "cf_matrix_rf =  confusion_matrix(y_test,y_pred_test_rf)\n",
    "cf_matrix_xgb =  confusion_matrix(y_test,y_pred_test_xgb)\n",
    "\n",
    "#make a list of confusion matrix\n",
    "cf = [cf_matrix_tree,\n",
    "        cf_matrix_rf,\n",
    "        cf_matrix_xgb]\n",
    "\n",
    "\n",
    "comparison_tuned.reset_index(drop=True,inplace=True)"
   ]
  },
  {
   "cell_type": "code",
   "execution_count": 727,
   "metadata": {},
   "outputs": [
    {
     "data": {
      "image/png": "[encoded data removed]",
      "text/plain": [
       "<Figure size 1080x720 with 6 Axes>"
      ]
     },
     "metadata": {
      "needs_background": "light"
     },
     "output_type": "display_data"
    }
   ],
   "source": [
    "#looping for confusion matrix heatmap\n",
    "plt.figure(figsize=(15, 10))\n",
    "for i in range(len(comparison_tuned.Model)):\n",
    "  plt.subplot(2, 2, i+1)\n",
    "  ax = sns.heatmap(cf[i], annot=True, cmap='Blues', fmt='g')\n",
    "  ax.set_xticklabels(['0', '1'])\n",
    "  ax.set_yticklabels(['0', '1'])\n",
    "  plt.title(comparison_tuned.iloc[i, 0])\n",
    "plt.show()"
   ]
  },
  {
   "cell_type": "code",
   "execution_count": 728,
   "metadata": {},
   "outputs": [
    {
     "data": {
      "text/html": [
       "<div>\n",
       "<style scoped>\n",
       "    .dataframe tbody tr th:only-of-type {\n",
       "        vertical-align: middle;\n",
       "    }\n",
       "\n",
       "    .dataframe tbody tr th {\n",
       "        vertical-align: top;\n",
       "    }\n",
       "\n",
       "    .dataframe thead th {\n",
       "        text-align: right;\n",
       "    }\n",
       "</style>\n",
       "<table border=\"1\" class=\"dataframe\">\n",
       "  <thead>\n",
       "    <tr style=\"text-align: right;\">\n",
       "      <th></th>\n",
       "      <th>Model</th>\n",
       "      <th>f1_score_train</th>\n",
       "      <th>f1_score_test</th>\n",
       "      <th>precision_train</th>\n",
       "      <th>precision_test</th>\n",
       "    </tr>\n",
       "  </thead>\n",
       "  <tbody>\n",
       "    <tr>\n",
       "      <th>0</th>\n",
       "      <td>tree_tuned</td>\n",
       "      <td>0.54</td>\n",
       "      <td>0.54</td>\n",
       "      <td>0.54</td>\n",
       "      <td>0.53</td>\n",
       "    </tr>\n",
       "    <tr>\n",
       "      <th>1</th>\n",
       "      <td>rf_tuned</td>\n",
       "      <td>0.55</td>\n",
       "      <td>0.54</td>\n",
       "      <td>0.56</td>\n",
       "      <td>0.54</td>\n",
       "    </tr>\n",
       "    <tr>\n",
       "      <th>2</th>\n",
       "      <td>xgb_tuned</td>\n",
       "      <td>0.61</td>\n",
       "      <td>0.57</td>\n",
       "      <td>0.61</td>\n",
       "      <td>0.56</td>\n",
       "    </tr>\n",
       "  </tbody>\n",
       "</table>\n",
       "</div>"
      ],
      "text/plain": [
       "        Model  f1_score_train  f1_score_test  precision_train  precision_test\n",
       "0  tree_tuned            0.54           0.54             0.54            0.53\n",
       "1    rf_tuned            0.55           0.54             0.56            0.54\n",
       "2   xgb_tuned            0.61           0.57             0.61            0.56"
      ]
     },
     "execution_count": 728,
     "metadata": {},
     "output_type": "execute_result"
    }
   ],
   "source": [
    "comparison_tuned"
   ]
  },
  {
   "cell_type": "markdown",
   "metadata": {},
   "source": [
    "From if we look to comparison_tuned table, we can she how XGBoost do a booster for another model. XGB boost have much better value from any point. So we can say XGB is more better model for this project, not the best, for me in this project the model can more improve than this but it will took time. So for this project i will use XGBoost model."
   ]
  },
  {
   "cell_type": "markdown",
   "metadata": {},
   "source": [
    "Precision is importance for avoid a false positive, model prediction say will purchase but acctually they not purchase. i want to fokus in customer who will purchase, so i must avoid a false negative. XGBoost have a highest prescision with 68% in train and 66% in test."
   ]
  },
  {
   "cell_type": "markdown",
   "metadata": {},
   "source": [
    "### Save pkl file."
   ]
  },
  {
   "cell_type": "code",
   "execution_count": 729,
   "metadata": {},
   "outputs": [],
   "source": [
    "#save file pipeline\n",
    "with open(\"pipe.pkl\", \"wb\") as a:\n",
    "    pickle.dump(xgb_best, a)"
   ]
  },
  {
   "cell_type": "markdown",
   "metadata": {},
   "source": [
    "# CONCLUTIONS"
   ]
  },
  {
   "cell_type": "markdown",
   "metadata": {},
   "source": [
    "From this project we can know, that the most action of customer in e-commerce web is a view and we can say, customer took a long time to take a look a product before they going to purchase it. After looking around, few customers put their goods into the cart.\n",
    "\n",
    "MSI is the most product that customer choose to purchase. Computers is the most category that have a traffic compared to another category. I can say, this e-commerce have a good traffic in computer so they must maintance computer category so it can attract more customer attention.\n",
    "\n",
    "From Modeling, after used 3 model for predicting customer will purchase or not after they put it in cart. XGBoost have a better performance from another model. But the model can still be developed again in order to give better results. Dont worry, we can do it in another time, so we can make a good model for this project."
   ]
  },
  {
   "cell_type": "markdown",
   "metadata": {},
   "source": []
  }
 ],
 "metadata": {
  "kernelspec": {
   "display_name": "Python 3.10.1 64-bit",
   "language": "python",
   "name": "python3"
  },
  "language_info": {
   "codemirror_mode": {
    "name": "ipython",
    "version": 3
   },
   "file_extension": ".py",
   "mimetype": "text/x-python",
   "name": "python",
   "nbconvert_exporter": "python",
   "pygments_lexer": "ipython3",
   "version": "3.10.1"
  },
  "orig_nbformat": 4,
  "vscode": {
   "interpreter": {
    "hash": "a9cff5a362bc38ef45d817ae74b1af54d6a076e3d773891282bce078b815ba34"
   }
  }
 },
 "nbformat": 4,
 "nbformat_minor": 2
}
