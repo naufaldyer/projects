{
 "cells": [
  {
   "cell_type": "code",
   "execution_count": 1,
   "metadata": {},
   "outputs": [],
   "source": [
    "import pandas as pd\n",
    "import numpy as np\n",
    "import os\n",
    "import warnings\n",
    "\n",
    "warnings.filterwarnings(\"ignore\")"
   ]
  },
  {
   "cell_type": "code",
   "execution_count": 2,
   "metadata": {},
   "outputs": [],
   "source": [
    "# Setup google analytics Library\n",
    "from google.analytics.data_v1beta import BetaAnalyticsDataClient\n",
    "from google.analytics.data_v1beta.types import (\n",
    "    DateRange,\n",
    "    Dimension,\n",
    "    Metric,\n",
    "    RunReportRequest,\n",
    "    OrderBy,\n",
    ")"
   ]
  },
  {
   "cell_type": "code",
   "execution_count": 3,
   "metadata": {},
   "outputs": [],
   "source": [
    "os.environ[\"GOOGLE_APPLICATION_CREDENTIALS\"] = (\n",
    "    \"google-analytics-sapasonny-key-file.json\"\n",
    ")\n",
    "property_id = \"446302602\"\n",
    "client = BetaAnalyticsDataClient()"
   ]
  },
  {
   "cell_type": "code",
   "execution_count": 4,
   "metadata": {},
   "outputs": [],
   "source": [
    "# Buat permintaan laporan\n",
    "request = RunReportRequest(\n",
    "    property=f\"properties/{property_id}\",\n",
    "    dimensions=[Dimension(name=\"date\")],\n",
    "    metrics=[Metric(name=\"activeUsers\")],\n",
    "    date_ranges=[DateRange(start_date=\"2020-03-31\", end_date=\"today\")],\n",
    ")"
   ]
  },
  {
   "cell_type": "code",
   "execution_count": 5,
   "metadata": {},
   "outputs": [],
   "source": [
    "# Jalankan permintaan dan ambil hasilnya\n",
    "response = client.run_report(request)"
   ]
  },
  {
   "cell_type": "code",
   "execution_count": 6,
   "metadata": {},
   "outputs": [],
   "source": [
    "data = []\n",
    "for row in response.rows:\n",
    "    data.append({\n",
    "        \"date\" : row.dimension_values[0].value,\n",
    "        \"activeUsers\" : row.metric_values[0].value,\n",
    "    })"
   ]
  },
  {
   "cell_type": "code",
   "execution_count": 7,
   "metadata": {},
   "outputs": [
    {
     "data": {
      "text/plain": [
       "[{'date': '20240617', 'activeUsers': '23'},\n",
       " {'date': '20240701', 'activeUsers': '16'},\n",
       " {'date': '20240704', 'activeUsers': '12'},\n",
       " {'date': '20240618', 'activeUsers': '9'},\n",
       " {'date': '20240620', 'activeUsers': '8'},\n",
       " {'date': '20240625', 'activeUsers': '8'},\n",
       " {'date': '20240702', 'activeUsers': '8'},\n",
       " {'date': '20240619', 'activeUsers': '6'},\n",
       " {'date': '20240624', 'activeUsers': '6'},\n",
       " {'date': '20240621', 'activeUsers': '3'},\n",
       " {'date': '20240616', 'activeUsers': '2'},\n",
       " {'date': '20240626', 'activeUsers': '2'},\n",
       " {'date': '20240627', 'activeUsers': '2'},\n",
       " {'date': '20240703', 'activeUsers': '2'},\n",
       " {'date': '20240623', 'activeUsers': '1'}]"
      ]
     },
     "execution_count": 7,
     "metadata": {},
     "output_type": "execute_result"
    }
   ],
   "source": [
    "data"
   ]
  },
  {
   "cell_type": "code",
   "execution_count": 8,
   "metadata": {},
   "outputs": [],
   "source": [
    "df = pd.DataFrame(data)"
   ]
  },
  {
   "cell_type": "code",
   "execution_count": 23,
   "metadata": {},
   "outputs": [],
   "source": [
    "df[\"dateFormatted\"] = [x[0:4] + \"-\" + x[4:6] + \"-\" + x[6:8] for x in df[\"date\"]]"
   ]
  },
  {
   "cell_type": "code",
   "execution_count": 26,
   "metadata": {},
   "outputs": [
    {
     "data": {
      "text/html": [
       "<div>\n",
       "<style scoped>\n",
       "    .dataframe tbody tr th:only-of-type {\n",
       "        vertical-align: middle;\n",
       "    }\n",
       "\n",
       "    .dataframe tbody tr th {\n",
       "        vertical-align: top;\n",
       "    }\n",
       "\n",
       "    .dataframe thead th {\n",
       "        text-align: right;\n",
       "    }\n",
       "</style>\n",
       "<table border=\"1\" class=\"dataframe\">\n",
       "  <thead>\n",
       "    <tr style=\"text-align: right;\">\n",
       "      <th></th>\n",
       "      <th>date</th>\n",
       "      <th>dateFormatted</th>\n",
       "      <th>activeUsers</th>\n",
       "    </tr>\n",
       "  </thead>\n",
       "  <tbody>\n",
       "    <tr>\n",
       "      <th>10</th>\n",
       "      <td>20240616</td>\n",
       "      <td>2024-06-16</td>\n",
       "      <td>2</td>\n",
       "    </tr>\n",
       "    <tr>\n",
       "      <th>0</th>\n",
       "      <td>20240617</td>\n",
       "      <td>2024-06-17</td>\n",
       "      <td>23</td>\n",
       "    </tr>\n",
       "    <tr>\n",
       "      <th>3</th>\n",
       "      <td>20240618</td>\n",
       "      <td>2024-06-18</td>\n",
       "      <td>9</td>\n",
       "    </tr>\n",
       "    <tr>\n",
       "      <th>7</th>\n",
       "      <td>20240619</td>\n",
       "      <td>2024-06-19</td>\n",
       "      <td>6</td>\n",
       "    </tr>\n",
       "    <tr>\n",
       "      <th>4</th>\n",
       "      <td>20240620</td>\n",
       "      <td>2024-06-20</td>\n",
       "      <td>8</td>\n",
       "    </tr>\n",
       "    <tr>\n",
       "      <th>9</th>\n",
       "      <td>20240621</td>\n",
       "      <td>2024-06-21</td>\n",
       "      <td>3</td>\n",
       "    </tr>\n",
       "    <tr>\n",
       "      <th>14</th>\n",
       "      <td>20240623</td>\n",
       "      <td>2024-06-23</td>\n",
       "      <td>1</td>\n",
       "    </tr>\n",
       "    <tr>\n",
       "      <th>8</th>\n",
       "      <td>20240624</td>\n",
       "      <td>2024-06-24</td>\n",
       "      <td>6</td>\n",
       "    </tr>\n",
       "    <tr>\n",
       "      <th>5</th>\n",
       "      <td>20240625</td>\n",
       "      <td>2024-06-25</td>\n",
       "      <td>8</td>\n",
       "    </tr>\n",
       "    <tr>\n",
       "      <th>11</th>\n",
       "      <td>20240626</td>\n",
       "      <td>2024-06-26</td>\n",
       "      <td>2</td>\n",
       "    </tr>\n",
       "    <tr>\n",
       "      <th>12</th>\n",
       "      <td>20240627</td>\n",
       "      <td>2024-06-27</td>\n",
       "      <td>2</td>\n",
       "    </tr>\n",
       "    <tr>\n",
       "      <th>1</th>\n",
       "      <td>20240701</td>\n",
       "      <td>2024-07-01</td>\n",
       "      <td>16</td>\n",
       "    </tr>\n",
       "    <tr>\n",
       "      <th>6</th>\n",
       "      <td>20240702</td>\n",
       "      <td>2024-07-02</td>\n",
       "      <td>8</td>\n",
       "    </tr>\n",
       "    <tr>\n",
       "      <th>13</th>\n",
       "      <td>20240703</td>\n",
       "      <td>2024-07-03</td>\n",
       "      <td>2</td>\n",
       "    </tr>\n",
       "    <tr>\n",
       "      <th>2</th>\n",
       "      <td>20240704</td>\n",
       "      <td>2024-07-04</td>\n",
       "      <td>12</td>\n",
       "    </tr>\n",
       "  </tbody>\n",
       "</table>\n",
       "</div>"
      ],
      "text/plain": [
       "        date dateFormatted activeUsers\n",
       "10  20240616    2024-06-16           2\n",
       "0   20240617    2024-06-17          23\n",
       "3   20240618    2024-06-18           9\n",
       "7   20240619    2024-06-19           6\n",
       "4   20240620    2024-06-20           8\n",
       "9   20240621    2024-06-21           3\n",
       "14  20240623    2024-06-23           1\n",
       "8   20240624    2024-06-24           6\n",
       "5   20240625    2024-06-25           8\n",
       "11  20240626    2024-06-26           2\n",
       "12  20240627    2024-06-27           2\n",
       "1   20240701    2024-07-01          16\n",
       "6   20240702    2024-07-02           8\n",
       "13  20240703    2024-07-03           2\n",
       "2   20240704    2024-07-04          12"
      ]
     },
     "execution_count": 26,
     "metadata": {},
     "output_type": "execute_result"
    }
   ],
   "source": [
    "df[[\"date\", \"dateFormatted\", \"activeUsers\"]].sort_values(by=\"dateFormatted\")"
   ]
  }
 ],
 "metadata": {
  "kernelspec": {
   "display_name": "Python 3",
   "language": "python",
   "name": "python3"
  },
  "language_info": {
   "codemirror_mode": {
    "name": "ipython",
    "version": 3
   },
   "file_extension": ".py",
   "mimetype": "text/x-python",
   "name": "python",
   "nbconvert_exporter": "python",
   "pygments_lexer": "ipython3",
   "version": "3.10.6"
  }
 },
 "nbformat": 4,
 "nbformat_minor": 2
}
